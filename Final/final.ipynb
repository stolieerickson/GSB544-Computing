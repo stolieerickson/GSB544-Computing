{
 "cells": [
  {
   "cell_type": "markdown",
   "metadata": {},
   "source": [
    "Classification"
   ]
  },
  {
   "cell_type": "code",
   "execution_count": 203,
   "metadata": {},
   "outputs": [],
   "source": [
    "#import packages\n",
    "import pandas as pd\n",
    "import numpy as np\n",
    "from sklearn.model_selection import train_test_split, GridSearchCV\n",
    "from sklearn.pipeline import Pipeline\n",
    "from sklearn.compose import ColumnTransformer, make_column_selector\n",
    "from sklearn.preprocessing import StandardScaler, OneHotEncoder\n",
    "from sklearn.impute import SimpleImputer\n",
    "from sklearn.svm import SVC\n",
    "from sklearn.metrics import accuracy_score, classification_report"
   ]
  },
  {
   "cell_type": "code",
   "execution_count": 205,
   "metadata": {},
   "outputs": [],
   "source": [
    "#reading in the data\n",
    "#training\n",
    "tdata1 = pd.read_csv(\"/Users/stolieerickson/Documents/MSBA/Fall/GSB544-Computing/Final/political_train.csv\")\n",
    "#validation\n",
    "vdata1 = pd.read_csv(\"/Users/stolieerickson/Documents/MSBA/Fall/GSB544-Computing/Final/political_test.csv\")\n",
    "#predictors and response\n",
    "X = tdata1.drop(columns=['id_num', 'political_affiliation'], axis=1)\n",
    "y = tdata1['political_affiliation']"
   ]
  },
  {
   "cell_type": "code",
   "execution_count": 324,
   "metadata": {},
   "outputs": [
    {
     "data": {
      "text/plain": [
       "id_num                   0\n",
       "Q1                       0\n",
       "Q2                       0\n",
       "political_affiliation    0\n",
       "Q4                       0\n",
       "Q5                       0\n",
       "Q6                       0\n",
       "Q7                       0\n",
       "Q8                       0\n",
       "Q9                       0\n",
       "Q10                      0\n",
       "Q11                      0\n",
       "Q12                      0\n",
       "Q13                      0\n",
       "Q14                      0\n",
       "Q15                      0\n",
       "Q16                      0\n",
       "Q17                      0\n",
       "Q18                      0\n",
       "dtype: int64"
      ]
     },
     "execution_count": null,
     "metadata": {},
     "output_type": "execute_result"
    }
   ],
   "source": [
    "tdata1.isnull().sum()"
   ]
  },
  {
   "cell_type": "code",
   "execution_count": 323,
   "metadata": {},
   "outputs": [
    {
     "name": "stdout",
     "output_type": "stream",
     "text": [
      "Fitting 10 folds for each of 12 candidates, totalling 120 fits\n",
      "Fitting 10 folds for each of 12 candidates, totalling 120 fits\n"
     ]
    },
    {
     "name": "stdout",
     "output_type": "stream",
     "text": [
      "Best Parameters: {'classifier__C': 0.1, 'classifier__gamma': 'scale', 'classifier__kernel': 'linear'}\n",
      "Best Cross-Validated Accuracy: 0.6510989010989012\n",
      "Test Set Accuracy: 0.5588235294117647\n",
      "\n",
      "Classification Report:\n",
      "               precision    recall  f1-score   support\n",
      "\n",
      "    Democrat       0.67      0.67      0.67        12\n",
      " Independent       0.30      0.33      0.32         9\n",
      "  Republican       0.67      0.62      0.64        13\n",
      "\n",
      "    accuracy                           0.56        34\n",
      "   macro avg       0.54      0.54      0.54        34\n",
      "weighted avg       0.57      0.56      0.56        34\n",
      "\n",
      "Best Parameters: {'classifier__C': 0.1, 'classifier__gamma': 'scale', 'classifier__kernel': 'linear'}\n",
      "Best Cross-Validated Accuracy: 0.6510989010989012\n",
      "Test Set Accuracy: 0.5588235294117647\n",
      "\n",
      "Classification Report:\n",
      "               precision    recall  f1-score   support\n",
      "\n",
      "    Democrat       0.67      0.67      0.67        12\n",
      " Independent       0.30      0.33      0.32         9\n",
      "  Republican       0.67      0.62      0.64        13\n",
      "\n",
      "    accuracy                           0.56        34\n",
      "   macro avg       0.54      0.54      0.54        34\n",
      "weighted avg       0.57      0.56      0.56        34\n",
      "\n"
     ]
    }
   ],
   "source": [
    "#preprocessing\n",
    "preprocessor = ColumnTransformer([\n",
    "    ('num', Pipeline([\n",
    "        ('imputer', SimpleImputer(strategy='mean')), \n",
    "        ('scaler', StandardScaler())\n",
    "    ]), make_column_selector(dtype_include=np.number)),\n",
    "    \n",
    "    ('cat', Pipeline([\n",
    "        ('imputer', SimpleImputer(strategy='most_frequent')),\n",
    "        ('encoder', OneHotEncoder(handle_unknown='ignore'))\n",
    "    ]), make_column_selector(dtype_include=object))\n",
    "])\n",
    "\n",
    "#pipeline\n",
    "pipeline = Pipeline([\n",
    "    ('preprocessor', preprocessor),\n",
    "    ('classifier', SVC())\n",
    "])\n",
    "\n",
    "#define tuning grid\n",
    "param_grid = {\n",
    "    'classifier__C': [0.1, 1, 10],          \n",
    "    'classifier__kernel': ['linear', 'rbf'], \n",
    "    'classifier__gamma': ['scale', 'auto']  \n",
    "}\n",
    "\n",
    "#train test split\n",
    "X_train, X_test, y_train, y_test = train_test_split(X, y, test_size=0.2)\n",
    "\n",
    "#gridsearch\n",
    "grid_search = GridSearchCV(\n",
    "    estimator=pipeline,\n",
    "    param_grid=param_grid,\n",
    "    cv=10,  \n",
    "    n_jobs=-1,  \n",
    "    verbose=2  \n",
    ")\n",
    "\n",
    "#train with the best parameters\n",
    "grid_search.fit(X_train, y_train)\n",
    "\n",
    "#print\n",
    "print(\"Best Parameters:\", grid_search.best_params_)\n",
    "print(\"Best Cross-Validated Accuracy:\", grid_search.best_score_)\n",
    "\n",
    "#make predictions\n",
    "best_model = grid_search.best_estimator_\n",
    "y_pred = best_model.predict(X_test)\n",
    "\n",
    "#evaluate performance\n",
    "accuracy = accuracy_score(y_test, y_pred)\n",
    "print(\"Test Set Accuracy:\", accuracy)\n",
    "print(\"\\nClassification Report:\\n\", classification_report(y_test, y_pred))"
   ]
  },
  {
   "cell_type": "markdown",
   "metadata": {},
   "source": [
    "Model specifications with the most similar cv and test accuracy:\n",
    "\n",
    "model1: \n",
    "- classifier_C = 10\n",
    "- classifier_gamma = auto\n",
    "- classifier_kernel = rbf\n",
    "\n",
    "model2:\n",
    "- classifier_C = 0.1\n",
    "- classifier_gamma = scale\n",
    "- classifier_kernel = linear\n",
    "\n",
    "model3:\n",
    "- classifier_C = 1\n",
    "- classifier_gamma = scale\n",
    "- classifier_kernel = linear"
   ]
  },
  {
   "cell_type": "code",
   "execution_count": 331,
   "metadata": {},
   "outputs": [
    {
     "name": "stdout",
     "output_type": "stream",
     "text": [
      "Model 1 - SVM (C=10, gamma='auto', kernel='rbf')\n",
      "Test Accuracy: 0.6471\n",
      "\n",
      "Classification Report:\n",
      "               precision    recall  f1-score   support\n",
      "\n",
      "    Democrat       0.64      0.78      0.70         9\n",
      " Independent       0.60      0.46      0.52        13\n",
      "  Republican       0.69      0.75      0.72        12\n",
      "\n",
      "    accuracy                           0.65        34\n",
      "   macro avg       0.64      0.66      0.65        34\n",
      "weighted avg       0.64      0.65      0.64        34\n",
      "\n",
      "Model 1 - SVM (C=10, gamma='auto', kernel='rbf')\n",
      "Test Accuracy: 0.6471\n",
      "\n",
      "Classification Report:\n",
      "               precision    recall  f1-score   support\n",
      "\n",
      "    Democrat       0.64      0.78      0.70         9\n",
      " Independent       0.60      0.46      0.52        13\n",
      "  Republican       0.69      0.75      0.72        12\n",
      "\n",
      "    accuracy                           0.65        34\n",
      "   macro avg       0.64      0.66      0.65        34\n",
      "weighted avg       0.64      0.65      0.64        34\n",
      "\n"
     ]
    }
   ],
   "source": [
    "#model1\n",
    "X_train, X_test, y_train, y_test = train_test_split(X, y, test_size=0.2, random_state=None)\n",
    "\n",
    "#pipeline\n",
    "pipeline_model1 = Pipeline([\n",
    "    ('preprocessor', preprocessor),\n",
    "    ('model', SVC(C=10, gamma='auto', kernel='rbf'))\n",
    "])\n",
    "\n",
    "#fit the model\n",
    "pipeline_model1.fit(X_train, y_train)\n",
    "\n",
    "#predict and evaluate\n",
    "y_pred = pipeline_model1.predict(X_test)\n",
    "accuracy = accuracy_score(y_test, y_pred)\n",
    "\n",
    "#print\n",
    "print(f\"Model 1 - SVM (C=10, gamma='auto', kernel='rbf')\")\n",
    "print(f\"Test Accuracy: {accuracy:.4f}\")\n",
    "print(\"\\nClassification Report:\\n\", classification_report(y_test, y_pred))\n"
   ]
  },
  {
   "cell_type": "code",
   "execution_count": 318,
   "metadata": {},
   "outputs": [
    {
     "name": "stdout",
     "output_type": "stream",
     "text": [
      "Model 2 - SVM (C=0.1, gamma='scale', kernel='linear')\n",
      "Test Accuracy: 0.7059\n",
      "\n",
      "Classification Report:\n",
      "               precision    recall  f1-score   support\n",
      "\n",
      "    Democrat       0.53      0.80      0.64        10\n",
      " Independent       0.78      0.58      0.67        12\n",
      "  Republican       0.90      0.75      0.82        12\n",
      "\n",
      "    accuracy                           0.71        34\n",
      "   macro avg       0.74      0.71      0.71        34\n",
      "weighted avg       0.75      0.71      0.71        34\n",
      "\n",
      "Model 2 - SVM (C=0.1, gamma='scale', kernel='linear')\n",
      "Test Accuracy: 0.7059\n",
      "\n",
      "Classification Report:\n",
      "               precision    recall  f1-score   support\n",
      "\n",
      "    Democrat       0.53      0.80      0.64        10\n",
      " Independent       0.78      0.58      0.67        12\n",
      "  Republican       0.90      0.75      0.82        12\n",
      "\n",
      "    accuracy                           0.71        34\n",
      "   macro avg       0.74      0.71      0.71        34\n",
      "weighted avg       0.75      0.71      0.71        34\n",
      "\n"
     ]
    }
   ],
   "source": [
    "#model2\n",
    "X_train, X_test, y_train, y_test = train_test_split(X, y, test_size=0.2, random_state=None)\n",
    "\n",
    "#pipeline\n",
    "pipeline_model2 = Pipeline([\n",
    "    ('preprocessor', preprocessor),\n",
    "    ('model', SVC(C=0.1, gamma='scale', kernel='linear'))\n",
    "])\n",
    "\n",
    "#fit the model\n",
    "pipeline_model2.fit(X_train, y_train)\n",
    "\n",
    "#predict and evaluate\n",
    "y_pred = pipeline_model2.predict(X_test)\n",
    "accuracy = accuracy_score(y_test, y_pred)\n",
    "\n",
    "#print\n",
    "print(f\"Model 2 - SVM (C=0.1, gamma='scale', kernel='linear')\")\n",
    "print(f\"Test Accuracy: {accuracy:.4f}\")\n",
    "print(\"\\nClassification Report:\\n\", classification_report(y_test, y_pred))\n"
   ]
  },
  {
   "cell_type": "code",
   "execution_count": 362,
   "metadata": {},
   "outputs": [
    {
     "name": "stdout",
     "output_type": "stream",
     "text": [
      "Model 3 - SVM (C=1, gamma='scale', kernel='linear')\n",
      "Test Accuracy: 0.6765\n",
      "\n",
      "Classification Report:\n",
      "               precision    recall  f1-score   support\n",
      "\n",
      "    Democrat       0.67      0.40      0.50        10\n",
      " Independent       0.54      0.64      0.58        11\n",
      "  Republican       0.80      0.92      0.86        13\n",
      "\n",
      "    accuracy                           0.68        34\n",
      "   macro avg       0.67      0.65      0.65        34\n",
      "weighted avg       0.68      0.68      0.66        34\n",
      "\n",
      "Model 3 - SVM (C=1, gamma='scale', kernel='linear')\n",
      "Test Accuracy: 0.6765\n",
      "\n",
      "Classification Report:\n",
      "               precision    recall  f1-score   support\n",
      "\n",
      "    Democrat       0.67      0.40      0.50        10\n",
      " Independent       0.54      0.64      0.58        11\n",
      "  Republican       0.80      0.92      0.86        13\n",
      "\n",
      "    accuracy                           0.68        34\n",
      "   macro avg       0.67      0.65      0.65        34\n",
      "weighted avg       0.68      0.68      0.66        34\n",
      "\n"
     ]
    }
   ],
   "source": [
    "#model3\n",
    "X_train, X_test, y_train, y_test = train_test_split(X, y, test_size=0.2, random_state=None)\n",
    "\n",
    "#pipeline\n",
    "pipeline_model3 = Pipeline([\n",
    "    ('preprocessor', preprocessor),\n",
    "    ('model', SVC(C=1, gamma='scale', kernel='linear'))\n",
    "])\n",
    "\n",
    "#fit the model\n",
    "pipeline_model3.fit(X_train, y_train)\n",
    "\n",
    "#predict and evaluate\n",
    "y_pred = pipeline_model3.predict(X_test)\n",
    "accuracy = accuracy_score(y_test, y_pred)\n",
    "\n",
    "#print\n",
    "print(f\"Model 3 - SVM (C=1, gamma='scale', kernel='linear')\")\n",
    "print(f\"Test Accuracy: {accuracy:.4f}\")\n",
    "print(\"\\nClassification Report:\\n\", classification_report(y_test, y_pred))\n"
   ]
  },
  {
   "cell_type": "markdown",
   "metadata": {},
   "source": [
    "## Attempt 1 (Model2)"
   ]
  },
  {
   "cell_type": "code",
   "execution_count": 367,
   "metadata": {},
   "outputs": [
    {
     "data": {
      "text/plain": [
       "political_affiliation_predicted\n",
       "Independent    37.951807\n",
       "Democrat       37.349398\n",
       "Republican     24.698795\n",
       "Name: proportion, dtype: float64"
      ]
     },
     "execution_count": null,
     "metadata": {},
     "output_type": "execute_result"
    }
   ],
   "source": [
    "#drop id\n",
    "X_test = vdata1.drop(columns=['id_num'], axis=1)\n",
    "\n",
    "#pipeline\n",
    "pipeline_model2 = Pipeline([\n",
    "    ('preprocessor', preprocessor),\n",
    "    ('model', SVC(C=0.1, gamma='scale', kernel='linear'))\n",
    "])\n",
    "\n",
    "#fit the model on the entire dataset\n",
    "pipeline_model2.fit(X, y)\n",
    "\n",
    "#predict\n",
    "political_affiliation_predictions = pipeline_model2.predict(X_test)\n",
    "\n",
    "#save to dataframe\n",
    "final_predictions = pd.DataFrame({\n",
    "    \"id_num\": vdata1['id_num'],\n",
    "    \"political_affiliation_predicted\": political_affiliation_predictions\n",
    "})\n",
    "\n",
    "#write to a csv\n",
    "final_predictions.to_csv(\"/Users/stolieerickson/Documents/MSBA/Fall/GSB544-Computing/Final/final_party_predictions.csv\", index=False)\n"
   ]
  },
  {
   "cell_type": "markdown",
   "metadata": {},
   "source": [
    "## Attempt 2 "
   ]
  },
  {
   "cell_type": "code",
   "execution_count": 369,
   "metadata": {},
   "outputs": [
    {
     "data": {
      "text/plain": [
       "political_affiliation_predicted\n",
       "Independent    39.759036\n",
       "Democrat       36.746988\n",
       "Republican     23.493976\n",
       "Name: proportion, dtype: float64"
      ]
     },
     "execution_count": null,
     "metadata": {},
     "output_type": "execute_result"
    }
   ],
   "source": [
    "\n",
    "#drop id column\n",
    "X_test = vdata1.drop(columns=['id_num'], axis=1)\n",
    "\n",
    "#pipeline\n",
    "pipeline_model1 = Pipeline([\n",
    "    ('preprocessor', preprocessor),\n",
    "    ('model', SVC(C=10, gamma='auto', kernel='rbf'))\n",
    "])\n",
    "\n",
    "# fit the model on the entire dataset\n",
    "pipeline_model1.fit(X, y)\n",
    "\n",
    "#predict\n",
    "political_affiliation_predictions = pipeline_model1.predict(X_test)\n",
    "\n",
    "#create dataframe\n",
    "final_predictions = pd.DataFrame({\n",
    "    \"id_num\": vdata1['id_num'],\n",
    "    \"political_affiliation_predicted\": political_affiliation_predictions\n",
    "})\n",
    "\n",
    "#write to a csv file\n",
    "final_predictions.to_csv(\"/Users/stolieerickson/Documents/MSBA/Fall/GSB544-Computing/Final/final_party_predictions2.csv\", index=False)"
   ]
  },
  {
   "cell_type": "markdown",
   "metadata": {},
   "source": [
    "## Attempt 3"
   ]
  },
  {
   "cell_type": "code",
   "execution_count": 371,
   "metadata": {},
   "outputs": [
    {
     "name": "stdout",
     "output_type": "stream",
     "text": [
      "   id_num  ... political_affiliation_predicted_2\n",
      "0       2  ...                        Republican\n",
      "1       3  ...                          Democrat\n",
      "2       4  ...                       Independent\n",
      "3       6  ...                        Republican\n",
      "4      11  ...                       Independent\n",
      "\n",
      "[5 rows x 3 columns]\n",
      "Number of matching predictions: 152 out of 166\n",
      "Percentage of matching predictions: 91.57%\n",
      "   id_num  ... political_affiliation_predicted_2\n",
      "0       2  ...                        Republican\n",
      "1       3  ...                          Democrat\n",
      "2       4  ...                       Independent\n",
      "3       6  ...                        Republican\n",
      "4      11  ...                       Independent\n",
      "\n",
      "[5 rows x 3 columns]\n",
      "Number of matching predictions: 152 out of 166\n",
      "Percentage of matching predictions: 91.57%\n"
     ]
    }
   ],
   "source": [
    "#drop id\n",
    "X_test = vdata1.drop(columns=['id_num'], axis=1)\n",
    "\n",
    "#pipeline\n",
    "pipeline_model3 = Pipeline([\n",
    "    ('preprocessor', preprocessor),\n",
    "    ('model', SVC(C=1, gamma='scale', kernel='linear'))\n",
    "])\n",
    "\n",
    "#fit on entire dataset\n",
    "pipeline_model3.fit(X, y)\n",
    "\n",
    "#predict\n",
    "political_affiliation_predictions = pipeline_model3.predict(X_test)\n",
    "\n",
    "#save to dataframe\n",
    "final_predictions = pd.DataFrame({\n",
    "    \"id_num\": vdata1['id_num'],\n",
    "    \"political_affiliation_predicted\": political_affiliation_predictions\n",
    "})\n"
   ]
  },
  {
   "cell_type": "markdown",
   "metadata": {},
   "source": [
    "# Regression"
   ]
  },
  {
   "cell_type": "code",
   "execution_count": 154,
   "metadata": {},
   "outputs": [],
   "source": [
    "#reading in the data\n",
    "#training\n",
    "tdata2 = pd.read_csv(\"/Users/stolieerickson/Documents/MSBA/Fall/GSB544-Computing/Final/house_train.csv\")\n",
    "#validation\n",
    "vdata2 = pd.read_csv(\"/Users/stolieerickson/Documents/MSBA/Fall/GSB544-Computing/Final/house_test.csv\")"
   ]
  },
  {
   "cell_type": "markdown",
   "metadata": {},
   "source": [
    "## Attempt 1"
   ]
  },
  {
   "cell_type": "code",
   "execution_count": 200,
   "metadata": {},
   "outputs": [
    {
     "name": "stderr",
     "output_type": "stream",
     "text": [
      "/opt/anaconda3/lib/python3.12/site-packages/sklearn/linear_model/_coordinate_descent.py:639: ConvergenceWarning: Objective did not converge. You might want to increase the number of iterations. Duality gap: 16.05723081034703, tolerance: 0.026838515418293213\n",
      "  model = cd_fast.sparse_enet_coordinate_descent(\n",
      "/opt/anaconda3/lib/python3.12/site-packages/sklearn/linear_model/_coordinate_descent.py:639: ConvergenceWarning: Objective did not converge. You might want to increase the number of iterations. Duality gap: 15.732870341261581, tolerance: 0.026323270849992947\n",
      "  model = cd_fast.sparse_enet_coordinate_descent(\n",
      "/opt/anaconda3/lib/python3.12/site-packages/sklearn/linear_model/_coordinate_descent.py:639: ConvergenceWarning: Objective did not converge. You might want to increase the number of iterations. Duality gap: 15.633859441203471, tolerance: 0.02673391356465493\n",
      "  model = cd_fast.sparse_enet_coordinate_descent(\n",
      "/opt/anaconda3/lib/python3.12/site-packages/sklearn/linear_model/_coordinate_descent.py:639: ConvergenceWarning: Objective did not converge. You might want to increase the number of iterations. Duality gap: 15.816102449191911, tolerance: 0.027185486061137364\n",
      "  model = cd_fast.sparse_enet_coordinate_descent(\n",
      "/opt/anaconda3/lib/python3.12/site-packages/sklearn/linear_model/_coordinate_descent.py:639: ConvergenceWarning: Objective did not converge. You might want to increase the number of iterations. Duality gap: 15.06612464670672, tolerance: 0.026002466449909657\n",
      "  model = cd_fast.sparse_enet_coordinate_descent(\n",
      "/opt/anaconda3/lib/python3.12/site-packages/sklearn/linear_model/_coordinate_descent.py:639: ConvergenceWarning: Objective did not converge. You might want to increase the number of iterations. Duality gap: 16.28664235718701, tolerance: 0.02722735340562419\n",
      "  model = cd_fast.sparse_enet_coordinate_descent(\n",
      "/opt/anaconda3/lib/python3.12/site-packages/sklearn/linear_model/_coordinate_descent.py:639: ConvergenceWarning: Objective did not converge. You might want to increase the number of iterations. Duality gap: 15.723884037615695, tolerance: 0.026441201510946376\n",
      "  model = cd_fast.sparse_enet_coordinate_descent(\n",
      "/opt/anaconda3/lib/python3.12/site-packages/sklearn/linear_model/_coordinate_descent.py:639: ConvergenceWarning: Objective did not converge. You might want to increase the number of iterations. Duality gap: 14.362336969289672, tolerance: 0.027535892716226324\n",
      "  model = cd_fast.sparse_enet_coordinate_descent(\n"
     ]
    },
    {
     "name": "stderr",
     "output_type": "stream",
     "text": [
      "/opt/anaconda3/lib/python3.12/site-packages/sklearn/linear_model/_coordinate_descent.py:639: ConvergenceWarning: Objective did not converge. You might want to increase the number of iterations. Duality gap: 14.442183801070847, tolerance: 0.027755377835676314\n",
      "  model = cd_fast.sparse_enet_coordinate_descent(\n",
      "/opt/anaconda3/lib/python3.12/site-packages/sklearn/linear_model/_coordinate_descent.py:639: ConvergenceWarning: Objective did not converge. You might want to increase the number of iterations. Duality gap: 15.765383318693473, tolerance: 0.026984621713196624\n",
      "  model = cd_fast.sparse_enet_coordinate_descent(\n"
     ]
    },
    {
     "name": "stderr",
     "output_type": "stream",
     "text": [
      "/opt/anaconda3/lib/python3.12/site-packages/sklearn/linear_model/_coordinate_descent.py:639: ConvergenceWarning: Objective did not converge. You might want to increase the number of iterations. Duality gap: 15.864517832394425, tolerance: 0.026002466449909657\n",
      "  model = cd_fast.sparse_enet_coordinate_descent(\n",
      "/opt/anaconda3/lib/python3.12/site-packages/sklearn/linear_model/_coordinate_descent.py:639: ConvergenceWarning: Objective did not converge. You might want to increase the number of iterations. Duality gap: 16.650485935668303, tolerance: 0.027185486061137364\n",
      "  model = cd_fast.sparse_enet_coordinate_descent(\n",
      "/opt/anaconda3/lib/python3.12/site-packages/sklearn/linear_model/_coordinate_descent.py:639: ConvergenceWarning: Objective did not converge. You might want to increase the number of iterations. Duality gap: 16.48695269011446, tolerance: 0.02673391356465493\n",
      "  model = cd_fast.sparse_enet_coordinate_descent(\n",
      "/opt/anaconda3/lib/python3.12/site-packages/sklearn/linear_model/_coordinate_descent.py:639: ConvergenceWarning: Objective did not converge. You might want to increase the number of iterations. Duality gap: 16.36232504146476, tolerance: 0.026323270849992947\n",
      "  model = cd_fast.sparse_enet_coordinate_descent(\n",
      "/opt/anaconda3/lib/python3.12/site-packages/sklearn/linear_model/_coordinate_descent.py:639: ConvergenceWarning: Objective did not converge. You might want to increase the number of iterations. Duality gap: 15.15966625084058, tolerance: 0.027535892716226324\n",
      "  model = cd_fast.sparse_enet_coordinate_descent(\n",
      "/opt/anaconda3/lib/python3.12/site-packages/sklearn/linear_model/_coordinate_descent.py:639: ConvergenceWarning: Objective did not converge. You might want to increase the number of iterations. Duality gap: 17.109311127149454, tolerance: 0.02722735340562419\n",
      "  model = cd_fast.sparse_enet_coordinate_descent(\n"
     ]
    },
    {
     "name": "stderr",
     "output_type": "stream",
     "text": [
      "/opt/anaconda3/lib/python3.12/site-packages/sklearn/linear_model/_coordinate_descent.py:639: ConvergenceWarning: Objective did not converge. You might want to increase the number of iterations. Duality gap: 16.92643476249721, tolerance: 0.026838515418293213\n",
      "  model = cd_fast.sparse_enet_coordinate_descent(\n",
      "/opt/anaconda3/lib/python3.12/site-packages/sklearn/linear_model/_coordinate_descent.py:639: ConvergenceWarning: Objective did not converge. You might want to increase the number of iterations. Duality gap: 16.563587275771972, tolerance: 0.026441201510946376\n",
      "  model = cd_fast.sparse_enet_coordinate_descent(\n"
     ]
    },
    {
     "name": "stderr",
     "output_type": "stream",
     "text": [
      "/opt/anaconda3/lib/python3.12/site-packages/sklearn/linear_model/_coordinate_descent.py:639: ConvergenceWarning: Objective did not converge. You might want to increase the number of iterations. Duality gap: 16.61651826548857, tolerance: 0.026984621713196624\n",
      "  model = cd_fast.sparse_enet_coordinate_descent(\n",
      "/opt/anaconda3/lib/python3.12/site-packages/sklearn/linear_model/_coordinate_descent.py:639: ConvergenceWarning: Objective did not converge. You might want to increase the number of iterations. Duality gap: 15.240586884664799, tolerance: 0.027755377835676314\n",
      "  model = cd_fast.sparse_enet_coordinate_descent(\n"
     ]
    },
    {
     "name": "stderr",
     "output_type": "stream",
     "text": [
      "/opt/anaconda3/lib/python3.12/site-packages/sklearn/linear_model/_coordinate_descent.py:639: ConvergenceWarning: Objective did not converge. You might want to increase the number of iterations. Duality gap: 17.054659658448454, tolerance: 0.026002466449909657\n",
      "  model = cd_fast.sparse_enet_coordinate_descent(\n",
      "/opt/anaconda3/lib/python3.12/site-packages/sklearn/linear_model/_coordinate_descent.py:639: ConvergenceWarning: Objective did not converge. You might want to increase the number of iterations. Duality gap: 17.742332512972872, tolerance: 0.02673391356465493\n",
      "  model = cd_fast.sparse_enet_coordinate_descent(\n",
      "/opt/anaconda3/lib/python3.12/site-packages/sklearn/linear_model/_coordinate_descent.py:639: ConvergenceWarning: Objective did not converge. You might want to increase the number of iterations. Duality gap: 17.48100505376819, tolerance: 0.026323270849992947\n",
      "  model = cd_fast.sparse_enet_coordinate_descent(\n",
      "/opt/anaconda3/lib/python3.12/site-packages/sklearn/linear_model/_coordinate_descent.py:639: ConvergenceWarning: Objective did not converge. You might want to increase the number of iterations. Duality gap: 17.902673154006123, tolerance: 0.027185486061137364\n",
      "  model = cd_fast.sparse_enet_coordinate_descent(\n",
      "/opt/anaconda3/lib/python3.12/site-packages/sklearn/linear_model/_coordinate_descent.py:639: ConvergenceWarning: Objective did not converge. You might want to increase the number of iterations. Duality gap: 16.376775045067042, tolerance: 0.027535892716226324\n",
      "  model = cd_fast.sparse_enet_coordinate_descent(\n",
      "/opt/anaconda3/lib/python3.12/site-packages/sklearn/linear_model/_coordinate_descent.py:639: ConvergenceWarning: Objective did not converge. You might want to increase the number of iterations. Duality gap: 18.349097914761742, tolerance: 0.02722735340562419\n",
      "  model = cd_fast.sparse_enet_coordinate_descent(\n",
      "/opt/anaconda3/lib/python3.12/site-packages/sklearn/linear_model/_coordinate_descent.py:639: ConvergenceWarning: Objective did not converge. You might want to increase the number of iterations. Duality gap: 18.234659994689846, tolerance: 0.026838515418293213\n",
      "  model = cd_fast.sparse_enet_coordinate_descent(\n",
      "/opt/anaconda3/lib/python3.12/site-packages/sklearn/linear_model/_coordinate_descent.py:639: ConvergenceWarning: Objective did not converge. You might want to increase the number of iterations. Duality gap: 17.826905690167504, tolerance: 0.026441201510946376\n",
      "  model = cd_fast.sparse_enet_coordinate_descent(\n"
     ]
    },
    {
     "name": "stderr",
     "output_type": "stream",
     "text": [
      "/opt/anaconda3/lib/python3.12/site-packages/sklearn/linear_model/_coordinate_descent.py:639: ConvergenceWarning: Objective did not converge. You might want to increase the number of iterations. Duality gap: 17.92071940608681, tolerance: 0.026984621713196624\n",
      "  model = cd_fast.sparse_enet_coordinate_descent(\n",
      "/opt/anaconda3/lib/python3.12/site-packages/sklearn/linear_model/_coordinate_descent.py:639: ConvergenceWarning: Objective did not converge. You might want to increase the number of iterations. Duality gap: 16.429507005863204, tolerance: 0.027755377835676314\n",
      "  model = cd_fast.sparse_enet_coordinate_descent(\n"
     ]
    },
    {
     "name": "stderr",
     "output_type": "stream",
     "text": [
      "/opt/anaconda3/lib/python3.12/site-packages/sklearn/linear_model/_coordinate_descent.py:639: ConvergenceWarning: Objective did not converge. You might want to increase the number of iterations. Duality gap: 18.90432609630235, tolerance: 0.026002466449909657\n",
      "  model = cd_fast.sparse_enet_coordinate_descent(\n",
      "/opt/anaconda3/lib/python3.12/site-packages/sklearn/linear_model/_coordinate_descent.py:639: ConvergenceWarning: Objective did not converge. You might want to increase the number of iterations. Duality gap: 19.341449418402547, tolerance: 0.026323270849992947\n",
      "  model = cd_fast.sparse_enet_coordinate_descent(\n",
      "/opt/anaconda3/lib/python3.12/site-packages/sklearn/linear_model/_coordinate_descent.py:639: ConvergenceWarning: Objective did not converge. You might want to increase the number of iterations. Duality gap: 19.908916921159722, tolerance: 0.026984621713196624\n",
      "  model = cd_fast.sparse_enet_coordinate_descent(\n",
      "/opt/anaconda3/lib/python3.12/site-packages/sklearn/linear_model/_coordinate_descent.py:639: ConvergenceWarning: Objective did not converge. You might want to increase the number of iterations. Duality gap: 20.23769354324176, tolerance: 0.026838515418293213\n",
      "  model = cd_fast.sparse_enet_coordinate_descent(\n",
      "/opt/anaconda3/lib/python3.12/site-packages/sklearn/linear_model/_coordinate_descent.py:639: ConvergenceWarning: Objective did not converge. You might want to increase the number of iterations. Duality gap: 18.29540395639529, tolerance: 0.027535892716226324\n",
      "  model = cd_fast.sparse_enet_coordinate_descent(\n"
     ]
    },
    {
     "name": "stderr",
     "output_type": "stream",
     "text": [
      "/opt/anaconda3/lib/python3.12/site-packages/sklearn/linear_model/_coordinate_descent.py:639: ConvergenceWarning: Objective did not converge. You might want to increase the number of iterations. Duality gap: 19.843529348948323, tolerance: 0.027185486061137364\n",
      "  model = cd_fast.sparse_enet_coordinate_descent(\n",
      "/opt/anaconda3/lib/python3.12/site-packages/sklearn/linear_model/_coordinate_descent.py:639: ConvergenceWarning: Objective did not converge. You might want to increase the number of iterations. Duality gap: 19.67301827119588, tolerance: 0.02673391356465493\n",
      "  model = cd_fast.sparse_enet_coordinate_descent(\n",
      "/opt/anaconda3/lib/python3.12/site-packages/sklearn/linear_model/_coordinate_descent.py:639: ConvergenceWarning: Objective did not converge. You might want to increase the number of iterations. Duality gap: 20.26960054884124, tolerance: 0.02722735340562419\n",
      "  model = cd_fast.sparse_enet_coordinate_descent(\n",
      "/opt/anaconda3/lib/python3.12/site-packages/sklearn/linear_model/_coordinate_descent.py:639: ConvergenceWarning: Objective did not converge. You might want to increase the number of iterations. Duality gap: 19.776667167723957, tolerance: 0.026441201510946376\n",
      "  model = cd_fast.sparse_enet_coordinate_descent(\n",
      "/opt/anaconda3/lib/python3.12/site-packages/sklearn/linear_model/_coordinate_descent.py:639: ConvergenceWarning: Objective did not converge. You might want to increase the number of iterations. Duality gap: 18.31037775914611, tolerance: 0.027755377835676314\n",
      "  model = cd_fast.sparse_enet_coordinate_descent(\n"
     ]
    },
    {
     "name": "stderr",
     "output_type": "stream",
     "text": [
      "/opt/anaconda3/lib/python3.12/site-packages/sklearn/linear_model/_coordinate_descent.py:639: ConvergenceWarning: Objective did not converge. You might want to increase the number of iterations. Duality gap: 22.028142460697033, tolerance: 0.026002466449909657\n",
      "  model = cd_fast.sparse_enet_coordinate_descent(\n",
      "/opt/anaconda3/lib/python3.12/site-packages/sklearn/linear_model/_coordinate_descent.py:639: ConvergenceWarning: Objective did not converge. You might want to increase the number of iterations. Duality gap: 22.492433730979993, tolerance: 0.026323270849992947\n",
      "  model = cd_fast.sparse_enet_coordinate_descent(\n",
      "/opt/anaconda3/lib/python3.12/site-packages/sklearn/linear_model/_coordinate_descent.py:639: ConvergenceWarning: Objective did not converge. You might want to increase the number of iterations. Duality gap: 23.513671344499063, tolerance: 0.026838515418293213\n",
      "  model = cd_fast.sparse_enet_coordinate_descent(\n",
      "/opt/anaconda3/lib/python3.12/site-packages/sklearn/linear_model/_coordinate_descent.py:639: ConvergenceWarning: Objective did not converge. You might want to increase the number of iterations. Duality gap: 21.572174033076017, tolerance: 0.027535892716226324\n",
      "  model = cd_fast.sparse_enet_coordinate_descent(\n",
      "/opt/anaconda3/lib/python3.12/site-packages/sklearn/linear_model/_coordinate_descent.py:639: ConvergenceWarning: Objective did not converge. You might want to increase the number of iterations. Duality gap: 23.141963639459128, tolerance: 0.026984621713196624\n",
      "  model = cd_fast.sparse_enet_coordinate_descent(\n"
     ]
    },
    {
     "name": "stderr",
     "output_type": "stream",
     "text": [
      "/opt/anaconda3/lib/python3.12/site-packages/sklearn/linear_model/_coordinate_descent.py:639: ConvergenceWarning: Objective did not converge. You might want to increase the number of iterations. Duality gap: 23.087869907311166, tolerance: 0.027185486061137364\n",
      "  model = cd_fast.sparse_enet_coordinate_descent(\n",
      "/opt/anaconda3/lib/python3.12/site-packages/sklearn/linear_model/_coordinate_descent.py:639: ConvergenceWarning: Objective did not converge. You might want to increase the number of iterations. Duality gap: 22.87968550415881, tolerance: 0.02673391356465493\n",
      "  model = cd_fast.sparse_enet_coordinate_descent(\n",
      "/opt/anaconda3/lib/python3.12/site-packages/sklearn/linear_model/_coordinate_descent.py:639: ConvergenceWarning: Objective did not converge. You might want to increase the number of iterations. Duality gap: 23.46910760689165, tolerance: 0.02722735340562419\n",
      "  model = cd_fast.sparse_enet_coordinate_descent(\n",
      "/opt/anaconda3/lib/python3.12/site-packages/sklearn/linear_model/_coordinate_descent.py:639: ConvergenceWarning: Objective did not converge. You might want to increase the number of iterations. Duality gap: 22.98326976569234, tolerance: 0.026441201510946376\n",
      "  model = cd_fast.sparse_enet_coordinate_descent(\n",
      "/opt/anaconda3/lib/python3.12/site-packages/sklearn/linear_model/_coordinate_descent.py:639: ConvergenceWarning: Objective did not converge. You might want to increase the number of iterations. Duality gap: 21.55379947531604, tolerance: 0.027755377835676314\n",
      "  model = cd_fast.sparse_enet_coordinate_descent(\n"
     ]
    },
    {
     "name": "stderr",
     "output_type": "stream",
     "text": [
      "/opt/anaconda3/lib/python3.12/site-packages/sklearn/linear_model/_coordinate_descent.py:639: ConvergenceWarning: Objective did not converge. You might want to increase the number of iterations. Duality gap: 27.906172944541023, tolerance: 0.026002466449909657\n",
      "  model = cd_fast.sparse_enet_coordinate_descent(\n",
      "/opt/anaconda3/lib/python3.12/site-packages/sklearn/linear_model/_coordinate_descent.py:639: ConvergenceWarning: Objective did not converge. You might want to increase the number of iterations. Duality gap: 28.305753529930843, tolerance: 0.026323270849992947\n",
      "  model = cd_fast.sparse_enet_coordinate_descent(\n",
      "/opt/anaconda3/lib/python3.12/site-packages/sklearn/linear_model/_coordinate_descent.py:639: ConvergenceWarning: Objective did not converge. You might want to increase the number of iterations. Duality gap: 29.044612130124015, tolerance: 0.026984621713196624\n",
      "  model = cd_fast.sparse_enet_coordinate_descent(\n",
      "/opt/anaconda3/lib/python3.12/site-packages/sklearn/linear_model/_coordinate_descent.py:639: ConvergenceWarning: Objective did not converge. You might want to increase the number of iterations. Duality gap: 27.75825789231539, tolerance: 0.027535892716226324\n",
      "  model = cd_fast.sparse_enet_coordinate_descent(\n",
      "/opt/anaconda3/lib/python3.12/site-packages/sklearn/linear_model/_coordinate_descent.py:639: ConvergenceWarning: Objective did not converge. You might want to increase the number of iterations. Duality gap: 29.493833740190517, tolerance: 0.026838515418293213\n",
      "  model = cd_fast.sparse_enet_coordinate_descent(\n"
     ]
    },
    {
     "name": "stderr",
     "output_type": "stream",
     "text": [
      "/opt/anaconda3/lib/python3.12/site-packages/sklearn/linear_model/_coordinate_descent.py:639: ConvergenceWarning: Objective did not converge. You might want to increase the number of iterations. Duality gap: 28.79976057217317, tolerance: 0.02673391356465493\n",
      "  model = cd_fast.sparse_enet_coordinate_descent(\n",
      "/opt/anaconda3/lib/python3.12/site-packages/sklearn/linear_model/_coordinate_descent.py:639: ConvergenceWarning: Objective did not converge. You might want to increase the number of iterations. Duality gap: 29.11687638713687, tolerance: 0.027185486061137364\n",
      "  model = cd_fast.sparse_enet_coordinate_descent(\n",
      "/opt/anaconda3/lib/python3.12/site-packages/sklearn/linear_model/_coordinate_descent.py:639: ConvergenceWarning: Objective did not converge. You might want to increase the number of iterations. Duality gap: 29.393049432165554, tolerance: 0.02722735340562419\n",
      "  model = cd_fast.sparse_enet_coordinate_descent(\n",
      "/opt/anaconda3/lib/python3.12/site-packages/sklearn/linear_model/_coordinate_descent.py:639: ConvergenceWarning: Objective did not converge. You might want to increase the number of iterations. Duality gap: 27.70485760311724, tolerance: 0.027755377835676314\n",
      "  model = cd_fast.sparse_enet_coordinate_descent(\n",
      "/opt/anaconda3/lib/python3.12/site-packages/sklearn/linear_model/_coordinate_descent.py:639: ConvergenceWarning: Objective did not converge. You might want to increase the number of iterations. Duality gap: 28.848986605403006, tolerance: 0.026441201510946376\n",
      "  model = cd_fast.sparse_enet_coordinate_descent(\n"
     ]
    },
    {
     "name": "stderr",
     "output_type": "stream",
     "text": [
      "/opt/anaconda3/lib/python3.12/site-packages/sklearn/linear_model/_coordinate_descent.py:639: ConvergenceWarning: Objective did not converge. You might want to increase the number of iterations. Duality gap: 39.27146243750522, tolerance: 0.026002466449909657\n",
      "  model = cd_fast.sparse_enet_coordinate_descent(\n",
      "/opt/anaconda3/lib/python3.12/site-packages/sklearn/linear_model/_coordinate_descent.py:639: ConvergenceWarning: Objective did not converge. You might want to increase the number of iterations. Duality gap: 39.42595686612199, tolerance: 0.026323270849992947\n",
      "  model = cd_fast.sparse_enet_coordinate_descent(\n",
      "/opt/anaconda3/lib/python3.12/site-packages/sklearn/linear_model/_coordinate_descent.py:639: ConvergenceWarning: Objective did not converge. You might want to increase the number of iterations. Duality gap: 39.69333094355369, tolerance: 0.027535892716226324\n",
      "  model = cd_fast.sparse_enet_coordinate_descent(\n",
      "/opt/anaconda3/lib/python3.12/site-packages/sklearn/linear_model/_coordinate_descent.py:639: ConvergenceWarning: Objective did not converge. You might want to increase the number of iterations. Duality gap: 40.34213669554052, tolerance: 0.026984621713196624\n",
      "  model = cd_fast.sparse_enet_coordinate_descent(\n",
      "/opt/anaconda3/lib/python3.12/site-packages/sklearn/linear_model/_coordinate_descent.py:639: ConvergenceWarning: Objective did not converge. You might want to increase the number of iterations. Duality gap: 40.895057810945744, tolerance: 0.026838515418293213\n",
      "  model = cd_fast.sparse_enet_coordinate_descent(\n"
     ]
    },
    {
     "name": "stderr",
     "output_type": "stream",
     "text": [
      "/opt/anaconda3/lib/python3.12/site-packages/sklearn/linear_model/_coordinate_descent.py:639: ConvergenceWarning: Objective did not converge. You might want to increase the number of iterations. Duality gap: 40.68830455132791, tolerance: 0.027185486061137364\n",
      "  model = cd_fast.sparse_enet_coordinate_descent(\n",
      "/opt/anaconda3/lib/python3.12/site-packages/sklearn/linear_model/_coordinate_descent.py:639: ConvergenceWarning: Objective did not converge. You might want to increase the number of iterations. Duality gap: 40.17135057068368, tolerance: 0.02673391356465493\n",
      "  model = cd_fast.sparse_enet_coordinate_descent(\n",
      "/opt/anaconda3/lib/python3.12/site-packages/sklearn/linear_model/_coordinate_descent.py:639: ConvergenceWarning: Objective did not converge. You might want to increase the number of iterations. Duality gap: 40.785944414728476, tolerance: 0.02722735340562419\n",
      "  model = cd_fast.sparse_enet_coordinate_descent(\n",
      "/opt/anaconda3/lib/python3.12/site-packages/sklearn/linear_model/_coordinate_descent.py:639: ConvergenceWarning: Objective did not converge. You might want to increase the number of iterations. Duality gap: 39.64886127533437, tolerance: 0.027755377835676314\n",
      "  model = cd_fast.sparse_enet_coordinate_descent(\n",
      "/opt/anaconda3/lib/python3.12/site-packages/sklearn/linear_model/_coordinate_descent.py:639: ConvergenceWarning: Objective did not converge. You might want to increase the number of iterations. Duality gap: 40.06776874946537, tolerance: 0.026441201510946376\n",
      "  model = cd_fast.sparse_enet_coordinate_descent(\n"
     ]
    },
    {
     "name": "stderr",
     "output_type": "stream",
     "text": [
      "/opt/anaconda3/lib/python3.12/site-packages/sklearn/linear_model/_coordinate_descent.py:639: ConvergenceWarning: Objective did not converge. You might want to increase the number of iterations. Duality gap: 58.636337125137246, tolerance: 0.026002466449909657\n",
      "  model = cd_fast.sparse_enet_coordinate_descent(\n",
      "/opt/anaconda3/lib/python3.12/site-packages/sklearn/linear_model/_coordinate_descent.py:639: ConvergenceWarning: Objective did not converge. You might want to increase the number of iterations. Duality gap: 58.493926261456764, tolerance: 0.026323270849992947\n",
      "  model = cd_fast.sparse_enet_coordinate_descent(\n",
      "/opt/anaconda3/lib/python3.12/site-packages/sklearn/linear_model/_coordinate_descent.py:639: ConvergenceWarning: Objective did not converge. You might want to increase the number of iterations. Duality gap: 60.087364581512745, tolerance: 0.027535892716226324\n",
      "  model = cd_fast.sparse_enet_coordinate_descent(\n",
      "/opt/anaconda3/lib/python3.12/site-packages/sklearn/linear_model/_coordinate_descent.py:639: ConvergenceWarning: Objective did not converge. You might want to increase the number of iterations. Duality gap: 60.36057075270459, tolerance: 0.026838515418293213\n",
      "  model = cd_fast.sparse_enet_coordinate_descent(\n",
      "/opt/anaconda3/lib/python3.12/site-packages/sklearn/linear_model/_coordinate_descent.py:639: ConvergenceWarning: Objective did not converge. You might want to increase the number of iterations. Duality gap: 59.7510120856779, tolerance: 0.026984621713196624\n",
      "  model = cd_fast.sparse_enet_coordinate_descent(\n"
     ]
    },
    {
     "name": "stderr",
     "output_type": "stream",
     "text": [
      "/opt/anaconda3/lib/python3.12/site-packages/sklearn/linear_model/_coordinate_descent.py:639: ConvergenceWarning: Objective did not converge. You might want to increase the number of iterations. Duality gap: 60.45026345036476, tolerance: 0.027185486061137364\n",
      "  model = cd_fast.sparse_enet_coordinate_descent(\n",
      "/opt/anaconda3/lib/python3.12/site-packages/sklearn/linear_model/_coordinate_descent.py:639: ConvergenceWarning: Objective did not converge. You might want to increase the number of iterations. Duality gap: 59.65187254931882, tolerance: 0.02673391356465493\n",
      "  model = cd_fast.sparse_enet_coordinate_descent(\n",
      "/opt/anaconda3/lib/python3.12/site-packages/sklearn/linear_model/_coordinate_descent.py:639: ConvergenceWarning: Objective did not converge. You might want to increase the number of iterations. Duality gap: 60.363634382529256, tolerance: 0.02722735340562419\n",
      "  model = cd_fast.sparse_enet_coordinate_descent(\n",
      "/opt/anaconda3/lib/python3.12/site-packages/sklearn/linear_model/_coordinate_descent.py:639: ConvergenceWarning: Objective did not converge. You might want to increase the number of iterations. Duality gap: 59.257001936509546, tolerance: 0.026441201510946376\n",
      "  model = cd_fast.sparse_enet_coordinate_descent(\n",
      "/opt/anaconda3/lib/python3.12/site-packages/sklearn/linear_model/_coordinate_descent.py:639: ConvergenceWarning: Objective did not converge. You might want to increase the number of iterations. Duality gap: 60.22917668853739, tolerance: 0.027755377835676314\n",
      "  model = cd_fast.sparse_enet_coordinate_descent(\n"
     ]
    },
    {
     "name": "stderr",
     "output_type": "stream",
     "text": [
      "/opt/anaconda3/lib/python3.12/site-packages/sklearn/linear_model/_coordinate_descent.py:639: ConvergenceWarning: Objective did not converge. You might want to increase the number of iterations. Duality gap: 83.79277211294315, tolerance: 0.026002466449909657\n",
      "  model = cd_fast.sparse_enet_coordinate_descent(\n",
      "/opt/anaconda3/lib/python3.12/site-packages/sklearn/linear_model/_coordinate_descent.py:639: ConvergenceWarning: Objective did not converge. You might want to increase the number of iterations. Duality gap: 83.73479955744457, tolerance: 0.026323270849992947\n",
      "  model = cd_fast.sparse_enet_coordinate_descent(\n",
      "/opt/anaconda3/lib/python3.12/site-packages/sklearn/linear_model/_coordinate_descent.py:639: ConvergenceWarning: Objective did not converge. You might want to increase the number of iterations. Duality gap: 86.91772411177789, tolerance: 0.027535892716226324\n",
      "  model = cd_fast.sparse_enet_coordinate_descent(\n",
      "/opt/anaconda3/lib/python3.12/site-packages/sklearn/linear_model/_coordinate_descent.py:639: ConvergenceWarning: Objective did not converge. You might want to increase the number of iterations. Duality gap: 85.96909624540835, tolerance: 0.026838515418293213\n",
      "  model = cd_fast.sparse_enet_coordinate_descent(\n",
      "/opt/anaconda3/lib/python3.12/site-packages/sklearn/linear_model/_coordinate_descent.py:639: ConvergenceWarning: Objective did not converge. You might want to increase the number of iterations. Duality gap: 85.5401552174891, tolerance: 0.026984621713196624\n",
      "  model = cd_fast.sparse_enet_coordinate_descent(\n"
     ]
    },
    {
     "name": "stderr",
     "output_type": "stream",
     "text": [
      "/opt/anaconda3/lib/python3.12/site-packages/sklearn/linear_model/_coordinate_descent.py:639: ConvergenceWarning: Objective did not converge. You might want to increase the number of iterations. Duality gap: 86.47425427830271, tolerance: 0.027185486061137364\n",
      "  model = cd_fast.sparse_enet_coordinate_descent(\n",
      "/opt/anaconda3/lib/python3.12/site-packages/sklearn/linear_model/_coordinate_descent.py:639: ConvergenceWarning: Objective did not converge. You might want to increase the number of iterations. Duality gap: 85.29998880311143, tolerance: 0.02673391356465493\n",
      "  model = cd_fast.sparse_enet_coordinate_descent(\n",
      "/opt/anaconda3/lib/python3.12/site-packages/sklearn/linear_model/_coordinate_descent.py:639: ConvergenceWarning: Objective did not converge. You might want to increase the number of iterations. Duality gap: 86.34760543328927, tolerance: 0.02722735340562419\n",
      "  model = cd_fast.sparse_enet_coordinate_descent(\n",
      "/opt/anaconda3/lib/python3.12/site-packages/sklearn/linear_model/_coordinate_descent.py:639: ConvergenceWarning: Objective did not converge. You might want to increase the number of iterations. Duality gap: 84.52008442605756, tolerance: 0.026441201510946376\n",
      "  model = cd_fast.sparse_enet_coordinate_descent(\n",
      "/opt/anaconda3/lib/python3.12/site-packages/sklearn/linear_model/_coordinate_descent.py:639: ConvergenceWarning: Objective did not converge. You might want to increase the number of iterations. Duality gap: 87.43945461470915, tolerance: 0.027755377835676314\n",
      "  model = cd_fast.sparse_enet_coordinate_descent(\n"
     ]
    },
    {
     "name": "stderr",
     "output_type": "stream",
     "text": [
      "/opt/anaconda3/lib/python3.12/site-packages/sklearn/linear_model/_coordinate_descent.py:639: ConvergenceWarning: Objective did not converge. You might want to increase the number of iterations. Duality gap: 106.24313716027301, tolerance: 0.026002466449909657\n",
      "  model = cd_fast.sparse_enet_coordinate_descent(\n",
      "/opt/anaconda3/lib/python3.12/site-packages/sklearn/linear_model/_coordinate_descent.py:639: ConvergenceWarning: Objective did not converge. You might want to increase the number of iterations. Duality gap: 106.75139176000724, tolerance: 0.026323270849992947\n",
      "  model = cd_fast.sparse_enet_coordinate_descent(\n",
      "/opt/anaconda3/lib/python3.12/site-packages/sklearn/linear_model/_coordinate_descent.py:639: ConvergenceWarning: Objective did not converge. You might want to increase the number of iterations. Duality gap: 109.19332221949753, tolerance: 0.026984621713196624\n",
      "  model = cd_fast.sparse_enet_coordinate_descent(\n",
      "/opt/anaconda3/lib/python3.12/site-packages/sklearn/linear_model/_coordinate_descent.py:639: ConvergenceWarning: Objective did not converge. You might want to increase the number of iterations. Duality gap: 109.195694369731, tolerance: 0.026838515418293213\n",
      "  model = cd_fast.sparse_enet_coordinate_descent(\n",
      "/opt/anaconda3/lib/python3.12/site-packages/sklearn/linear_model/_coordinate_descent.py:639: ConvergenceWarning: Objective did not converge. You might want to increase the number of iterations. Duality gap: 111.31182261311831, tolerance: 0.027535892716226324\n",
      "  model = cd_fast.sparse_enet_coordinate_descent(\n"
     ]
    },
    {
     "name": "stderr",
     "output_type": "stream",
     "text": [
      "/opt/anaconda3/lib/python3.12/site-packages/sklearn/linear_model/_coordinate_descent.py:639: ConvergenceWarning: Objective did not converge. You might want to increase the number of iterations. Duality gap: 110.19548075076109, tolerance: 0.027185486061137364\n",
      "  model = cd_fast.sparse_enet_coordinate_descent(\n",
      "/opt/anaconda3/lib/python3.12/site-packages/sklearn/linear_model/_coordinate_descent.py:639: ConvergenceWarning: Objective did not converge. You might want to increase the number of iterations. Duality gap: 108.57855226885613, tolerance: 0.02673391356465493\n",
      "  model = cd_fast.sparse_enet_coordinate_descent(\n",
      "/opt/anaconda3/lib/python3.12/site-packages/sklearn/linear_model/_coordinate_descent.py:639: ConvergenceWarning: Objective did not converge. You might want to increase the number of iterations. Duality gap: 110.17860037513509, tolerance: 0.02722735340562419\n",
      "  model = cd_fast.sparse_enet_coordinate_descent(\n",
      "/opt/anaconda3/lib/python3.12/site-packages/sklearn/linear_model/_coordinate_descent.py:639: ConvergenceWarning: Objective did not converge. You might want to increase the number of iterations. Duality gap: 112.1651206304803, tolerance: 0.027755377835676314\n",
      "  model = cd_fast.sparse_enet_coordinate_descent(\n",
      "/opt/anaconda3/lib/python3.12/site-packages/sklearn/linear_model/_coordinate_descent.py:639: ConvergenceWarning: Objective did not converge. You might want to increase the number of iterations. Duality gap: 107.46161700714231, tolerance: 0.026441201510946376\n",
      "  model = cd_fast.sparse_enet_coordinate_descent(\n"
     ]
    },
    {
     "name": "stdout",
     "output_type": "stream",
     "text": [
      "Best Parameters: {'model__alpha': 0.001, 'model__l1_ratio': 0.0}\n",
      "Test RMSE: 0.1431\n",
      "Best Parameters: {'model__alpha': 0.001, 'model__l1_ratio': 0.0}\n",
      "Test RMSE: 0.1431\n"
     ]
    }
   ],
   "source": [
    "import pandas as pd\n",
    "import numpy as np\n",
    "from sklearn.model_selection import train_test_split, GridSearchCV\n",
    "from sklearn.preprocessing import OneHotEncoder, StandardScaler\n",
    "from sklearn.impute import SimpleImputer  # Imputer to handle missing values\n",
    "from sklearn.compose import ColumnTransformer, make_column_selector\n",
    "from sklearn.pipeline import Pipeline\n",
    "from sklearn.linear_model import ElasticNet\n",
    "from sklearn.metrics import mean_squared_error\n",
    "import warnings\n",
    "from sklearn.exceptions import ConvergenceWarning\n",
    "warnings.filterwarnings('ignore', category=ConvergenceWarning)\n",
    "\n",
    "\n",
    "#predictor and response\n",
    "X = tdata2.drop(columns=['SalePrice', 'PID']) \n",
    "y = np.log(tdata2['SalePrice'])\n",
    "\n",
    "#train test split\n",
    "X_train, X_test, y_train, y_test = train_test_split(X, y, test_size=0.2)\n",
    "\n",
    "#preprocessing\n",
    "preprocessor = ColumnTransformer([\n",
    "    ('num', Pipeline([\n",
    "        ('imputer', SimpleImputer(strategy='mean')), \n",
    "        ('scaler', StandardScaler())\n",
    "    ]), make_column_selector(dtype_include=np.number)),\n",
    "    \n",
    "    ('cat', Pipeline([\n",
    "        ('imputer', SimpleImputer(strategy='most_frequent')),\n",
    "        ('encoder', OneHotEncoder(handle_unknown='ignore'))\n",
    "    ]), make_column_selector(dtype_include=object))\n",
    "])\n",
    "\n",
    "#pipeline\n",
    "pipeline = Pipeline([\n",
    "    ('preprocessor', preprocessor),\n",
    "    ('model', ElasticNet())\n",
    "])\n",
    "\n",
    "#grid search tuning\n",
    "param_grid = {\n",
    "    'model__alpha': np.logspace(-3, 1, 10),  \n",
    "    'model__l1_ratio': np.linspace(0, 1, 10) \n",
    "}\n",
    "\n",
    "#grid search cross validation\n",
    "grid_search = GridSearchCV(\n",
    "    pipeline, \n",
    "    param_grid=param_grid, \n",
    "    cv=10, \n",
    "    scoring='neg_root_mean_squared_error', \n",
    "    n_jobs=-1\n",
    ")\n",
    "\n",
    "#fit the model\n",
    "grid_search.fit(X_train, y_train)\n",
    "\n",
    "#evaluate\n",
    "best_model = grid_search.best_estimator_\n",
    "y_pred = best_model.predict(X_test)\n",
    "rmse = np.sqrt(mean_squared_error(y_test, y_pred))\n",
    "\n",
    "#print results\n",
    "print(f\"Best Parameters: {grid_search.best_params_}\")\n",
    "print(f\"Test RMSE: {rmse:.4f}\")\n"
   ]
  },
  {
   "cell_type": "code",
   "execution_count": 173,
   "metadata": {},
   "outputs": [
    {
     "name": "stdout",
     "output_type": "stream",
     "text": [
      "Test RMSE: 0.1328\n",
      "Test RMSE: 0.1328\n"
     ]
    }
   ],
   "source": [
    "#using the paramaters found above\n",
    "X_train, X_test, y_train, y_test = train_test_split(X, y, test_size=0.2, random_state=None)\n",
    "pipeline_elastic = Pipeline([\n",
    "    ('preprocessor', preprocessor),\n",
    "    ('model', ElasticNet(alpha=0.001, l1_ratio=0.1111))\n",
    "])\n",
    "\n",
    "#fit the model\n",
    "pipeline_elastic.fit(X_train, y_train)\n",
    "\n",
    "#predict and evaluate\n",
    "y_pred = pipeline_elastic.predict(X_test)\n",
    "rmse = np.sqrt(mean_squared_error(y_test, y_pred))\n",
    "\n",
    "#print results\n",
    "print(f\"Test RMSE: {rmse:.4f}\")"
   ]
  },
  {
   "cell_type": "code",
   "execution_count": 177,
   "metadata": {},
   "outputs": [
    {
     "data": {
      "text/plain": [
       "605"
      ]
     },
     "execution_count": null,
     "metadata": {},
     "output_type": "execute_result"
    }
   ],
   "source": [
    "#fit final model\n",
    "final_model = pipeline_elastic.fit(X, y)\n",
    "\n",
    "#predict on vdata2\n",
    "X_test = vdata2.drop(columns=['PID'])\n",
    "pids = vdata2['PID']\n",
    "\n",
    "#predictions\n",
    "y_pred_log = final_model.predict(X_test) \n",
    "#exponentiate\n",
    "y_pred = np.exp(y_pred_log) \n",
    "\n",
    "#create dataframe\n",
    "results_df = pd.DataFrame({\n",
    "    'PID': pids, \n",
    "    'SalePrice': y_pred\n",
    "})\n",
    "\n",
    "#write to a csv\n",
    "results_df.to_csv('predicted_sale_prices.csv', index=False)\n",
    "\n",
    "len(results_df)"
   ]
  },
  {
   "cell_type": "markdown",
   "metadata": {},
   "source": [
    "## Attempt 2"
   ]
  },
  {
   "cell_type": "code",
   "execution_count": 198,
   "metadata": {},
   "outputs": [
    {
     "name": "stderr",
     "output_type": "stream",
     "text": [
      "/opt/anaconda3/lib/python3.12/site-packages/sklearn/linear_model/_coordinate_descent.py:639: ConvergenceWarning: Objective did not converge. You might want to increase the number of iterations. Duality gap: 19.331567161777816, tolerance: 0.0298301940904649\n",
      "  model = cd_fast.sparse_enet_coordinate_descent(\n"
     ]
    },
    {
     "name": "stdout",
     "output_type": "stream",
     "text": [
      "Test RMSE: 0.1204\n",
      "Test RMSE: 0.1204\n"
     ]
    }
   ],
   "source": [
    "X_train, X_test, y_train, y_test = train_test_split(X, y, test_size=0.2, random_state=None)\n",
    "pipeline_elastic2 = Pipeline([\n",
    "    ('preprocessor', preprocessor),\n",
    "    ('model', ElasticNet(alpha=0.0027825594022071257, l1_ratio=0.0))\n",
    "])\n",
    "\n",
    "#fit the model\n",
    "pipeline_elastic2.fit(X_train, y_train)\n",
    "\n",
    "#predict and evaluate\n",
    "y_pred = pipeline_elastic2.predict(X_test)\n",
    "rmse = np.sqrt(mean_squared_error(y_test, y_pred))\n",
    "\n",
    "#print results\n",
    "print(f\"Test RMSE: {rmse:.4f}\")"
   ]
  },
  {
   "cell_type": "code",
   "execution_count": 199,
   "metadata": {},
   "outputs": [
    {
     "name": "stderr",
     "output_type": "stream",
     "text": [
      "/opt/anaconda3/lib/python3.12/site-packages/sklearn/linear_model/_coordinate_descent.py:639: ConvergenceWarning: Objective did not converge. You might want to increase the number of iterations. Duality gap: 22.578928360585923, tolerance: 0.03700804587366287\n",
      "  model = cd_fast.sparse_enet_coordinate_descent(\n"
     ]
    },
    {
     "data": {
      "text/plain": [
       "605"
      ]
     },
     "execution_count": null,
     "metadata": {},
     "output_type": "execute_result"
    }
   ],
   "source": [
    "#fit the model\n",
    "final_model2 = pipeline_elastic2.fit(X, y)\n",
    "\n",
    "#predict on vdata2\n",
    "X_test = vdata2.drop(columns=['PID']) \n",
    "pids = vdata2['PID'] \n",
    "\n",
    "#predict\n",
    "y_pred_log = final_model2.predict(X_test)\n",
    "#exponentiate\n",
    "y_pred = np.exp(y_pred_log)\n",
    "\n",
    "#dataframe\n",
    "results_df2 = pd.DataFrame({\n",
    "    'PID': pids, \n",
    "    'SalePrice': y_pred \n",
    "})\n",
    "\n",
    "#write to a csv\n",
    "results_df2.to_csv('predicted_sale_prices2.csv', index=False)\n",
    "\n",
    "len(results_df2)"
   ]
  }
 ],
 "metadata": {
  "language_info": {
   "name": "python"
  }
 },
 "nbformat": 4,
 "nbformat_minor": 2
}
