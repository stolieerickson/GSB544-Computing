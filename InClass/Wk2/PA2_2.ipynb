{
  "cells": [
    {
      "cell_type": "markdown",
      "metadata": {
        "id": "r9YPMJZueiQ_"
      },
      "source": [
        "## Intro\n",
        "\n",
        "In this PA, you will practice altering data frame objects in order to solve a riddle.\n",
        "\n",
        "### Advice for troubleshooting your code\n",
        "\n",
        "#### Check results often\n",
        "\n",
        "If a chunk of code runs smoothly without giving you any error or warnings this does not necessarily mean it accomplished the desired task.\n",
        "\n",
        "It is a good habit to check the results of your code every time you finish a task.\n",
        "\n",
        "If you created or updated a data frame, make sure your edits did what you hoped.  Use the *Environment* or the `head()` function to investigate your changes.\n",
        "\n",
        "#### Document your work\n",
        "\n",
        "In the text before the code chunk, make sure to briefly state what the point of the chunk is.  This will remind later readers - which might be your future self! - what the desired output is.\n",
        "\n",
        "Use comments in the code to give quick explanations of the goals of complex steps.\n",
        "\n",
        "#### Two heads are better than one\n",
        "\n",
        "It can be hard to spot bugs in code that you yourself wrote.t\n",
        "(Have you ever sent a text message and not spotted an obvious  typo?  Same idea!)\n",
        "\n",
        "Work with people around you if you can - if something goes wrong, ask a friend to take a peek at your code and see if any glaring errors (like *syntax error*) pop out.\n",
        "\n",
        "#### Explain your code out loud\n",
        "\n",
        "The best way to troubleshoot a sneaky bug is to explain out loud each step of your code, and what you hoped to accomplish.\n",
        "\n",
        "If you are alone, try [Rubber Duck Debugging](https://en.wikipedia.org/wiki/Rubber_duck_debugging)!\n",
        "\n",
        "#### Google is your friend\n",
        "\n",
        "The whole of the internet is at your disposal!  Use it early, use it often.\n",
        "\n",
        "Copy-paste the exact error message into Google. Chances are, somebody else had a similar problem and got a similar message.\n",
        "\n",
        "\n",
        "Include package names in your search terms.  For example, \"bar plot in plotnine with pandas data frame\" is a better search than \"bar plot in python\".\n",
        "\n",
        "\n",
        "## Part One: Data import and cleaning\n",
        "\n",
        "This section will walk you through some steps to clean up today's dataset, so that you can use it more easily in Part Two.  \n",
        "\n",
        "First, we declare our package dependencies and load the data.\n",
        "\n",
        "(Note that the data loading function `read_csv` will give you an outpouring of helpful information about the dataset.  If you do not see the word \"error\", there is nothing to be concerned about.)\n"
      ]
    },
    {
      "cell_type": "code",
      "execution_count": 2,
      "metadata": {
        "id": "9asR0S4_eiRA"
      },
      "outputs": [],
      "source": [
        "import numpy as np\n",
        "import pandas as pd\n",
        "\n",
        "colleges = pd.read_csv(\"https://www.dropbox.com/s/bt5hvctdevhbq6j/colleges.csv?dl=1\")"
      ]
    },
    {
      "cell_type": "markdown",
      "metadata": {
        "id": "ZdYqoIsieiRB"
      },
      "source": [
        "The code chunks in this section will cause an error and/or do the desired task incorrectly.  (Even the chunks that run without error are not correct!) You will need to find the mistake, and correct it, to complete the intended action.\n",
        "\n",
        "None of the *text* is incorrect, only the *code* - your goal is to make the code do exactly what the documentation claims it will.\n",
        "\n",
        "#### 1. Narrow down the columns to variables of interest\n",
        "\n",
        "There are too many variables in this dataset.  We don't need all of them. We will limit our dataset down to only:\n",
        "\n",
        "Name of the institution\n",
        "City, State, and ZIP code of the institution\n",
        "The Admissions Rate\n",
        "The average SAT score\n",
        "The number of undergraduate students\n",
        "The in and out of state tuitions\n",
        "Whether the school is public or private\n",
        "The \"REGION\" variable.\n"
      ]
    },
    {
      "cell_type": "code",
      "execution_count": 3,
      "metadata": {
        "id": "1QZE0D5TeiRC"
      },
      "outputs": [],
      "source": [
        "#use .loc\n",
        "colleges_clean = colleges.loc[:, ['INSTNM', 'CITY', 'STABBR', 'ZIP', \n",
        "                            'CONTROL', 'ADM_RATE', 'SAT_AVG', 'TUITIONFEE_IN', \n",
        "                            'TUITIONFEE_OUT', 'UGDS', 'REGION']]"
      ]
    },
    {
      "cell_type": "markdown",
      "metadata": {
        "id": "p-0lfoOleiRC"
      },
      "source": [
        "#### 2. Remove observations that aren't needed\n",
        "\n",
        "Drop the schools that are \"private for-profit\" (category 3).  We will not need these for the puzzle.\n"
      ]
    },
    {
      "cell_type": "code",
      "execution_count": 4,
      "metadata": {
        "id": "E7Xx6YsKeiRC"
      },
      "outputs": [],
      "source": [
        "#separate or function\n",
        "colleges_clean = colleges_clean[(colleges_clean['CONTROL'] == 1) | (colleges_clean['CONTROL'] == 2)]"
      ]
    },
    {
      "cell_type": "markdown",
      "metadata": {
        "id": "NEM5H8nYeiRC"
      },
      "source": [
        "### 3. Adjust variable types: Numeric\n",
        "\n",
        "Some of the columns of the dataset were automatically understood by the computer to be categorical, due to missing data appearing like strings.\n",
        "\n",
        "Adjust the appropriate columns to be numeric.\n"
      ]
    },
    {
      "cell_type": "code",
      "execution_count": 5,
      "metadata": {
        "id": "cIOpSHCjeiRC"
      },
      "outputs": [],
      "source": [
        "colleges_clean['TUITIONFEE_IN'] = colleges_clean['TUITIONFEE_IN'].astype('float')\n",
        "\n",
        "colleges_clean['TUITIONFEE_OUT'] = colleges_clean['TUITIONFEE_OUT'].astype('float')\n",
        "\n",
        "colleges_clean['SAT_AVG'] = colleges_clean['SAT_AVG'].astype('float')\n",
        "\n",
        "#fix ADM_Rate\n",
        "colleges_clean['ADM_RATE'] = colleges_clean['ADM_RATE'].astype('float')\n",
        "\n",
        "#add in UGDS\n",
        "colleges_clean['UGDS'] = colleges_clean['UGDS'].astype('float')"
      ]
    },
    {
      "cell_type": "markdown",
      "metadata": {
        "id": "zKH6226NeiRC"
      },
      "source": [
        "### 4. Adjust variable types: Categorical\n",
        "\n",
        "Similarly, columns of the dataset that are not numbers are automatically understood by the computer to be strings.\n",
        "\n",
        "We know, however, that some variables are truly *categorical*, in that there are only a few categories (or \"levels\") that can be values of the column.\n",
        "\n",
        "Adjust the appropriate columns to be understood as categorical.\n"
      ]
    },
    {
      "cell_type": "code",
      "execution_count": 6,
      "metadata": {
        "id": "TFBmCHMLeiRD"
      },
      "outputs": [],
      "source": [
        "#assign to the dataset\n",
        "colleges_clean['CONTROL'] = colleges_clean['CONTROL'].astype('category')\n",
        "colleges_clean['REGION'] = colleges_clean['REGION'].astype('category')"
      ]
    },
    {
      "cell_type": "markdown",
      "metadata": {
        "id": "ra03-sWbeiRD"
      },
      "source": [
        "#### 5. Calculate new variables\n",
        "\n",
        "Create a new variable called TUITION_DIFF which contains the difference between in and out of state costs.\n"
      ]
    },
    {
      "cell_type": "code",
      "execution_count": 7,
      "metadata": {
        "id": "i3gRwBgbeiRD"
      },
      "outputs": [],
      "source": [
        "colleges_clean['TUITION_DIFF'] = colleges_clean['TUITIONFEE_OUT'] - colleges_clean['TUITIONFEE_IN']"
      ]
    },
    {
      "cell_type": "markdown",
      "metadata": {
        "id": "aBNvuTWCeiRD"
      },
      "source": [
        "#### 6. Deal with missing data\n",
        "\n",
        "Drop all the rows with missing data.\n",
        "\n",
        "(It is often a terrible idea to simply drop all rows with *any* missing data!  Usually, even if *some* of the information is missing, we don't want to throw out the entire row.  In this example, however, we'll be lazy.)\n"
      ]
    },
    {
      "cell_type": "code",
      "execution_count": 8,
      "metadata": {
        "id": "520ghDYBeiRD"
      },
      "outputs": [],
      "source": [
        "#axis = 0 corresponds to rows, axis = 1 corresponds to columns\n",
        "colleges_clean = colleges_clean.dropna(axis = 0)"
      ]
    },
    {
      "cell_type": "markdown",
      "metadata": {
        "id": "HviEJnpPeiRD"
      },
      "source": [
        "## Part Two:  Identify the mystery college\n",
        "\n",
        "Wow!  Your best friend Ephelia has been accepted to the college of her dreams!  Unfortunately, Ephelia is a very mysterious person, and she won't tell you directly which college this is.  You'll have to use her clues to figure out which school is her dream school.\n",
        "\n",
        "Clues:\n",
        "\n",
        "1. This college is located in Region 1.\n",
        "\n",
        "2. This college's admission rate is in the first quartile for the region.\n",
        "\n",
        "3. This college charges the same for in- and out-of-state tuition.\n",
        "\n",
        "4. The average SAT score of this college is an odd number.\n",
        "\n",
        "5. This college is NOT in New Hampshire or in the city of Boston.\n",
        "\n",
        "6. More than 3,000 people apply to this college every year.  (Hint: Make a new variable to compute how many people apply.  Assume the size of an incoming class is 1/4 of the total undergraduate population, and remember that not everyone who *applies* is *admitted*.)\n",
        "\n",
        "7. Ephelia is not going to an Ivy League school.\n",
        "\n",
        "8. Of the two options remaining at this step, Ephelia will attend the cheaper one.\n"
      ]
    },
    {
      "cell_type": "code",
      "execution_count": 9,
      "metadata": {},
      "outputs": [
        {
          "name": "stdout",
          "output_type": "stream",
          "text": [
            "The mystery school is:  1619    Williams College\n",
            "Name: INSTNM, dtype: object\n",
            "The mystery school is:  1619    Williams College\n",
            "Name: INSTNM, dtype: object\n"
          ]
        },
        {
          "name": "stderr",
          "output_type": "stream",
          "text": [
            "<positron-console-cell-9>:14: SettingWithCopyWarning: \n",
            "A value is trying to be set on a copy of a slice from a DataFrame.\n",
            "Try using .loc[row_indexer,col_indexer] = value instead\n",
            "\n",
            "See the caveats in the documentation: https://pandas.pydata.org/pandas-docs/stable/user_guide/indexing.html#returning-a-view-versus-a-copy\n"
          ]
        }
      ],
      "source": [
        "#located in region 1\n",
        "region1 = colleges_clean[(colleges_clean['REGION'] == 1)]\n",
        "#admission rate is in the first quartile for the region\n",
        "q1 = colleges_clean['ADM_RATE'].quantile(0.25)\n",
        "admrate_q1 = region1[(region1['ADM_RATE'] < q1)]\n",
        "#charges the same for in and out of state tuition\n",
        "same_inout = admrate_q1[admrate_q1['TUITION_DIFF'] == 0]\n",
        "#average SAT is an odd number\n",
        "odd = same_inout[same_inout['SAT_AVG'] % 2 != 0]\n",
        "#not in new hampshire or in the city of boston\n",
        "nh_boston = odd[(odd['STABBR'] != \"NH\") & (odd['CITY'] != \"Boston\")]\n",
        "#more than 3,000 people apply to this college every year\n",
        "#new variable for how many people apply: size of incoming class is 1/4 of the total undergraduate population, & not everyone who applies is admitted\n",
        "nh_boston['APPLY'] = ((1/4 *nh_boston['UGDS']))/nh_boston['ADM_RATE']\n",
        "#filter for > 3000\n",
        "apply = nh_boston[(nh_boston['APPLY'] > 3000)]\n",
        "#not going to an IVY league: not Harvard\n",
        "not_ivy = apply[apply['INSTNM'] != \"Harvard University\"]\n",
        "#cheaper school\n",
        "school = not_ivy.nsmallest(1, 'TUITIONFEE_IN')\n",
        "#print\n",
        "print(\"The mystery school is: \", school['INSTNM'])"
      ]
    }
  ],
  "metadata": {
    "colab": {
      "provenance": []
    },
    "kernelspec": {
      "display_name": "Python 3 (ipykernel)",
      "language": "python",
      "name": "python3"
    },
    "language_info": {
      "name": "python"
    }
  },
  "nbformat": 4,
  "nbformat_minor": 0
}
