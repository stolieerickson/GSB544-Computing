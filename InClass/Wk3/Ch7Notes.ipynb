{
 "cells": [
  {
   "cell_type": "code",
   "execution_count": 7,
   "metadata": {},
   "outputs": [
    {
     "name": "stdout",
     "output_type": "stream",
     "text": [
      "100 bottles of beer on the wall\n",
      "100 bottles of beer\n",
      " take one down, pass it around,\n",
      "99 bottles of beer on the wall\n",
      "99 bottles of beer on the wall\n",
      "99 bottles of beer\n",
      " take one down, pass it around,\n",
      "98 bottles of beer on the wall\n",
      "98 bottles of beer on the wall\n",
      "98 bottles of beer\n",
      " take one down, pass it around,\n",
      "97 bottles of beer on the wall\n",
      "100 bottles of beer on the wall\n",
      "100 bottles of beer\n",
      " take one down, pass it around,\n",
      "99 bottles of beer on the wall\n",
      "99 bottles of beer on the wall\n",
      "99 bottles of beer\n",
      " take one down, pass it around,\n",
      "98 bottles of beer on the wall\n",
      "98 bottles of beer on the wall\n",
      "98 bottles of beer\n",
      " take one down, pass it around,\n",
      "97 bottles of beer on the wall\n"
     ]
    }
   ],
   "source": [
    "#write a function\n",
    "def beer(i):\n",
    "    print(str(i) + \" bottles of beer on the wall\")\n",
    "    print(str(i) + \" bottles of beer\")\n",
    "    print(\" take one down, pass it around,\")\n",
    "    print(str(i-1) + \" bottles of beer on the wall\")\n",
    "\n",
    "for i in range(100,97,-1):\n",
    "    beer(i)\n",
    "\n",
    "def sing_verse(num):\n",
    "  song = str(num) + \" bottles of beer on the wall \\n\" + str(num) + \" bottles of beer \\n\" + \" take one down, pass it around, \\n\" + str(num-1) + \" bottles of beer on the wall \\n\"\n",
    "  \n",
    "  return song"
   ]
  },
  {
   "cell_type": "code",
   "execution_count": 8,
   "metadata": {},
   "outputs": [
    {
     "name": "stdout",
     "output_type": "stream",
     "text": [
      "100 bottles of beer on the wall \n",
      "100 bottles of beer \n",
      " take one down, pass it around, \n",
      "99 bottles of beer on the wall \n",
      "99 bottles of beer on the wall \n",
      "99 bottles of beer \n",
      " take one down, pass it around, \n",
      "98 bottles of beer on the wall \n",
      "98 bottles of beer on the wall \n",
      "98 bottles of beer \n",
      " take one down, pass it around, \n",
      "97 bottles of beer on the wall \n",
      "\n",
      "['100 bottles of beer on the wall \\n100 bottles of beer \\n take one down, pass it around, \\n99 bottles of beer on the wall \\n', '99 bottles of beer on the wall \\n99 bottles of beer \\n take one down, pass it around, \\n98 bottles of beer on the wall \\n', '98 bottles of beer on the wall \\n98 bottles of beer \\n take one down, pass it around, \\n97 bottles of beer on the wall \\n']\n",
      "100 bottles of beer on the wall \n",
      "100 bottles of beer \n",
      " take one down, pass it around, \n",
      "99 bottles of beer on the wall \n",
      "99 bottles of beer on the wall \n",
      "99 bottles of beer \n",
      " take one down, pass it around, \n",
      "98 bottles of beer on the wall \n",
      "98 bottles of beer on the wall \n",
      "98 bottles of beer \n",
      " take one down, pass it around, \n",
      "97 bottles of beer on the wall \n",
      "\n",
      "['100 bottles of beer on the wall \\n100 bottles of beer \\n take one down, pass it around, \\n99 bottles of beer on the wall \\n', '99 bottles of beer on the wall \\n99 bottles of beer \\n take one down, pass it around, \\n98 bottles of beer on the wall \\n', '98 bottles of beer on the wall \\n98 bottles of beer \\n take one down, pass it around, \\n97 bottles of beer on the wall \\n']\n"
     ]
    }
   ],
   "source": [
    "song = \"\"\n",
    "\n",
    "for i in range(100,97,-1):\n",
    "  song = song + sing_verse(i)\n",
    "  \n",
    "print(song)\n",
    "\n",
    "#Modify the code above so that instead of creating one long string, we create a list, where each element is one of the verses of the song.\n",
    "\n",
    "song = []\n",
    "for i in range(100,97,-1):\n",
    "  song.append(sing_verse(i))\n",
    "print(song)"
   ]
  },
  {
   "cell_type": "markdown",
   "metadata": {},
   "source": [
    "Write two functions:\n",
    "\n",
    "sqrt_pos_unvec() takes in a single value as an argument, and returns the square root if the value is positive. Then, write a for loop that uses this function to construct a new vector where the positive values are square rooted.\n",
    "\n",
    "sqrt_pos_vec() takes in a vector of values, and returns a vector with the positive values square rooted. Do not use a for loop inside your function."
   ]
  },
  {
   "cell_type": "code",
   "execution_count": 14,
   "metadata": {},
   "outputs": [
    {
     "name": "stdout",
     "output_type": "stream",
     "text": [
      "[2.0, 1.7320508075688772, 1.4142135623730951, 1.0, 0, -1, -2, -3]\n",
      "[ 2.          1.73205081  1.41421356  1.          0.         -1.\n",
      " -2.         -3.         -4.        ]\n",
      "[2.0, 1.7320508075688772, 1.4142135623730951, 1.0, 0, -1, -2, -3]\n",
      "[ 2.          1.73205081  1.41421356  1.          0.         -1.\n",
      " -2.         -3.         -4.        ]\n"
     ]
    }
   ],
   "source": [
    "import numpy as np\n",
    "\n",
    "#first function\n",
    "def sqrt_pos_unvec(i):\n",
    "    if i > 0:\n",
    "        return np.sqrt(i)\n",
    "    else:\n",
    "        return i \n",
    "#implement function 1\n",
    "new_vec = []\n",
    "for i in range(4, -4, -1):\n",
    "    new_vec.append(sqrt_pos_unvec(i))\n",
    "print(new_vec)\n",
    "\n",
    "#second function\n",
    "def sqrt_pos_vec(vec):\n",
    "    vec = vec.astype(float)\n",
    "    is_pos = vec > 0\n",
    "    vec[is_pos] = np.sqrt(vec[is_pos])\n",
    "    return vec\n",
    "#implement function 2\n",
    "vec1 = np.array([4, 3, 2, 1, 0, -1, -2, -3, -4])\n",
    "print(sqrt_pos_vec(vec1))\n"
   ]
  }
 ],
 "metadata": {
  "language_info": {
   "name": "python"
  }
 },
 "nbformat": 4,
 "nbformat_minor": 2
}
