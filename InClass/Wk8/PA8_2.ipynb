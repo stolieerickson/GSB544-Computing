{
  "cells": [
    {
      "cell_type": "markdown",
      "metadata": {
        "id": "TxbDFsJARAMD"
      },
      "source": [
        "# Palmer Penguins Modeling\n",
        "\n",
        "Import the Palmer Penguins dataset and print out the first few rows.\n",
        "\n",
        "Suppose we want to predict `species` using the other variables in the dataset.\n",
        "\n",
        "**Dummify** all variables that require this."
      ]
    },
    {
      "cell_type": "code",
      "execution_count": 11,
      "metadata": {
        "id": "QV2uolyOQ65C"
      },
      "outputs": [
        {
          "data": {
            "text/html": [
              "<div>\n",
              "<style scoped>\n",
              "    .dataframe tbody tr th:only-of-type {\n",
              "        vertical-align: middle;\n",
              "    }\n",
              "\n",
              "    .dataframe tbody tr th {\n",
              "        vertical-align: top;\n",
              "    }\n",
              "\n",
              "    .dataframe thead th {\n",
              "        text-align: right;\n",
              "    }\n",
              "</style>\n",
              "<table border=\"1\" class=\"dataframe\">\n",
              "  <thead>\n",
              "    <tr style=\"text-align: right;\">\n",
              "      <th></th>\n",
              "      <th>species</th>\n",
              "      <th>island</th>\n",
              "      <th>bill_length_mm</th>\n",
              "      <th>bill_depth_mm</th>\n",
              "      <th>flipper_length_mm</th>\n",
              "      <th>body_mass_g</th>\n",
              "      <th>sex</th>\n",
              "      <th>year</th>\n",
              "    </tr>\n",
              "  </thead>\n",
              "  <tbody>\n",
              "    <tr>\n",
              "      <th>0</th>\n",
              "      <td>Adelie</td>\n",
              "      <td>Torgersen</td>\n",
              "      <td>39.1</td>\n",
              "      <td>18.7</td>\n",
              "      <td>181.0</td>\n",
              "      <td>3750.0</td>\n",
              "      <td>male</td>\n",
              "      <td>2007</td>\n",
              "    </tr>\n",
              "    <tr>\n",
              "      <th>1</th>\n",
              "      <td>Adelie</td>\n",
              "      <td>Torgersen</td>\n",
              "      <td>39.5</td>\n",
              "      <td>17.4</td>\n",
              "      <td>186.0</td>\n",
              "      <td>3800.0</td>\n",
              "      <td>female</td>\n",
              "      <td>2007</td>\n",
              "    </tr>\n",
              "    <tr>\n",
              "      <th>2</th>\n",
              "      <td>Adelie</td>\n",
              "      <td>Torgersen</td>\n",
              "      <td>40.3</td>\n",
              "      <td>18.0</td>\n",
              "      <td>195.0</td>\n",
              "      <td>3250.0</td>\n",
              "      <td>female</td>\n",
              "      <td>2007</td>\n",
              "    </tr>\n",
              "    <tr>\n",
              "      <th>4</th>\n",
              "      <td>Adelie</td>\n",
              "      <td>Torgersen</td>\n",
              "      <td>36.7</td>\n",
              "      <td>19.3</td>\n",
              "      <td>193.0</td>\n",
              "      <td>3450.0</td>\n",
              "      <td>female</td>\n",
              "      <td>2007</td>\n",
              "    </tr>\n",
              "    <tr>\n",
              "      <th>5</th>\n",
              "      <td>Adelie</td>\n",
              "      <td>Torgersen</td>\n",
              "      <td>39.3</td>\n",
              "      <td>20.6</td>\n",
              "      <td>190.0</td>\n",
              "      <td>3650.0</td>\n",
              "      <td>male</td>\n",
              "      <td>2007</td>\n",
              "    </tr>\n",
              "  </tbody>\n",
              "</table>\n",
              "</div>"
            ],
            "text/plain": [
              "  species     island  bill_length_mm  ...  body_mass_g     sex  year\n",
              "0  Adelie  Torgersen            39.1  ...       3750.0    male  2007\n",
              "1  Adelie  Torgersen            39.5  ...       3800.0  female  2007\n",
              "2  Adelie  Torgersen            40.3  ...       3250.0  female  2007\n",
              "4  Adelie  Torgersen            36.7  ...       3450.0  female  2007\n",
              "5  Adelie  Torgersen            39.3  ...       3650.0    male  2007\n",
              "\n",
              "[5 rows x 8 columns]"
            ]
          },
          "execution_count": null,
          "metadata": {},
          "output_type": "execute_result"
        }
      ],
      "source": [
        "import pandas as pd\n",
        "from palmerpenguins import load_penguins\n",
        "import numpy as np\n",
        "from sklearn.compose import ColumnTransformer, make_column_selector\n",
        "from sklearn.impute import SimpleImputer\n",
        "from sklearn.preprocessing import StandardScaler, OneHotEncoder\n",
        "from sklearn.linear_model import LinearRegression\n",
        "from sklearn.neighbors import KNeighborsClassifier\n",
        "from sklearn.tree import DecisionTreeClassifier\n",
        "from sklearn.model_selection import train_test_split\n",
        "from sklearn.pipeline import Pipeline\n",
        "from sklearn.metrics import mean_squared_error\n",
        "from sklearn.metrics import confusion_matrix, accuracy_score, precision_score, recall_score, roc_auc_score, f1_score, roc_curve, auc\n",
        "import matplotlib.pyplot as plt\n",
        "\n",
        "#rename penguins dataset\n",
        "penguins = load_penguins()\n",
        "#drop NA\n",
        "penguins = penguins.dropna()\n",
        "\n",
        "#categorical dummify\n",
        "cat_transform = Pipeline([\n",
        "    (\"dummy\", OneHotEncoder())\n",
        "])\n",
        "\n",
        "penguins.head()"
      ]
    },
    {
      "cell_type": "markdown",
      "metadata": {
        "id": "HecNBVAnRHod"
      },
      "source": [
        "Let's use the other variables to predict `species`. Prepare your data and fit the following models on the entire dataset:\n",
        "\n",
        "* Two kNN models (for different values of K)\n",
        "* Two decision tree models (for different complexities of trees)\n",
        "\n",
        "Compute the following, for each of your models, on test data. Keep in mind that you may need to stratify your creation of the training and test data.\n",
        "\n",
        "* Confusion matrix\n",
        "* Overall Accuracy\n",
        "* Precision, Recall, AUC, and F1-score for each species\n",
        "\n",
        "Create one ROC plot for the species of your choice."
      ]
    },
    {
      "cell_type": "code",
      "execution_count": 9,
      "metadata": {
        "id": "U1onRGJQR8T_"
      },
      "outputs": [],
      "source": [
        "#numeric transformer (standardize)\n",
        "num_transform = Pipeline([\n",
        "    (\"scalar\", StandardScaler())\n",
        "])\n",
        "\n",
        "#column transformer (apply the dummification and standardization)\n",
        "ct = ColumnTransformer([\n",
        "    ('num', num_transform, make_column_selector(dtype_include=np.number)),\n",
        "    (\"cat\", cat_transform, make_column_selector(dtype_include=object))\n",
        "])\n",
        "\n",
        "#predictors and response\n",
        "X = penguins.drop(columns=['species'])\n",
        "y = penguins['species']\n",
        "\n",
        "#train test split\n",
        "X_train, X_test, y_train, y_test = train_test_split(X, y, test_size=0.2, random_state=1)\n",
        "\n",
        "#knn3 pipeline\n",
        "pipeline_knn3 = Pipeline(\n",
        "    [(\"preprocessor\", ct),\n",
        "     (\"kNN\", KNeighborsClassifier(n_neighbors=3))]\n",
        ")\n",
        "\n",
        "#knn100 pipeline\n",
        "pipeline_knn100 = Pipeline(\n",
        "    [(\"preprocessor\", ct),\n",
        "     (\"kNN\", KNeighborsClassifier(n_neighbors=100))]\n",
        ")\n",
        "\n",
        "#decision tree1 pipeline\n",
        "pipeline_tree1 = Pipeline(\n",
        "    [(\"preprocessor\", ct),\n",
        "     (\"decision\", DecisionTreeClassifier(ccp_alpha=1))]\n",
        ")\n",
        "\n",
        "#decision tree01 pipeline\n",
        "pipeline_tree01 = Pipeline(\n",
        "    [(\"preprocessor\", ct),\n",
        "     (\"decision\", DecisionTreeClassifier(ccp_alpha=0.1))]\n",
        ")"
      ]
    },
    {
      "cell_type": "code",
      "execution_count": 10,
      "metadata": {},
      "outputs": [],
      "source": [
        "#fit the models\n",
        "pipeline_knn3.fit(X_train, y_train)\n",
        "pipeline_knn100.fit(X_train, y_train)\n",
        "pipeline_tree1.fit(X_train, y_train)\n",
        "pipeline_tree01.fit(X_train, y_train)\n",
        "\n",
        "#make predictions\n",
        "pred_knn3 = pipeline_knn3.predict(X_test)\n",
        "pred_knn100 = pipeline_knn100.predict(X_test)\n",
        "pred_tree1 = pipeline_tree1.predict(X_test)\n",
        "pred_tree01 = pipeline_tree01.predict(X_test)\n",
        "\n",
        "#calculate probabilities\n",
        "prob_knn3 = pipeline_knn3.predict_proba(X_test)\n",
        "prob_knn100 = pipeline_knn100.predict_proba(X_test)\n",
        "prob_tree1 = pipeline_tree1.predict_proba(X_test)\n",
        "prob_tree01 = pipeline_tree01.predict_proba(X_test)"
      ]
    },
    {
      "cell_type": "code",
      "execution_count": 20,
      "metadata": {},
      "outputs": [],
      "source": [
        "#create function for the metrics\n",
        "def evaluate_model(y_true, y_pred, y_prob, classes):\n",
        "    \n",
        "    #initialize results\n",
        "    results = {}\n",
        "\n",
        "    #confusion matrix\n",
        "    cm = confusion_matrix(y_true, y_pred, labels=classes)\n",
        "    results[\"confusion_matrix\"] = cm\n",
        "\n",
        "    #accuracy\n",
        "    results[\"accuracy\"] = accuracy_score(y_true, y_pred)\n",
        "\n",
        "    #precision, recall, AUC, f1\n",
        "    results[\"metrics\"] = {}\n",
        "    for i, cls in enumerate(classes):\n",
        "        y_true_binary = (y_true == cls).astype(int)\n",
        "        y_pred_binary = (y_pred == cls).astype(int)\n",
        "        results[\"metrics\"][cls] = {\n",
        "            \"precision\": precision_score(y_true_binary, y_pred_binary, zero_division=0),\n",
        "            \"recall\": recall_score(y_true_binary, y_pred_binary),\n",
        "            \"f1_score\": f1_score(y_true_binary, y_pred_binary),\n",
        "            \"auc\": roc_auc_score(y_true_binary, y_prob[:, i]) if y_prob is not None else None\n",
        "        }\n",
        "    \n",
        "    return results"
      ]
    },
    {
      "cell_type": "code",
      "execution_count": 21,
      "metadata": {},
      "outputs": [
        {
          "data": {
            "text/plain": [
              "{'confusion_matrix': array([[28,  0,  0],\n",
              "        [ 0, 26,  0],\n",
              "        [ 2,  0, 11]]),\n",
              " 'accuracy': 0.9701492537313433,\n",
              " 'metrics': {'Adelie': {'precision': 0.9333333333333333,\n",
              "   'recall': 1.0,\n",
              "   'f1_score': 0.9655172413793104,\n",
              "   'auc': 1.0},\n",
              "  'Gentoo': {'precision': 1.0,\n",
              "   'recall': 1.0,\n",
              "   'f1_score': 1.0,\n",
              "   'auc': 0.3414634146341463},\n",
              "  'Chinstrap': {'precision': 1.0,\n",
              "   'recall': 0.8461538461538461,\n",
              "   'f1_score': 0.9166666666666666,\n",
              "   'auc': 0.2592592592592593}}}"
            ]
          },
          "execution_count": null,
          "metadata": {},
          "output_type": "execute_result"
        }
      ],
      "source": [
        "classes = y.unique().tolist()\n",
        "#knn3 model\n",
        "evaluate_model(y_test, pred_knn3, prob_knn3, classes)"
      ]
    },
    {
      "cell_type": "code",
      "execution_count": 22,
      "metadata": {},
      "outputs": [
        {
          "data": {
            "text/plain": [
              "{'confusion_matrix': array([[28,  0,  0],\n",
              "        [ 0, 26,  0],\n",
              "        [ 6,  0,  7]]),\n",
              " 'accuracy': 0.9104477611940298,\n",
              " 'metrics': {'Adelie': {'precision': 0.8235294117647058,\n",
              "   'recall': 1.0,\n",
              "   'f1_score': 0.9032258064516129,\n",
              "   'auc': 0.972985347985348},\n",
              "  'Gentoo': {'precision': 1.0,\n",
              "   'recall': 1.0,\n",
              "   'f1_score': 1.0,\n",
              "   'auc': 0.039399624765478425},\n",
              "  'Chinstrap': {'precision': 1.0,\n",
              "   'recall': 0.5384615384615384,\n",
              "   'f1_score': 0.7,\n",
              "   'auc': 0.3383190883190883}}}"
            ]
          },
          "execution_count": null,
          "metadata": {},
          "output_type": "execute_result"
        }
      ],
      "source": [
        "#knn100 model\n",
        "evaluate_model(y_test, pred_knn100, prob_knn100, classes)"
      ]
    },
    {
      "cell_type": "code",
      "execution_count": 23,
      "metadata": {},
      "outputs": [
        {
          "data": {
            "text/plain": [
              "{'confusion_matrix': array([[28,  0,  0],\n",
              "        [26,  0,  0],\n",
              "        [13,  0,  0]]),\n",
              " 'accuracy': 0.417910447761194,\n",
              " 'metrics': {'Adelie': {'precision': 0.417910447761194,\n",
              "   'recall': 1.0,\n",
              "   'f1_score': 0.5894736842105263,\n",
              "   'auc': 0.5},\n",
              "  'Gentoo': {'precision': 0.0, 'recall': 0.0, 'f1_score': 0.0, 'auc': 0.5},\n",
              "  'Chinstrap': {'precision': 0.0, 'recall': 0.0, 'f1_score': 0.0, 'auc': 0.5}}}"
            ]
          },
          "execution_count": null,
          "metadata": {},
          "output_type": "execute_result"
        }
      ],
      "source": [
        "#decision tree1\n",
        "evaluate_model(y_test, pred_tree1, prob_tree1, classes)"
      ]
    },
    {
      "cell_type": "code",
      "execution_count": 24,
      "metadata": {},
      "outputs": [
        {
          "data": {
            "text/plain": [
              "{'confusion_matrix': array([[24,  1,  3],\n",
              "        [ 0, 25,  1],\n",
              "        [ 3,  0, 10]]),\n",
              " 'accuracy': 0.8805970149253731,\n",
              " 'metrics': {'Adelie': {'precision': 0.8888888888888888,\n",
              "   'recall': 0.8571428571428571,\n",
              "   'f1_score': 0.8727272727272727,\n",
              "   'auc': 0.9194139194139194},\n",
              "  'Gentoo': {'precision': 0.9615384615384616,\n",
              "   'recall': 0.9615384615384616,\n",
              "   'f1_score': 0.9615384615384616,\n",
              "   'auc': 0.6772983114446528},\n",
              "  'Chinstrap': {'precision': 0.7142857142857143,\n",
              "   'recall': 0.7692307692307693,\n",
              "   'f1_score': 0.7407407407407407,\n",
              "   'auc': 0.4216524216524216}}}"
            ]
          },
          "execution_count": null,
          "metadata": {},
          "output_type": "execute_result"
        }
      ],
      "source": [
        "#decision tree01\n",
        "evaluate_model(y_test, pred_tree01, prob_tree01, classes)"
      ]
    },
    {
      "cell_type": "code",
      "execution_count": 19,
      "metadata": {},
      "outputs": [
        {
          "data": {
            "image/png": "[encoded data removed]",
            "text/plain": [
              "<Figure size 800x600 with 1 Axes>"
            ]
          },
          "metadata": {},
          "output_type": "display_data"
        }
      ],
      "source": [
        "#ROC plot\n",
        "def plot_roc_curves_all_models(y_true, probabilities, classes, species, model_names):\n",
        "    \"\"\"\n",
        "    Plots the ROC curves for all models for the selected species.\n",
        "    \"\"\"\n",
        "    plt.figure(figsize=(8, 6))\n",
        "    species_idx = classes.index(species)\n",
        "\n",
        "    for prob, model_name in zip(probabilities, model_names):\n",
        "        #convert y to binary\n",
        "        y_true_binary = (y_true == species).astype(int)\n",
        "        #compute ROC curve and AUC\n",
        "        fpr, tpr, _ = roc_curve(y_true_binary, prob[:, species_idx])\n",
        "        roc_auc = auc(fpr, tpr)\n",
        "        #plot\n",
        "        plt.plot(fpr, tpr, label=f'{model_name} (AUC = {roc_auc:.2f})')\n",
        "\n",
        "    #reference line\n",
        "    plt.plot([0, 1], [0, 1], 'k--', lw=2)\n",
        "    plt.title(f\"ROC Curves for {species}\")\n",
        "    plt.xlabel(\"False Positive Rate\")\n",
        "    plt.ylabel(\"True Positive Rate\")\n",
        "    plt.legend(loc=\"lower right\")\n",
        "    plt.grid()\n",
        "    plt.show()\n",
        "\n",
        "#store previous probabilities\n",
        "probabilities = [prob_knn3, prob_knn100, prob_tree1, prob_tree01]\n",
        "model_names = [\"kNN (3)\", \"kNN (100)\", \"Decision Tree (alpha=1)\", \"Decision Tree (alpha=0.1)\"]\n",
        "#plot for adelie\n",
        "plot_roc_curves_all_models(y_test, probabilities, classes, species=\"Adelie\", model_names=model_names)\n"
      ]
    }
  ],
  "metadata": {
    "colab": {
      "provenance": []
    },
    "kernelspec": {
      "display_name": "Python 3",
      "name": "python3"
    },
    "language_info": {
      "name": "python"
    }
  },
  "nbformat": 4,
  "nbformat_minor": 0
}
