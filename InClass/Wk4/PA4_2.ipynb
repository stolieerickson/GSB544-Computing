{
  "cells": [
    {
      "cell_type": "markdown",
      "metadata": {
        "id": "kPj76X_FP2uq"
      },
      "source": [
        "## Setup\n",
        "\n",
        "Run the code below to load the scrambled message:\n"
      ]
    },
    {
      "cell_type": "code",
      "execution_count": 12,
      "metadata": {
        "id": "YwkYMR2qP2ur"
      },
      "outputs": [],
      "source": [
        "import pandas as pd\n",
        "import re\n",
        "message = pd.read_csv(\"https://www.dropbox.com/s/lgpn3vmksk3ssdo/scrambled_message.txt?dl=1\")['Word']"
      ]
    },
    {
      "cell_type": "code",
      "execution_count": 2,
      "metadata": {
        "colab": {
          "base_uri": "https://localhost:8080/"
        },
        "id": "rqykaCOxF1Z9",
        "outputId": "78651d97-c46b-4c24-b5e9-f67ae6a0ea1c"
      },
      "outputs": [
        {
          "data": {
            "text/plain": [
              "0                    Koila!\n",
              "1                     In   \n",
              "2                     kiew,\n",
              "3                         a\n",
              "4                 humble   \n",
              "               ...         \n",
              "122                     you\n",
              "123                 mabugh.\n",
              "124              ughhh?call\n",
              "125        meugh.ughhhh!   \n",
              "126                      K.\n",
              "Name: Word, Length: 127, dtype: object"
            ]
          },
          "execution_count": null,
          "metadata": {},
          "output_type": "execute_result"
        }
      ],
      "source": [
        "message"
      ]
    },
    {
      "cell_type": "markdown",
      "metadata": {
        "id": "cI8ZE3LAP2us"
      },
      "source": [
        "In this activity, a \"word\" refers to any set of characters with no white space, even though they are not truly an English word.  That is, even though many of elements of the scrambled message vector are nonsense, and some have punctuation, you can consider each element to be a \"word\".\n",
        "\n",
        "Beware!  The object named `message` is a **pandas Series** of strings.  If you want to use functions that expect a string, rather than a series, remember `.apply()` and `lambda` functions.\n",
        "\n"
      ]
    },
    {
      "cell_type": "markdown",
      "metadata": {
        "id": "dYISAD8uQLAy"
      },
      "source": [
        "\n",
        "## Warm-up exercises\n",
        "\n",
        "1. How many characters are in the scrambled message?\n",
        "2544\n",
        "2. How many of these characters are white space?\n",
        "1652\n",
        "3. How many words are in the scrambled message?\n",
        "127\n",
        "4. Show all the punctuation marks in the scrambled message.\n",
        "5. Print out, in all capitals, the longest word in the scrambled message.\n",
        "KAUDEVILLIANUGH?AOGHAJDBN\n",
        "6. Print out every piece of a word that starts with the letter \"m\" and ends with the letter \"z\" in the scrambled message.\n",
        "maaz\n"
      ]
    },
    {
      "cell_type": "code",
      "execution_count": 31,
      "metadata": {
        "id": "6vB1tbjiQNvE"
      },
      "outputs": [
        {
          "data": {
            "text/plain": [
              "['maaz']"
            ]
          },
          "execution_count": null,
          "metadata": {},
          "output_type": "execute_result"
        }
      ],
      "source": [
        "#how many characters are in the scrambled message\n",
        "message.str.len().sum()\n",
        "#how many characters are white space\n",
        "message.str.count(r'\\s').sum()\n",
        "#how many words\n",
        "message.str.split().str.len().sum()\n",
        "#show all punctuation marks\n",
        "message.str.findall(r'[^\\w\\s]')\n",
        "#print out in all captitals the longest word in the scrambled message\n",
        "message_str = \" \".join(message)\n",
        "words = message_str.split()\n",
        "longest_word = max(words, key=len)\n",
        "longest_word.upper()\n",
        "#print every piece of a word that starts with m and ends with z\n",
        "re.findall(r'\\bm\\w*z\\b', message_str)"
      ]
    },
    {
      "cell_type": "markdown",
      "metadata": {
        "id": "l3iJnnCJQOh7"
      },
      "source": [
        "\n",
        "\n",
        "## Decode a message\n",
        "\n",
        "Complete the following steps to decode the message.  \n",
        "\n",
        "1. Remove any spaces before or after each word.\n",
        "2. Any time you see the word \"ugh\", with any number of h's, followed by a punctuation mark, delete this.\n",
        "3. No word should be longer than 16 characters. Drop all extra characters beyond 13 off the end of each word.\n",
        "4. Replace all instances of exactly 2 a's with exactly 2 e's.\n",
        "5. Replace all z's with t's.\n",
        "6. Every word that ends in b, change that to a y.  *Hint: look out for punctuation!*\n",
        "7. Every word that starts with k, change that to a v.  *Hint: look out for capitalization!*\n",
        "8. Use `.join()` to recombine all your words into a message.\n",
        "9. Find the movie this quote is from.\n",
        "V for Vendetta"
      ]
    },
    {
      "cell_type": "code",
      "execution_count": 63,
      "metadata": {
        "id": "RRfjUzxMQQ5j"
      },
      "outputs": [
        {
          "name": "stdout",
          "output_type": "stream",
          "text": [
            "voila! in view, a humble vaudevillianaogh veteran, cast vicariously as both victim and villain by the vicissitudes of fate. this visage, no mere veneer of vanity, is a vestige of the vox populi now vacant, vanished. however, this valorous visitation of a bygone vexation stands vivified, and has vowed to vanquish these venal and virulent vermin, van guarding vice and vouchsafing the violently vicious and voracious violation of volition. the only verdict is vengeance; a vendetta, held as a votive not in vain, for the value and veracity of such shall one day vindicate the vigilant and the virtuous. verily this vichyssoise of verbiage veers most verbose, so let me simply add that its my very good honour to meet you and you may call me v.\n",
            "voila! in view, a humble vaudevillianaogh veteran, cast vicariously as both victim and villain by the vicissitudes of fate. this visage, no mere veneer of vanity, is a vestige of the vox populi now vacant, vanished. however, this valorous visitation of a bygone vexation stands vivified, and has vowed to vanquish these venal and virulent vermin, van guarding vice and vouchsafing the violently vicious and voracious violation of volition. the only verdict is vengeance; a vendetta, held as a votive not in vain, for the value and veracity of such shall one day vindicate the vigilant and the virtuous. verily this vichyssoise of verbiage veers most verbose, so let me simply add that its my very good honour to meet you and you may call me v.\n"
          ]
        }
      ],
      "source": [
        "message_str = \" \".join(message)\n",
        "#remove any spaces before or after each word\n",
        "no_space = message_str.strip()\n",
        "#any time the word ugh and punctuation, delete this\n",
        "no_ugh = re.sub(r'ugh+h*\\W', '', message_str)\n",
        "#no word should be longer than 16 characters\n",
        "#drop all extra characters beyond 13 off the end of each word\n",
        "step_3 = \" \".join([word[:16] for word in no_ugh.split()]).strip()\n",
        "#replace exactly 2 a with 2 e\n",
        "step_4 = re.sub(r'aa', 'ee', step_3)\n",
        "#replace all z with t\n",
        "step_5 = re.sub(r'z', 't', step_4)\n",
        "#every word that ends in b, change that to a y\n",
        "step_6 = re.sub(r'b\\b', 'y', step_5)\n",
        "#every word that starts with a k, change to a v\n",
        "lower = step_6.lower()\n",
        "step_7 = re.sub(r'\\bk', 'v', lower)\n",
        "#use .join() to recombine all words (already done)\n",
        "print(step_7)"
      ]
    }
  ],
  "metadata": {
    "colab": {
      "provenance": []
    },
    "kernelspec": {
      "display_name": "Python 3",
      "language": "python",
      "name": "python3"
    },
    "language_info": {
      "name": "python"
    }
  },
  "nbformat": 4,
  "nbformat_minor": 0
}
