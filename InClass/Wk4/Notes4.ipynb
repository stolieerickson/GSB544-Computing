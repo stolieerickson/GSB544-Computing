{
 "cells": [
  {
   "cell_type": "markdown",
   "metadata": {},
   "source": [
    "Class Notes 10/14"
   ]
  },
  {
   "cell_type": "code",
   "execution_count": 2,
   "metadata": {
    "vscode": {
     "languageId": "python"
    }
   },
   "outputs": [],
   "source": [
    "import requests\n",
    "response = requests.get(\"https://statistics.calpoly.edu/content/directory\")\n",
    "from bs4 import BeautifulSoup\n",
    "soup = BeautifulSoup(response.content, \"html.parser\")"
   ]
  },
  {
   "cell_type": "markdown",
   "metadata": {},
   "source": [
    "Visit the web page above, and view the HTML source of that page. Locate an element of interest and identify its id attribute. Then run the following to try extracting it"
   ]
  },
  {
   "cell_type": "code",
   "execution_count": 4,
   "metadata": {
    "vscode": {
     "languageId": "python"
    }
   },
   "outputs": [
    {
     "name": "stdout",
     "output_type": "stream",
     "text": [
      "<div id=\"breadcrumb\">\n",
      " <a href=\"/\">\n",
      "  Home\n",
      " </a>\n",
      " : Directory\n",
      "</div>\n",
      "\n",
      "<div id=\"breadcrumb\">\n",
      " <a href=\"/\">\n",
      "  Home\n",
      " </a>\n",
      " : Directory\n",
      "</div>\n",
      "\n"
     ]
    }
   ],
   "source": [
    "results = soup.find(id=\"breadcrumb\")\n",
    "print(results.prettify())"
   ]
  }
 ],
 "metadata": {
  "language_info": {
   "name": "plaintext"
  }
 },
 "nbformat": 4,
 "nbformat_minor": 2
}
