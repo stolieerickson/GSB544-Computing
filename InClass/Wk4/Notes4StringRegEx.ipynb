{
 "cells": [
  {
   "cell_type": "code",
   "execution_count": 3,
   "metadata": {},
   "outputs": [
    {
     "name": "stdout",
     "output_type": "stream",
     "text": [
      "5\n",
      "1\n",
      "5\n",
      "5\n",
      "1\n",
      "5\n"
     ]
    }
   ],
   "source": [
    "me = \"Kelly\"\n",
    "me_list = [\"Kelly\"]\n",
    "\n",
    "print(len(me))\n",
    "print(len(me_list))\n",
    "print(len(me_list[0]))"
   ]
  }
 ],
 "metadata": {
  "language_info": {
   "name": "python"
  }
 },
 "nbformat": 4,
 "nbformat_minor": 2
}
