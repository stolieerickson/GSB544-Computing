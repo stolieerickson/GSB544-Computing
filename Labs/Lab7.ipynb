{
 "cells": [
  {
   "cell_type": "raw",
   "metadata": {},
   "source": [
    "---\n",
    "title: 'Lab 7: Heart Attack'\n",
    "author: \"Stolie Erickson\"\n",
    "format:\n",
    "    html:\n",
    "        code-fold: true\n",
    "        embed-resources: true\n",
    "        toc: true\n",
    "theme: flatly\n",
    "---"
   ]
  },
  {
   "cell_type": "markdown",
   "metadata": {},
   "source": [
    "## Initial Investigation\n",
    "\n",
    "Although it is not a formal question on this assignment, you should begin by reading in the dataset and briefly exploring and summarizing the data, and by adjusting any variables that need cleaning"
   ]
  },
  {
   "cell_type": "code",
   "execution_count": 53,
   "metadata": {
    "vscode": {
     "languageId": "python"
    }
   },
   "outputs": [],
   "source": [
    "import pandas as pd\n",
    "import numpy as np\n",
    "from sklearn.model_selection import GridSearchCV, cross_val_score, train_test_split\n",
    "from sklearn.metrics import roc_auc_score, confusion_matrix, roc_curve, auc, precision_score, recall_score, cohen_kappa_score\n",
    "from sklearn.neighbors import KNeighborsClassifier\n",
    "from sklearn.linear_model import LogisticRegression\n",
    "from sklearn.tree import DecisionTreeClassifier\n",
    "from sklearn.feature_selection import SelectKBest, f_classif\n",
    "from sklearn.pipeline import Pipeline\n",
    "import matplotlib.pyplot as plt\n",
    "from sklearn.preprocessing import StandardScaler, PolynomialFeatures, OneHotEncoder\n",
    "from sklearn.compose import ColumnTransformer, make_column_selector"
   ]
  },
  {
   "cell_type": "code",
   "execution_count": 37,
   "metadata": {
    "vscode": {
     "languageId": "python"
    }
   },
   "outputs": [
    {
     "name": "stdout",
     "output_type": "stream",
     "text": [
      "              age         sex          cp      trtbps        chol  \\\n",
      "count  273.000000  273.000000  273.000000  273.000000  273.000000   \n",
      "mean    54.347985    0.673993    0.974359  132.098901  246.860806   \n",
      "std      9.163134    0.469611    1.030456   17.700358   52.569726   \n",
      "min     29.000000    0.000000    0.000000   94.000000  126.000000   \n",
      "25%     47.000000    0.000000    0.000000  120.000000  211.000000   \n",
      "50%     56.000000    1.000000    1.000000  130.000000  240.000000   \n",
      "75%     61.000000    1.000000    2.000000  140.000000  275.000000   \n",
      "max     77.000000    1.000000    3.000000  200.000000  564.000000   \n",
      "\n",
      "          restecg     thalach      output  \n",
      "count  273.000000  273.000000  273.000000  \n",
      "mean     0.538462  149.446886    0.534799  \n",
      "std      0.528059   23.240707    0.499704  \n",
      "min      0.000000   71.000000    0.000000  \n",
      "25%      0.000000  133.000000    0.000000  \n",
      "50%      1.000000  152.000000    1.000000  \n",
      "75%      1.000000  166.000000    1.000000  \n",
      "max      2.000000  202.000000    1.000000  \n",
      "age        int64\n",
      "sex        int64\n",
      "cp         int64\n",
      "trtbps     int64\n",
      "chol       int64\n",
      "restecg    int64\n",
      "thalach    int64\n",
      "output     int64\n",
      "dtype: object\n",
      "age        0\n",
      "sex        0\n",
      "cp         0\n",
      "trtbps     0\n",
      "chol       0\n",
      "restecg    0\n",
      "thalach    0\n",
      "output     0\n",
      "dtype: int64\n",
      "              age         sex          cp      trtbps        chol  \\\n",
      "count  273.000000  273.000000  273.000000  273.000000  273.000000   \n",
      "mean    54.347985    0.673993    0.974359  132.098901  246.860806   \n",
      "std      9.163134    0.469611    1.030456   17.700358   52.569726   \n",
      "min     29.000000    0.000000    0.000000   94.000000  126.000000   \n",
      "25%     47.000000    0.000000    0.000000  120.000000  211.000000   \n",
      "50%     56.000000    1.000000    1.000000  130.000000  240.000000   \n",
      "75%     61.000000    1.000000    2.000000  140.000000  275.000000   \n",
      "max     77.000000    1.000000    3.000000  200.000000  564.000000   \n",
      "\n",
      "          restecg     thalach      output  \n",
      "count  273.000000  273.000000  273.000000  \n",
      "mean     0.538462  149.446886    0.534799  \n",
      "std      0.528059   23.240707    0.499704  \n",
      "min      0.000000   71.000000    0.000000  \n",
      "25%      0.000000  133.000000    0.000000  \n",
      "50%      1.000000  152.000000    1.000000  \n",
      "75%      1.000000  166.000000    1.000000  \n",
      "max      2.000000  202.000000    1.000000  \n",
      "age        int64\n",
      "sex        int64\n",
      "cp         int64\n",
      "trtbps     int64\n",
      "chol       int64\n",
      "restecg    int64\n",
      "thalach    int64\n",
      "output     int64\n",
      "dtype: object\n",
      "age        0\n",
      "sex        0\n",
      "cp         0\n",
      "trtbps     0\n",
      "chol       0\n",
      "restecg    0\n",
      "thalach    0\n",
      "output     0\n",
      "dtype: int64\n"
     ]
    }
   ],
   "source": [
    "#reading in the data\n",
    "ha = pd.read_csv(\"https://www.dropbox.com/s/aohbr6yb9ifmc8w/heart_attack.csv?dl=1\")\n",
    "#summary statistics\n",
    "pd.set_option('display.max_columns', None)\n",
    "pd.set_option('display.max_rows', None)\n",
    "print(ha.describe())\n",
    "#variable data types\n",
    "print(ha.dtypes)\n",
    "#missing values\n",
    "print(ha.isnull().sum())"
   ]
  },
  {
   "cell_type": "markdown",
   "metadata": {},
   "source": [
    "The dataset consists of 273 patient records with no missing values. Key variables include age (ranging from 29 to 77, with a mean of 54.35), chest pain type (cp), and cholesterol levels (chol) which vary widely from 126 to 564 mg/dL. The maximum heart rate achieved (thalach) averages 149.45 bpm, while resting blood pressure (trtbps) has a mean of 132.1 mm Hg. The target variable (output) indicates that 53.48% of patients are at risk of a heart attack. All variables are appropriately stored as integers, ensuring consistency for analysis."
   ]
  },
  {
   "cell_type": "markdown",
   "metadata": {},
   "source": [
    "## Part One: Fitting Models\n",
    "\n",
    "This section asks you to create a final best model for each of the model types studied this week. For each, you should:\n",
    "\n",
    "- Find the best model based on ROC AUC for predicting the target variable.\n",
    "\n",
    "- Report the (cross-validated!) ROC AUC metric.\n",
    "\n",
    "- Fit the final model.\n",
    "\n",
    "- Output a confusion matrix; that is, the counts of how many observations fell into each predicted class for each true class.\n",
    "\n",
    "(Where applicable) Interpret the coefficients and/or estimates produced by the model fit.\n",
    "\n",
    "You should certainly try multiple model pipelines to find the best model. You do not need to include the output for every attempted model, but you should describe all of the models explored. You should include any hyperparameter tuning steps in your writeup as well. "
   ]
  },
  {
   "cell_type": "code",
   "execution_count": 38,
   "metadata": {
    "vscode": {
     "languageId": "python"
    }
   },
   "outputs": [],
   "source": [
    "#separate numeric and categorical columns\n",
    "numeric_columns = ['age', 'trtbps', 'chol', 'thalach'] \n",
    "categorical_columns = ['sex', 'cp', 'restecg'] \n",
    "\n",
    "#standardize\n",
    "scaler = StandardScaler()\n",
    "X_numeric = scaler.fit_transform(ha[numeric_columns])\n",
    "\n",
    "#dummify\n",
    "encoder = OneHotEncoder(drop='first', sparse_output=False)\n",
    "X_categorical = encoder.fit_transform(ha[categorical_columns])\n",
    "\n",
    "#combine\n",
    "X_transformed = np.concatenate([X_numeric, X_categorical], axis=1)\n",
    "\n",
    "#get the names\n",
    "num_columns = numeric_columns\n",
    "cat_columns = encoder.get_feature_names_out(categorical_columns)\n",
    "\n",
    "#combine\n",
    "all_columns = np.concatenate([num_columns, cat_columns])\n",
    "\n",
    "#convert to a pandas dataframe\n",
    "X_transformed_df = pd.DataFrame(X_transformed, columns=all_columns)\n",
    "\n",
    "#target variable\n",
    "y = ha['output']\n",
    "\n",
    "#train test split\n",
    "X_train, X_test, y_train, y_test = train_test_split(X_transformed_df, y, test_size=0.2, random_state=1)"
   ]
  },
  {
   "cell_type": "code",
   "execution_count": 39,
   "metadata": {
    "vscode": {
     "languageId": "python"
    }
   },
   "outputs": [],
   "source": [
    "\n",
    "def find_best_model(X_train, X_test, y_train, y_test, model, param_grid, model_name, classes):\n",
    "    \"\"\"\n",
    "    Fits the best model using GridSearchCV (with hyperparameter tuning), evaluates ROC AUC, outputs a confusion matrix,\n",
    "    and provides a summary of model coefficients or feature importances.\n",
    "    \"\"\"\n",
    "    #hyperparameter tuning\n",
    "    grid_search = GridSearchCV(model, param_grid, scoring='roc_auc', cv=5)\n",
    "    grid_search.fit(X_train, y_train)\n",
    "    \n",
    "    #best model and parameters\n",
    "    best_model = grid_search.best_estimator_\n",
    "    best_params = grid_search.best_params_\n",
    "    \n",
    "    #ROC AUC\n",
    "    cv_auc = cross_val_score(best_model, X_train, y_train, scoring='roc_auc', cv=5).mean()\n",
    "    print(f\"{model_name} Cross-Validated ROC AUC: {cv_auc:.2f}\")\n",
    "    print(f\"{model_name} Best Parameters: {best_params}\")\n",
    "    \n",
    "    #fit final model and make predictions\n",
    "    best_model.fit(X_train, y_train)\n",
    "    y_pred = best_model.predict(X_test)\n",
    "    \n",
    "    #confusion matrix\n",
    "    cm = confusion_matrix(y_test, y_pred, labels=classes)\n",
    "    print(f\"{model_name} Confusion Matrix:\\n{pd.DataFrame(cm, index=classes, columns=classes)}\")\n",
    "    \n",
    "    \n",
    "    if hasattr(best_model, 'coef_'):\n",
    "        coefficients = best_model.coef_[0]\n",
    "        feature_importances = pd.Series(coefficients, index=X_train.columns).sort_values(ascending=False)\n",
    "        print(f\"{model_name} Top Coefficients:\\n{feature_importances.head(10)}\")\n",
    "    elif hasattr(best_model, 'feature_importances_'):\n",
    "        importances = best_model.feature_importances_\n",
    "        feature_importances = pd.Series(importances, index=X_train.columns).sort_values(ascending=False)\n",
    "        print(f\"{model_name} To#model coefficients/feature importancep Feature Importances:\\n{feature_importances.head(10)}\")\n",
    "    else:\n",
    "        print(f\"{model_name} does not provide coefficients or feature importances.\")\n",
    "    \n",
    "    return best_model, best_params"
   ]
  },
  {
   "cell_type": "markdown",
   "metadata": {},
   "source": [
    "### Q1: KNN"
   ]
  },
  {
   "cell_type": "code",
   "execution_count": 40,
   "metadata": {
    "vscode": {
     "languageId": "python"
    }
   },
   "outputs": [
    {
     "name": "stdout",
     "output_type": "stream",
     "text": [
      "KNN Cross-Validated ROC AUC: 0.78\n",
      "KNN Best Parameters: {'n_neighbors': 22, 'weights': 'distance'}\n",
      "KNN Confusion Matrix:\n",
      "    0   1\n",
      "0  17   7\n",
      "1  10  21\n",
      "KNN does not provide coefficients or feature importances.\n",
      "KNN Cross-Validated ROC AUC: 0.78\n",
      "KNN Best Parameters: {'n_neighbors': 22, 'weights': 'distance'}\n",
      "KNN Confusion Matrix:\n",
      "    0   1\n",
      "0  17   7\n",
      "1  10  21\n",
      "KNN does not provide coefficients or feature importances.\n"
     ]
    }
   ],
   "source": [
    "#knn\n",
    "knn_model, knn_params = find_best_model(\n",
    "    X_train, X_test, y_train, y_test,\n",
    "    KNeighborsClassifier(),\n",
    "    param_grid={'n_neighbors': range(1, 30), 'weights': ['uniform', 'distance']},\n",
    "    model_name=\"KNN\",\n",
    "    classes=[0, 1]\n",
    ")"
   ]
  },
  {
   "cell_type": "markdown",
   "metadata": {},
   "source": [
    "### Q2: Logistic Regression"
   ]
  },
  {
   "cell_type": "code",
   "execution_count": 41,
   "metadata": {
    "vscode": {
     "languageId": "python"
    }
   },
   "outputs": [
    {
     "name": "stdout",
     "output_type": "stream",
     "text": [
      "Logistic Regression Cross-Validated ROC AUC: 0.86\n",
      "Logistic Regression Best Parameters: {'C': 10}\n",
      "Logistic Regression Confusion Matrix:\n",
      "    0   1\n",
      "0  18   6\n",
      "1   4  27\n",
      "Logistic Regression Top Coefficients:\n",
      "cp_1         2.497107\n",
      "cp_2         1.947503\n",
      "cp_3         1.843591\n",
      "thalach      0.824617\n",
      "restecg_1    0.069565\n",
      "age         -0.179601\n",
      "chol        -0.309562\n",
      "trtbps      -0.421723\n",
      "restecg_2   -0.655329\n",
      "sex_1       -2.256529\n",
      "dtype: float64\n",
      "Logistic Regression Cross-Validated ROC AUC: 0.86\n",
      "Logistic Regression Best Parameters: {'C': 10}\n",
      "Logistic Regression Confusion Matrix:\n",
      "    0   1\n",
      "0  18   6\n",
      "1   4  27\n",
      "Logistic Regression Top Coefficients:\n",
      "cp_1         2.497107\n",
      "cp_2         1.947503\n",
      "cp_3         1.843591\n",
      "thalach      0.824617\n",
      "restecg_1    0.069565\n",
      "age         -0.179601\n",
      "chol        -0.309562\n",
      "trtbps      -0.421723\n",
      "restecg_2   -0.655329\n",
      "sex_1       -2.256529\n",
      "dtype: float64\n"
     ]
    }
   ],
   "source": [
    "#logistic regression\n",
    "log_reg_model, log_reg_params = find_best_model(\n",
    "    X_train, X_test, y_train, y_test,\n",
    "    LogisticRegression(max_iter=1000, solver='liblinear'),\n",
    "    param_grid={'C': [0.01, 0.1, 1, 10, 100]},\n",
    "    model_name=\"Logistic Regression\",\n",
    "    classes=[0, 1]\n",
    ")"
   ]
  },
  {
   "cell_type": "markdown",
   "metadata": {},
   "source": [
    "### Q3: Decision Tree"
   ]
  },
  {
   "cell_type": "code",
   "execution_count": 42,
   "metadata": {
    "vscode": {
     "languageId": "python"
    }
   },
   "outputs": [
    {
     "name": "stdout",
     "output_type": "stream",
     "text": [
      "Decision Tree Cross-Validated ROC AUC: 0.74\n",
      "Decision Tree Best Parameters: {'max_depth': 5, 'min_samples_leaf': 10, 'min_samples_split': 2}\n",
      "Decision Tree Confusion Matrix:\n",
      "    0   1\n",
      "0  16   8\n",
      "1  13  18\n",
      "Decision Tree To#model coefficients/feature importancep Feature Importances:\n",
      "thalach      0.412982\n",
      "age          0.171467\n",
      "cp_1         0.126985\n",
      "cp_2         0.104256\n",
      "sex_1        0.085949\n",
      "chol         0.057662\n",
      "trtbps       0.040699\n",
      "cp_3         0.000000\n",
      "restecg_1    0.000000\n",
      "restecg_2    0.000000\n",
      "dtype: float64\n",
      "Decision Tree Cross-Validated ROC AUC: 0.74\n",
      "Decision Tree Best Parameters: {'max_depth': 5, 'min_samples_leaf': 10, 'min_samples_split': 2}\n",
      "Decision Tree Confusion Matrix:\n",
      "    0   1\n",
      "0  16   8\n",
      "1  13  18\n",
      "Decision Tree To#model coefficients/feature importancep Feature Importances:\n",
      "thalach      0.412982\n",
      "age          0.171467\n",
      "cp_1         0.126985\n",
      "cp_2         0.104256\n",
      "sex_1        0.085949\n",
      "chol         0.057662\n",
      "trtbps       0.040699\n",
      "cp_3         0.000000\n",
      "restecg_1    0.000000\n",
      "restecg_2    0.000000\n",
      "dtype: float64\n"
     ]
    }
   ],
   "source": [
    "#decision tree\n",
    "tree_model, tree_params = find_best_model(\n",
    "    X_train, X_test, y_train, y_test,\n",
    "    DecisionTreeClassifier(),\n",
    "    param_grid={'max_depth': [None, 5, 10, 20],\n",
    "                'min_samples_split': [2, 10, 20],\n",
    "                'min_samples_leaf': [1, 5, 10]},\n",
    "    model_name=\"Decision Tree\",\n",
    "    classes=[0, 1]\n",
    ")"
   ]
  },
  {
   "cell_type": "markdown",
   "metadata": {},
   "source": [
    "### Q4: Interpretation\n",
    "\n",
    "Which predictors were most important to predicting heart attack risk?\n",
    "\n",
    "Logistic Regression emphasizes cp (chest pain type) and restecg (resting ECG results). Decision Tree also highlights cp, thalach, and chol (cholesterol)."
   ]
  },
  {
   "cell_type": "markdown",
   "metadata": {},
   "source": [
    "### Q5: ROC Curve"
   ]
  },
  {
   "cell_type": "code",
   "execution_count": 43,
   "metadata": {
    "vscode": {
     "languageId": "python"
    }
   },
   "outputs": [
    {
     "data": {
      "image/png": "[encoded data removed]",
      "text/plain": [
       "<Figure size 1000x800 with 1 Axes>"
      ]
     },
     "metadata": {},
     "output_type": "display_data"
    }
   ],
   "source": [
    "#function for plotting the ROC curve\n",
    "def plot_roc_curve(models, X_test, y_test, model_names):\n",
    "    plt.figure(figsize=(10, 8))\n",
    "\n",
    "    for model, model_name in zip(models, model_names):\n",
    "        #get probabilities for ROC curve\n",
    "        if hasattr(model, 'predict_proba'):\n",
    "            y_proba = model.predict_proba(X_test)[:, 1]\n",
    "            fpr, tpr, _ = roc_curve(y_test, y_proba)\n",
    "            roc_auc = auc(fpr, tpr)\n",
    "            \n",
    "            #plot ROC curve\n",
    "            plt.plot(fpr, tpr, label=f'{model_name} (AUC = {roc_auc:.2f})')\n",
    "\n",
    "    #finalize labels\n",
    "    plt.plot([0, 1], [0, 1], 'k--', label=\"Random Guess\")\n",
    "    plt.title('ROC Curve for All Models')\n",
    "    plt.xlabel('False Positive Rate')\n",
    "    plt.ylabel('True Positive Rate')\n",
    "    plt.legend(loc='lower right')\n",
    "    plt.grid(True)\n",
    "    plt.show()\n",
    "\n",
    "#store the models in a list\n",
    "models = [knn_model, log_reg_model, tree_model]\n",
    "model_names = [\"KNN\", \"Logistic Regression\", \"Decision Tree\"]\n",
    "\n",
    "#plot for all models\n",
    "plot_roc_curve(models, X_test, y_test, model_names)"
   ]
  },
  {
   "cell_type": "markdown",
   "metadata": {},
   "source": [
    "## Part Two: Metrics"
   ]
  },
  {
   "cell_type": "markdown",
   "metadata": {},
   "source": [
    "Consider the following metrics:\n",
    "\n",
    "True Positive Rate or Recall or Sensitivity = Of the observations that are truly Class A, how many were predicted to be Class A?\n",
    "\n",
    "Precision or Positive Predictive Value = Of all the observations classified as Class A, how many of them were truly from Class A?\n",
    "\n",
    "True Negative Rate or Specificity or Negative Predictive Value = Of all the observations classified as NOT Class A, how many were truly NOT Class A?\n",
    "\n",
    "Compute each of these metrics (cross-validated) for your three models (KNN, Logistic Regression, and Decision Tree) in Part One."
   ]
  },
  {
   "cell_type": "code",
   "execution_count": 44,
   "metadata": {
    "vscode": {
     "languageId": "python"
    }
   },
   "outputs": [],
   "source": [
    "#function to calculate all metrics\n",
    "def calculate_metrics(TP, TN, FP, FN):\n",
    "    \"\"\"\n",
    "    Calculate Sensitivity, Precision, Specificity, and Cohen's Kappa based on TP, TN, FP, FN.\n",
    "\n",
    "    Parameters:\n",
    "    TP (int): True Positives\n",
    "    TN (int): True Negatives\n",
    "    FP (int): False Positives\n",
    "    FN (int): False Negatives\n",
    "\n",
    "    Returns:\n",
    "    dict: A dictionary with Sensitivity, Precision, Specificity, and Cohen's Kappa\n",
    "    \"\"\"\n",
    "    #sensitivity (recall)\n",
    "    sensitivity = TP / (TP + FN) if (TP + FN) != 0 else 0\n",
    "    #precision\n",
    "    precision = TP / (TP + FP) if (TP + FP) != 0 else 0\n",
    "    #specificity\n",
    "    specificity = TN / (TN + FP) if (TN + FP) != 0 else 0\n",
    "    #cohens kappa\n",
    "    #observed\n",
    "    P_o = (TP + TN) / (TP + TN + FP + FN)\n",
    "    #expected\n",
    "    P_e = ((TP + FP) * (TP + FN) + (TN + FP) * (TN + FN)) / (TP + TN + FP + FN) ** 2 \n",
    "    kappa = (P_o - P_e) / (1 - P_e) if (1 - P_e) != 0 else 0\n",
    "\n",
    "    #return\n",
    "    return {\n",
    "        \"Sensitivity\": sensitivity,\n",
    "        \"Precision\": precision,\n",
    "        \"Specificity\": specificity,\n",
    "        \"Cohen's Kappa\": kappa\n",
    "    }\n"
   ]
  },
  {
   "cell_type": "markdown",
   "metadata": {},
   "source": [
    "### KNN Model"
   ]
  },
  {
   "cell_type": "code",
   "execution_count": 45,
   "metadata": {
    "vscode": {
     "languageId": "python"
    }
   },
   "outputs": [
    {
     "data": {
      "text/plain": [
       "{'Sensitivity': 0.75,\n",
       " 'Precision': 0.6774193548387096,\n",
       " 'Specificity': 0.6296296296296297,\n",
       " \"Cohen's Kappa\": 0.3803843605036448}"
      ]
     },
     "execution_count": null,
     "metadata": {},
     "output_type": "execute_result"
    }
   ],
   "source": [
    "tp_knn = 21\n",
    "tn_knn = 17\n",
    "fp_knn = 10\n",
    "fn_knn = 7\n",
    "calculate_metrics(tp_knn, tn_knn, fp_knn, fn_knn)"
   ]
  },
  {
   "cell_type": "markdown",
   "metadata": {},
   "source": [
    "### Logistic Regression Model"
   ]
  },
  {
   "cell_type": "code",
   "execution_count": 46,
   "metadata": {
    "vscode": {
     "languageId": "python"
    }
   },
   "outputs": [
    {
     "data": {
      "text/plain": [
       "{'Sensitivity': 0.8181818181818182,\n",
       " 'Precision': 0.8709677419354839,\n",
       " 'Specificity': 0.8181818181818182,\n",
       " \"Cohen's Kappa\": 0.6268656716417912}"
      ]
     },
     "execution_count": null,
     "metadata": {},
     "output_type": "execute_result"
    }
   ],
   "source": [
    "tp_log = 27\n",
    "tn_log = 18\n",
    "fp_log = 4\n",
    "fn_log = 6\n",
    "calculate_metrics(tp_log, tn_log, fp_log, fn_log)"
   ]
  },
  {
   "cell_type": "markdown",
   "metadata": {},
   "source": [
    "### Decision Tree Model"
   ]
  },
  {
   "cell_type": "code",
   "execution_count": 47,
   "metadata": {
    "vscode": {
     "languageId": "python"
    }
   },
   "outputs": [
    {
     "data": {
      "text/plain": [
       "{'Sensitivity': 0.6923076923076923,\n",
       " 'Precision': 0.5806451612903226,\n",
       " 'Specificity': 0.5517241379310345,\n",
       " \"Cohen's Kappa\": 0.24162836506894284}"
      ]
     },
     "execution_count": null,
     "metadata": {},
     "output_type": "execute_result"
    }
   ],
   "source": [
    "tp_dt = 18\n",
    "tn_dt = 16\n",
    "fp_dt = 13\n",
    "fn_dt = 8\n",
    "calculate_metrics(tp_dt, tn_dt, fp_dt, fn_dt)"
   ]
  },
  {
   "cell_type": "markdown",
   "metadata": {},
   "source": [
    "## Part Three: Discussion\n",
    "\n",
    "Suppose you have been hired by a hospital to create classification models for heart attack risk.\n",
    "\n",
    "- The following questions give a possible scenario for why the hospital is interested in these models. For each one, discuss:\n",
    "\n",
    "- Which metric(s) you would use for model selection and why.\n",
    "\n",
    "- Which of your final models (Part One Q1-3) you would recommend to the hospital, and why.\n",
    "\n",
    "What score you should expect for your chosen metric(s) using your chosen model to predict future observations."
   ]
  },
  {
   "cell_type": "markdown",
   "metadata": {},
   "source": [
    "### Q1 \n",
    "The hospital faces severe lawsuits if they deem a patient to be low risk, and that patient later experiences a heart attack.\n",
    "\n",
    "Key Concern: The hospital wants to avoid false negatives (when a patient at risk is incorrectly classified as not at risk) because this could lead to lawsuits if a patient who should have been monitored has a heart attack.\n",
    "\n",
    "Metrics to Use:\n",
    "\n",
    "Sensitivity (Recall): The hospital would prioritize sensitivity here because sensitivity measures the proportion of true positives (patients at risk for a heart attack) that the model correctly identifies. High sensitivity ensures that most patients at risk are detected, which reduces the risk of false negatives.\n",
    "\n",
    "Therefore, the model with the highest sensitivity is the Logistic Regression Model."
   ]
  },
  {
   "cell_type": "markdown",
   "metadata": {},
   "source": [
    "### Q2\n",
    "The hospital is overfull, and wants to only use bed space for patients most in need of monitoring due to heart attack risk.\n",
    "\n",
    "Key Concern: The hospital wants to avoid unnecessary hospital admissions and focus only on patients at high risk for heart attacks.\n",
    "\n",
    "Metrics to Use:\n",
    "\n",
    "Precision: Here, precision is important because it measures the proportion of predicted positives (patients flagged as at risk) who are actually at risk. The hospital wants to minimize the number of false positives (patients who are incorrectly identified as at risk and are admitted unnecessarily).\n",
    "\n",
    "The model with the highest precision is the Logistic Regression Model."
   ]
  },
  {
   "cell_type": "markdown",
   "metadata": {},
   "source": [
    "### Q3\n",
    "The hospital is studying root causes of heart attacks, and would like to understand which biological measures are associated with heart attack risk.\n",
    "\n",
    "Key Concern: The hospital is more interested in understanding the relationships between different variables (e.g., age, cholesterol, etc.) and heart attack risk, rather than just making predictions.\n",
    "\n",
    "Metrics to Use:\n",
    "\n",
    "Feature Importance: In this case, rather than focusing on traditional metrics like sensitivity or precision, the hospital would benefit from looking at feature importances from models like Decision Trees, Random Forests, or Logistic Regression. These models can provide insight into which variables (biological measures) are most important for predicting heart attack risk."
   ]
  },
  {
   "cell_type": "markdown",
   "metadata": {},
   "source": [
    "### Q4\n",
    "The hospital is training a new batch of doctors, and they would like to compare the diagnoses of these doctors to the predictions given by the algorithm to measure the ability of new doctors to diagnose patients.\n",
    "\n",
    "Key Concern: The hospital is interested in comparing the predictions made by the model with the diagnoses made by the doctors. Here, the goal is to see how well the model agrees with the doctors.\n",
    "\n",
    "Metrics to Use:\n",
    "\n",
    "Accuracy: Accuracy would be a useful metric here because it will show how well the model's predictions match the actual diagnoses (both positive and negative).\n",
    "\n",
    "The model with the highest accuracy would likely be the Logistic Regression Model. "
   ]
  },
  {
   "cell_type": "markdown",
   "metadata": {},
   "source": [
    "## Part Four: Validation\n",
    "\n",
    "Before sharing the dataset with you, I set aside a random 10% of the observations to serve as a final validation set.\n",
    "\n",
    "Use each of your final models in Part One Q1-3, predict the target variable in the validation dataset.\n",
    "\n",
    "For each, output a confusion matrix, and report the ROC AUC, the precision, and the recall.\n",
    "\n",
    "Compare these values to the cross-validated estimates you reported in Part One and Part Two. Did our measure of model success turn out to be approximately correct for the validation data?"
   ]
  },
  {
   "cell_type": "code",
   "execution_count": 48,
   "metadata": {
    "vscode": {
     "languageId": "python"
    }
   },
   "outputs": [],
   "source": [
    "ha_validation = pd.read_csv(\"https://www.dropbox.com/s/jkwqdiyx6o6oad0/heart_attack_validation.csv?dl=1\")\n",
    "\n",
    "#data preparation\n",
    "numeric_columns = ['age', 'trtbps', 'chol', 'thalach']\n",
    "categorical_columns = ['sex', 'cp', 'restecg']\n",
    "\n",
    "#apply scaler\n",
    "X_new_numeric = scaler.transform(ha_validation[numeric_columns])\n",
    "\n",
    "#apply dummify\n",
    "X_new_categorical = encoder.transform(ha_validation[categorical_columns])\n",
    "\n",
    "#combine\n",
    "X_new_transformed = np.concatenate([X_new_numeric, X_new_categorical], axis=1)\n",
    "\n",
    "#target variable\n",
    "y_new = ha_validation['output']"
   ]
  },
  {
   "cell_type": "markdown",
   "metadata": {},
   "source": [
    "### KNN Model"
   ]
  },
  {
   "cell_type": "code",
   "execution_count": 49,
   "metadata": {
    "vscode": {
     "languageId": "python"
    }
   },
   "outputs": [
    {
     "name": "stdout",
     "output_type": "stream",
     "text": [
      "Confusion Matrix:\n",
      "[[ 8  3]\n",
      " [ 8 11]]\n",
      "ROC AUC: 0.80\n",
      "Precision: 0.79\n",
      "Recall: 0.58\n",
      "Confusion Matrix:\n",
      "[[ 8  3]\n",
      " [ 8 11]]\n",
      "ROC AUC: 0.80\n",
      "Precision: 0.79\n",
      "Recall: 0.58\n"
     ]
    },
    {
     "name": "stderr",
     "output_type": "stream",
     "text": [
      "/opt/anaconda3/lib/python3.12/site-packages/sklearn/base.py:493: UserWarning: X does not have valid feature names, but KNeighborsClassifier was fitted with feature names\n",
      "  warnings.warn(\n",
      "/opt/anaconda3/lib/python3.12/site-packages/sklearn/base.py:493: UserWarning: X does not have valid feature names, but KNeighborsClassifier was fitted with feature names\n",
      "  warnings.warn(\n"
     ]
    }
   ],
   "source": [
    "#generate predictions and probabilities\n",
    "y_pred_knn = knn_model.predict(X_new_transformed)\n",
    "y_pred_proba_knn = knn_model.predict_proba(X_new_transformed)[:, 1]\n",
    "\n",
    "#confusion Matrix\n",
    "cm_knn = confusion_matrix(y_new, y_pred_knn)\n",
    "print(\"Confusion Matrix:\")\n",
    "print(cm_knn)\n",
    "\n",
    "#compute metrics\n",
    "roc_auc_knn = roc_auc_score(y_new, y_pred_proba_knn)\n",
    "precision_knn = precision_score(y_new, y_pred_knn)\n",
    "recall_knn = recall_score(y_new, y_pred_knn)\n",
    "\n",
    "#print\n",
    "print(f\"ROC AUC: {roc_auc_knn:.2f}\")\n",
    "print(f\"Precision: {precision_knn:.2f}\")\n",
    "print(f\"Recall: {recall_knn:.2f}\")"
   ]
  },
  {
   "cell_type": "markdown",
   "metadata": {},
   "source": [
    "The AUC value is the same as it was on the cross validated section of the lab. The precision was higher than it was (0.79 > 0.68) and the recall (sensitivity) decreased from 0.75 to 0.58."
   ]
  },
  {
   "cell_type": "markdown",
   "metadata": {},
   "source": [
    "### Logistic Regression Model"
   ]
  },
  {
   "cell_type": "code",
   "execution_count": 50,
   "metadata": {
    "vscode": {
     "languageId": "python"
    }
   },
   "outputs": [
    {
     "name": "stderr",
     "output_type": "stream",
     "text": [
      "/opt/anaconda3/lib/python3.12/site-packages/sklearn/base.py:493: UserWarning: X does not have valid feature names, but LogisticRegression was fitted with feature names\n",
      "  warnings.warn(\n",
      "/opt/anaconda3/lib/python3.12/site-packages/sklearn/base.py:493: UserWarning: X does not have valid feature names, but LogisticRegression was fitted with feature names\n",
      "  warnings.warn(\n"
     ]
    },
    {
     "name": "stdout",
     "output_type": "stream",
     "text": [
      "Confusion Matrix:\n",
      "[[ 8  3]\n",
      " [ 5 14]]\n",
      "ROC AUC: 0.88\n",
      "Precision: 0.82\n",
      "Recall: 0.74\n",
      "Confusion Matrix:\n",
      "[[ 8  3]\n",
      " [ 5 14]]\n",
      "ROC AUC: 0.88\n",
      "Precision: 0.82\n",
      "Recall: 0.74\n"
     ]
    }
   ],
   "source": [
    "#generate predictions and probabilities\n",
    "y_pred_log = log_reg_model.predict(X_new_transformed)\n",
    "y_pred_proba_log = log_reg_model.predict_proba(X_new_transformed)[:, 1]\n",
    "\n",
    "#confusion Matrix\n",
    "cm_log = confusion_matrix(y_new, y_pred_log)\n",
    "print(\"Confusion Matrix:\")\n",
    "print(cm_log)\n",
    "\n",
    "#compute metrics\n",
    "roc_auc_log = roc_auc_score(y_new, y_pred_proba_log)\n",
    "precision_log = precision_score(y_new, y_pred_log)\n",
    "recall_log = recall_score(y_new, y_pred_log)\n",
    "\n",
    "#print\n",
    "print(f\"ROC AUC: {roc_auc_log:.2f}\")\n",
    "print(f\"Precision: {precision_log:.2f}\")\n",
    "print(f\"Recall: {recall_log:.2f}\")"
   ]
  },
  {
   "cell_type": "markdown",
   "metadata": {},
   "source": [
    "The AUC value in part one was 0.87, and here it increased slightly to 0.88. The precision decreased slightly, from 0.87 to 0.82. The recall (sensitivity) also decreased from 0.82 to 0.74."
   ]
  },
  {
   "cell_type": "markdown",
   "metadata": {},
   "source": [
    "### Decision Tree Model"
   ]
  },
  {
   "cell_type": "code",
   "execution_count": 51,
   "metadata": {
    "vscode": {
     "languageId": "python"
    }
   },
   "outputs": [
    {
     "name": "stdout",
     "output_type": "stream",
     "text": [
      "Confusion Matrix:\n",
      "[[10  1]\n",
      " [ 4 15]]\n",
      "ROC AUC: 0.91\n",
      "Precision: 0.94\n",
      "Recall: 0.79\n",
      "Confusion Matrix:\n",
      "[[10  1]\n",
      " [ 4 15]]\n",
      "ROC AUC: 0.91\n",
      "Precision: 0.94\n",
      "Recall: 0.79\n"
     ]
    },
    {
     "name": "stderr",
     "output_type": "stream",
     "text": [
      "/opt/anaconda3/lib/python3.12/site-packages/sklearn/base.py:493: UserWarning: X does not have valid feature names, but DecisionTreeClassifier was fitted with feature names\n",
      "  warnings.warn(\n",
      "/opt/anaconda3/lib/python3.12/site-packages/sklearn/base.py:493: UserWarning: X does not have valid feature names, but DecisionTreeClassifier was fitted with feature names\n",
      "  warnings.warn(\n"
     ]
    }
   ],
   "source": [
    "#generate predictions and probabilities\n",
    "y_pred_tree = tree_model.predict(X_new_transformed)\n",
    "y_pred_proba_tree = tree_model.predict_proba(X_new_transformed)[:, 1]\n",
    "\n",
    "#confusion Matrix\n",
    "cm = confusion_matrix(y_new, y_pred_tree)\n",
    "print(\"Confusion Matrix:\")\n",
    "print(cm)\n",
    "\n",
    "#compute metrics\n",
    "roc_auc = roc_auc_score(y_new, y_pred_proba_tree)\n",
    "precision = precision_score(y_new, y_pred_tree)\n",
    "recall = recall_score(y_new, y_pred_tree)\n",
    "\n",
    "#print\n",
    "print(f\"ROC AUC: {roc_auc:.2f}\")\n",
    "print(f\"Precision: {precision:.2f}\")\n",
    "print(f\"Recall: {recall:.2f}\")"
   ]
  },
  {
   "cell_type": "markdown",
   "metadata": {},
   "source": [
    "The AUC value increased from 0.70 to  0.90. The precision increased from 0.58 to 0.94. The recall (sensitivity) increased from 0.69 to 0.79."
   ]
  },
  {
   "cell_type": "markdown",
   "metadata": {},
   "source": [
    "## Part Five: Cohen’s Kappa\n",
    "\n",
    "Another common metric used in classification is Cohen’s Kappa.\n",
    "\n",
    "Use online resources to research this measurement. Calculate it for the models from Part One, Q1-3, and discuss reasons or scenarios that would make us prefer to use this metric as our measure of model success. Do your conclusions from above change if you judge your models using Cohen’s Kappa instead? Does this make sense?\n",
    "\n",
    "Cohen’s Kappa measures the agreement between two raters or classifiers, correcting for chance. It ranges from -1 (perfect disagreement) to 1 (perfect agreement), with 0 indicating no better than random chance. It is particularly useful for imbalanced datasets, as it accounts for class distribution when calculating agreement. When used to evaluate models, Kappa can reveal discrepancies between accuracy and actual model performance, especially in scenarios where one class dominates. If Kappa scores are low, it may indicate the model is overfitting to the majority class or not performing well with the minority class, even if accuracy appears high. Some conclusions would change if I were to choose Cohen's Kappa instead of the metric I originally used, and this makes sense because it takes random chance into consideration.\n"
   ]
  },
  {
   "cell_type": "code",
   "execution_count": 54,
   "metadata": {
    "vscode": {
     "languageId": "python"
    }
   },
   "outputs": [
    {
     "name": "stdout",
     "output_type": "stream",
     "text": [
      "Cohen's Kappa KNN: 0.28\n",
      "Cohen's Kappa Logistic: 0.45\n",
      "Cohen's Kappa Tree: 0.66\n",
      "Cohen's Kappa KNN: 0.28\n",
      "Cohen's Kappa Logistic: 0.45\n",
      "Cohen's Kappa Tree: 0.66\n"
     ]
    }
   ],
   "source": [
    "#cohens kappa on validation data\n",
    "kappa_knn = cohen_kappa_score(y_new, y_pred_knn)\n",
    "kappa_log = cohen_kappa_score(y_new, y_pred_log)\n",
    "kappa_tree = cohen_kappa_score(y_new, y_pred_tree)\n",
    "\n",
    "print(f\"Cohen's Kappa KNN: {kappa_knn:.2f}\")\n",
    "print(f\"Cohen's Kappa Logistic: {kappa_log:.2f}\")\n",
    "print(f\"Cohen's Kappa Tree: {kappa_tree:.2f}\")"
   ]
  },
  {
   "cell_type": "markdown",
   "metadata": {},
   "source": [
    "## Appendix and References\n",
    "\n",
    "References:\n",
    "- https://stackoverflow.com/questions/tagged/cohen-kappa?tab=Active\n",
    "- https://scikit-learn.org/dev/modules/generated/sklearn.metrics.cohen_kappa_score.html\n",
    "- https://statinfer.com/204-4-2-calculating-sensitivity-and-specificity-in-python/\n",
    "- https://www.w3schools.com/python/python_ml_knn.asp\n",
    "- https://scikit-learn.org/1.5/modules/tree.html\n",
    "- https://scikit-learn.org/1.5/modules/generated/sklearn.linear_model.LogisticRegression.html\n",
    "\n",
    "AI:\n",
    "\n",
    "In this lab, AI was used to streamline various tasks, enhancing efficiency and understanding. It was employed to clean up and optimize functions, particularly those related to model evaluation and feature selection. AI assisted in extracting and displaying model coefficients for logistic regression and feature importances for decision tree-based models, enabling clear comparisons in Part 1. Additionally, AI was instrumental in conceptualizing Cohen's Kappa as an advanced evaluation metric and in learning how to stack multiple model performance lines on a single graph for better visualization. These applications allowed for a more robust and organized approach to the lab's analyses.\n"
   ]
  }
 ],
 "metadata": {
  "language_info": {
   "name": "raw"
  }
 },
 "nbformat": 4,
 "nbformat_minor": 2
}
