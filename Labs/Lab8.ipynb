{
 "cells": [
  {
   "cell_type": "raw",
   "metadata": {},
   "source": [
    "---\n",
    "title: 'Lab 8: Linear Classifiers'\n",
    "author: \"Stolie Erickson\"\n",
    "format:\n",
    "    html:\n",
    "        code-fold: true\n",
    "        embed-resources: true\n",
    "        toc: true\n",
    "theme: flatly\n",
    "---"
   ]
  },
  {
   "cell_type": "markdown",
   "metadata": {},
   "source": [
    "Our goal will be to fit models that identify the Sativa types from the Indica types, and then to fit models that also distinguish the Hybrid types.\n",
    "\n",
    "IMPORTANT: In this assignment, you do not need to consider different feature sets. Normally, this would be a good thing to try - but for this homework, simply include all the predictors for every model.\n"
   ]
  },
  {
   "cell_type": "code",
   "execution_count": 47,
   "metadata": {
    "vscode": {
     "languageId": "python"
    }
   },
   "outputs": [],
   "source": [
    "#general libraries\n",
    "import numpy as np\n",
    "import pandas as pd\n",
    "import matplotlib.pyplot as plt\n",
    "\n",
    "#scikit libraries\n",
    "from sklearn.model_selection import train_test_split, cross_val_score, GridSearchCV\n",
    "from sklearn.preprocessing import StandardScaler\n",
    "from sklearn.metrics import confusion_matrix\n",
    "from sklearn.discriminant_analysis import LinearDiscriminantAnalysis as LDA, QuadraticDiscriminantAnalysis as QDA\n",
    "from sklearn.svm import SVC\n",
    "from sklearn.tree import DecisionTreeClassifier, plot_tree\n",
    "from sklearn.neighbors import KNeighborsClassifier\n",
    "from sklearn.linear_model import LogisticRegression\n",
    "from sklearn.svm import SVC\n",
    "from sklearn.model_selection import train_test_split\n",
    "from sklearn.preprocessing import StandardScaler\n",
    "from sklearn.metrics import confusion_matrix, accuracy_score\n",
    "from sklearn.metrics import classification_report\n",
    "\n",
    "\n",
    "#warnings\n",
    "import warnings\n",
    "warnings.filterwarnings(\"ignore\", message=\"Variables are collinear\")"
   ]
  },
  {
   "cell_type": "code",
   "execution_count": 48,
   "metadata": {
    "vscode": {
     "languageId": "python"
    }
   },
   "outputs": [],
   "source": [
    "#reading in the data\n",
    "data = pd.read_csv(\"/Users/stolieerickson/Documents/MSBA/Fall/GSB544-Computing/Labs/cannabis_full.csv\")"
   ]
  },
  {
   "cell_type": "markdown",
   "metadata": {},
   "source": [
    "## Part One: Binary Classification\n",
    "\n",
    "Create a dataset that is limited only to the Sativa and Indica type cannabis strains.\n",
    "\n",
    "This section asks you to create a final best model for each of the four new model types studied this week: LDA, QDA, SVC, and SVM. For SVM, you may limit yourself to only the polynomial kernel.\n",
    "\n",
    "For each, you should:\n",
    "\n",
    "Choose a metric you will use to select your model, and briefly justify your choice. (Hint: There is no specific target category here, so this should not be a metric that only prioritizes one category.)\n",
    "\n",
    "    - accuracy\n",
    "\n",
    "Find the best model for predicting the Type variable. Don’t forget to tune any hyperparameters.\n",
    "\n",
    "Report the (cross-validated!) metric.\n",
    "\n",
    "Fit the final model.\n",
    "\n",
    "Output a confusion matrix."
   ]
  },
  {
   "cell_type": "code",
   "execution_count": 49,
   "metadata": {
    "vscode": {
     "languageId": "python"
    }
   },
   "outputs": [],
   "source": [
    "#function creation\n",
    "def find_best_model(data, targets, model_type):\n",
    "    \"\"\"\n",
    "    Trains and tunes the best binary classification model for the given type.\n",
    "    \n",
    "    Parameters:\n",
    "        data (pd.DataFrame): Input dataset with 'Type' and 'Rating' columns.\n",
    "        targets: A list indicating the strains of cannabis the user wants to target.\n",
    "        model_type (str): Model type to train ('lda', 'qda', 'svc', 'svm', 'knn').\n",
    "        \n",
    "    Returns:\n",
    "        dict: Contains the best fitted model, cross-validated accuracy, and confusion matrix.\n",
    "    \"\"\"\n",
    "    #filter data for cannabis strains\n",
    "    datasi = data[data[\"Type\"].isin(targets)]\n",
    "    \n",
    "    #standardize rating column (only numeric, others are dummies)\n",
    "    scaler = StandardScaler()\n",
    "    datasi[\"Rating\"] = scaler.fit_transform(datasi[[\"Rating\"]])\n",
    "    \n",
    "    #predictors and response\n",
    "    X = datasi.drop(columns=[\"Type\", \"Strain\", \"Effects\", \"Flavor\"])\n",
    "    y = datasi[\"Type\"]\n",
    "    \n",
    "    #train test split\n",
    "    X_train, X_test, y_train, y_test = train_test_split(X, y, test_size=0.2, random_state=1)\n",
    "    \n",
    "    #lda model\n",
    "    if model_type == \"lda\":\n",
    "        #cross validation\n",
    "        model = LDA()\n",
    "        cv_scores = cross_val_score(model, X_train, y_train, cv=5, scoring=\"accuracy\")\n",
    "        \n",
    "        #fit the model\n",
    "        model.fit(X_train, y_train)\n",
    "\n",
    "    #qda model  \n",
    "    elif model_type == \"qda\":\n",
    "        #tune regularization parameter\n",
    "        params = {\"reg_param\": np.linspace(0, 1, 10)}\n",
    "        model = GridSearchCV(QDA(), param_grid=params, cv=5, scoring=\"accuracy\")\n",
    "        model.fit(X_train, y_train)\n",
    "        cv_scores = model.best_score_\n",
    "        model = model.best_estimator_\n",
    "\n",
    "    #svc model    \n",
    "    elif model_type == \"svc\":\n",
    "        #tune c and kernel\n",
    "        params = {\n",
    "            \"C\": [0.1, 1, 10],\n",
    "            \"kernel\": [\"linear\", \"rbf\"]\n",
    "        }\n",
    "        model = GridSearchCV(SVC(), param_grid=params, cv=5, scoring=\"accuracy\")\n",
    "        model.fit(X_train, y_train)\n",
    "        cv_scores = model.best_score_\n",
    "        model = model.best_estimator_\n",
    "\n",
    "    #svm model    \n",
    "    elif model_type == \"svm\":\n",
    "        #tune parameters for polynomial kernel\n",
    "        params = {\n",
    "            \"C\": [0.1, 1, 10],\n",
    "            \"degree\": [2, 3, 4],\n",
    "            \"gamma\": [\"scale\", \"auto\"],\n",
    "            \"coef0\": [0, 1]\n",
    "        }\n",
    "        model = GridSearchCV(SVC(kernel=\"poly\"), param_grid=params, cv=5, scoring=\"accuracy\")\n",
    "        model.fit(X_train, y_train)\n",
    "        cv_scores = model.best_score_\n",
    "        model = model.best_estimator_\n",
    "    \n",
    "    #knn model\n",
    "    elif model_type == \"knn\":\n",
    "        #tune clusters\n",
    "        params = {\"n_neighbors\": range(1, 21)} \n",
    "        model = GridSearchCV(KNeighborsClassifier(), param_grid=params, cv=5, scoring=\"accuracy\")\n",
    "        model.fit(X_train, y_train)\n",
    "        cv_scores = model.best_score_\n",
    "        model = model.best_estimator_\n",
    "    \n",
    "    else:\n",
    "        raise ValueError(\"Invalid model_type. Choose from 'lda', 'qda', 'svc', 'svm', 'knn'.\")\n",
    "    \n",
    "    #evaluate the final model on the test set\n",
    "    y_pred = model.predict(X_test)\n",
    "    cm = confusion_matrix(y_test, y_pred)\n",
    "    \n",
    "    return {\n",
    "        \"model\": model,\n",
    "        \"cv_accuracy\": np.mean(cv_scores) if model_type in [\"lda\", \"knn\"] else cv_scores,\n",
    "        \"confusion_matrix\": cm\n",
    "    }\n"
   ]
  },
  {
   "cell_type": "markdown",
   "metadata": {},
   "source": [
    "### Q1: LDA"
   ]
  },
  {
   "cell_type": "code",
   "execution_count": 50,
   "metadata": {
    "vscode": {
     "languageId": "python"
    }
   },
   "outputs": [
    {
     "name": "stderr",
     "output_type": "stream",
     "text": [
      "<positron-console-cell-50>:19: SettingWithCopyWarning: \n",
      "A value is trying to be set on a copy of a slice from a DataFrame.\n",
      "Try using .loc[row_indexer,col_indexer] = value instead\n",
      "\n",
      "See the caveats in the documentation: https://pandas.pydata.org/pandas-docs/stable/user_guide/indexing.html#returning-a-view-versus-a-copy\n"
     ]
    },
    {
     "name": "stdout",
     "output_type": "stream",
     "text": [
      "Cross-validated Accuracy: 0.8583625730994152\n",
      "Confusion Matrix:\n",
      " [[121  12]\n",
      " [ 17  64]]\n",
      "Cross-validated Accuracy: 0.8583625730994152\n",
      "Confusion Matrix:\n",
      " [[121  12]\n",
      " [ 17  64]]\n"
     ]
    }
   ],
   "source": [
    "data = data.dropna()\n",
    "#call the function for LDA model\n",
    "result_lda = find_best_model(data, targets = [\"indica\", \"sativa\"], model_type=\"lda\")\n",
    "print(\"Cross-validated Accuracy:\", result_lda[\"cv_accuracy\"])\n",
    "print(\"Confusion Matrix:\\n\", result_lda[\"confusion_matrix\"])\n"
   ]
  },
  {
   "cell_type": "markdown",
   "metadata": {},
   "source": [
    "### Q2: QDA"
   ]
  },
  {
   "cell_type": "code",
   "execution_count": 51,
   "metadata": {
    "vscode": {
     "languageId": "python"
    }
   },
   "outputs": [
    {
     "name": "stderr",
     "output_type": "stream",
     "text": [
      "<positron-console-cell-51>:19: SettingWithCopyWarning: \n",
      "A value is trying to be set on a copy of a slice from a DataFrame.\n",
      "Try using .loc[row_indexer,col_indexer] = value instead\n",
      "\n",
      "See the caveats in the documentation: https://pandas.pydata.org/pandas-docs/stable/user_guide/indexing.html#returning-a-view-versus-a-copy\n"
     ]
    },
    {
     "name": "stdout",
     "output_type": "stream",
     "text": [
      "Cross-validated Accuracy: 0.854798761609907\n",
      "Confusion Matrix:\n",
      " [[119  14]\n",
      " [ 15  66]]\n",
      "Cross-validated Accuracy: 0.854798761609907\n",
      "Confusion Matrix:\n",
      " [[119  14]\n",
      " [ 15  66]]\n"
     ]
    }
   ],
   "source": [
    "result_qda = find_best_model(data, targets = [\"indica\", \"sativa\"], model_type=\"qda\")\n",
    "print(\"Cross-validated Accuracy:\", result_qda[\"cv_accuracy\"])\n",
    "print(\"Confusion Matrix:\\n\", result_qda[\"confusion_matrix\"])"
   ]
  },
  {
   "cell_type": "markdown",
   "metadata": {},
   "source": [
    "### Q3: SVC"
   ]
  },
  {
   "cell_type": "code",
   "execution_count": 52,
   "metadata": {
    "vscode": {
     "languageId": "python"
    }
   },
   "outputs": [
    {
     "name": "stderr",
     "output_type": "stream",
     "text": [
      "<positron-console-cell-52>:19: SettingWithCopyWarning: \n",
      "A value is trying to be set on a copy of a slice from a DataFrame.\n",
      "Try using .loc[row_indexer,col_indexer] = value instead\n",
      "\n",
      "See the caveats in the documentation: https://pandas.pydata.org/pandas-docs/stable/user_guide/indexing.html#returning-a-view-versus-a-copy\n"
     ]
    },
    {
     "name": "stdout",
     "output_type": "stream",
     "text": [
      "Cross-validated Accuracy: 0.8630271757825938\n",
      "Confusion Matrix:\n",
      " [[120  13]\n",
      " [ 15  66]]\n",
      "Cross-validated Accuracy: 0.8630271757825938\n",
      "Confusion Matrix:\n",
      " [[120  13]\n",
      " [ 15  66]]\n"
     ]
    }
   ],
   "source": [
    "result_svc = find_best_model(data, targets = [\"indica\", \"sativa\"], model_type=\"svc\")\n",
    "print(\"Cross-validated Accuracy:\", result_svc[\"cv_accuracy\"])\n",
    "print(\"Confusion Matrix:\\n\", result_svc[\"confusion_matrix\"])"
   ]
  },
  {
   "cell_type": "markdown",
   "metadata": {},
   "source": [
    "### Q4: SVM"
   ]
  },
  {
   "cell_type": "code",
   "execution_count": 53,
   "metadata": {
    "vscode": {
     "languageId": "python"
    }
   },
   "outputs": [
    {
     "name": "stderr",
     "output_type": "stream",
     "text": [
      "<positron-console-cell-53>:19: SettingWithCopyWarning: \n",
      "A value is trying to be set on a copy of a slice from a DataFrame.\n",
      "Try using .loc[row_indexer,col_indexer] = value instead\n",
      "\n",
      "See the caveats in the documentation: https://pandas.pydata.org/pandas-docs/stable/user_guide/indexing.html#returning-a-view-versus-a-copy\n"
     ]
    },
    {
     "name": "stdout",
     "output_type": "stream",
     "text": [
      "Cross-validated Accuracy: 0.8665428276573788\n",
      "Confusion Matrix:\n",
      " [[120  13]\n",
      " [ 14  67]]\n",
      "Cross-validated Accuracy: 0.8665428276573788\n",
      "Confusion Matrix:\n",
      " [[120  13]\n",
      " [ 14  67]]\n"
     ]
    }
   ],
   "source": [
    "result_svm = find_best_model(data, targets = [\"indica\", \"sativa\"], model_type=\"svm\")\n",
    "print(\"Cross-validated Accuracy:\", result_svm[\"cv_accuracy\"])\n",
    "print(\"Confusion Matrix:\\n\", result_svm[\"confusion_matrix\"])"
   ]
  },
  {
   "cell_type": "markdown",
   "metadata": {},
   "source": [
    "## Part Two: Natural Multiclass\n",
    "\n",
    "Now use the full dataset, including the Hybrid strains."
   ]
  },
  {
   "cell_type": "markdown",
   "metadata": {},
   "source": [
    "### Q1\n",
    "\n",
    "Fit a decision tree, plot the final fit, and interpret the results."
   ]
  },
  {
   "cell_type": "code",
   "execution_count": 54,
   "metadata": {
    "vscode": {
     "languageId": "python"
    }
   },
   "outputs": [
    {
     "data": {
      "image/png": "[encoded data removed]",
      "text/plain": [
       "<Figure size 1200x800 with 1 Axes>"
      ]
     },
     "metadata": {},
     "output_type": "display_data"
    },
    {
     "name": "stdout",
     "output_type": "stream",
     "text": [
      "Best Parameters: {'max_depth': 3, 'min_samples_leaf': 1, 'min_samples_split': 2}\n",
      "Test Accuracy: 0.6127562642369021\n",
      "Best Parameters: {'max_depth': 3, 'min_samples_leaf': 1, 'min_samples_split': 2}\n",
      "Test Accuracy: 0.6127562642369021\n"
     ]
    }
   ],
   "source": [
    "#predictors and target\n",
    "X = data.drop(columns=[\"Type\", \"Strain\", \"Effects\", \"Flavor\"])\n",
    "y = data[\"Type\"]\n",
    "\n",
    "#train test split\n",
    "X_train, X_test, y_train, y_test = train_test_split(X, y, test_size=0.2, random_state=1)\n",
    "\n",
    "#tune decision tree\n",
    "param_grid = {\n",
    "    \"max_depth\": [3, 5, 10, None],\n",
    "    \"min_samples_split\": [2, 5, 10],\n",
    "    \"min_samples_leaf\": [1, 2, 4]\n",
    "}\n",
    "grid_search = GridSearchCV(DecisionTreeClassifier(random_state=1), param_grid, cv=5, scoring=\"accuracy\")\n",
    "grid_search.fit(X_train, y_train)\n",
    "\n",
    "#fit the best model\n",
    "best_tree = grid_search.best_estimator_\n",
    "best_tree.fit(X_train, y_train)\n",
    "\n",
    "#plot the tree\n",
    "plt.figure(figsize=(12, 8))\n",
    "plot_tree(best_tree, feature_names=X.columns, class_names=best_tree.classes_, filled=True)\n",
    "plt.show()\n",
    "\n",
    "#print best parameters and accuracy\n",
    "print(\"Best Parameters:\", grid_search.best_params_)\n",
    "print(\"Test Accuracy:\", best_tree.score(X_test, y_test))"
   ]
  },
  {
   "cell_type": "markdown",
   "metadata": {},
   "source": [
    "Split 1: Sleepy ≤ 0.5\n",
    "The root node splits the data based on the feature Sleepy.\n",
    "If Sleepy ≤ 0.5:\n",
    "The tree proceeds to evaluate other features like Relaxed (left branch).\n",
    "If Sleepy > 0.5:\n",
    "The tree predicts hybrid (as this seems to dominate in this branch).\n",
    "This split indicates that strains where users report less \"Sleepy\" effects (value ≤ 0.5) will be further analyzed to distinguish their type. Strains where users feel \"Sleepy\" more often tend to be classified as hybrid.\n",
    "\n",
    "Split 2: Relaxed ≤ 0.3 (Left Branch from Split 1)\n",
    "For strains where Sleepy ≤ 0.5, the next split is on Relaxed.\n",
    "If Relaxed ≤ 0.3:\n",
    "The tree checks Energetic to further split.\n",
    "If Relaxed > 0.3:\n",
    "The tree predicts or continues splitting based on other features.\n",
    "This suggests that the amount of relaxation (low vs. high) is a critical factor in distinguishing strains.\n",
    "\n",
    "Split 3: Uplifted ≤ 0.3 (Right Branch from Split 1)\n",
    "For strains where Sleepy > 0.5, the next split is on Uplifted.\n",
    "If Uplifted ≤ 0.3:\n",
    "Further features like Woody are checked.\n",
    "If Uplifted > 0.3:\n",
    "The strains are classified into indica or another branch.\n",
    "This indicates that whether users feel uplifted plays a significant role in distinguishing certain types of strains (likely indica).\n",
    "\n",
    "The first few splits focus on user-reported effects (Sleepy, Relaxed, Uplifted), suggesting that the effects have high predictive power in distinguishing between strain types. Lower levels of Sleepy and Relaxed are associated with more nuanced splits, while higher levels lead to direct predictions. The decision tree seems to classify strains primarily into types like hybrid and indica."
   ]
  },
  {
   "cell_type": "markdown",
   "metadata": {},
   "source": [
    "### Q2\n",
    "\n",
    "Repeat the analyses from Part One for LDA, QDA, and KNN."
   ]
  },
  {
   "cell_type": "markdown",
   "metadata": {},
   "source": [
    "#### LDA"
   ]
  },
  {
   "cell_type": "code",
   "execution_count": 55,
   "metadata": {
    "vscode": {
     "languageId": "python"
    }
   },
   "outputs": [
    {
     "name": "stdout",
     "output_type": "stream",
     "text": [
      "Cross-validated Accuracy: 0.6324330484330485\n",
      "Confusion Matrix:\n",
      " [[138  42  33]\n",
      " [ 51  90   1]\n",
      " [ 49   4  31]]\n",
      "Cross-validated Accuracy: 0.6324330484330485\n",
      "Confusion Matrix:\n",
      " [[138  42  33]\n",
      " [ 51  90   1]\n",
      " [ 49   4  31]]\n"
     ]
    }
   ],
   "source": [
    "result_lda2 = find_best_model(data, targets = [\"indica\", \"sativa\", \"hybrid\"], model_type=\"lda\")\n",
    "print(\"Cross-validated Accuracy:\", result_lda2[\"cv_accuracy\"])\n",
    "print(\"Confusion Matrix:\\n\", result_lda2[\"confusion_matrix\"])"
   ]
  },
  {
   "cell_type": "markdown",
   "metadata": {},
   "source": [
    "#### QDA"
   ]
  },
  {
   "cell_type": "code",
   "execution_count": 56,
   "metadata": {
    "vscode": {
     "languageId": "python"
    }
   },
   "outputs": [
    {
     "name": "stdout",
     "output_type": "stream",
     "text": [
      "Cross-validated Accuracy: 0.6267024827024827\n",
      "Confusion Matrix:\n",
      " [[154  37  22]\n",
      " [ 51  91   0]\n",
      " [ 61   4  19]]\n",
      "Cross-validated Accuracy: 0.6267024827024827\n",
      "Confusion Matrix:\n",
      " [[154  37  22]\n",
      " [ 51  91   0]\n",
      " [ 61   4  19]]\n"
     ]
    }
   ],
   "source": [
    "result_qda2 = find_best_model(data, targets = [\"indica\", \"sativa\", \"hybrid\"], model_type=\"qda\")\n",
    "print(\"Cross-validated Accuracy:\", result_qda2[\"cv_accuracy\"])\n",
    "print(\"Confusion Matrix:\\n\", result_qda2[\"confusion_matrix\"])"
   ]
  },
  {
   "cell_type": "markdown",
   "metadata": {},
   "source": [
    "#### KNN"
   ]
  },
  {
   "cell_type": "code",
   "execution_count": 57,
   "metadata": {
    "vscode": {
     "languageId": "python"
    }
   },
   "outputs": [
    {
     "name": "stdout",
     "output_type": "stream",
     "text": [
      "Cross-validated Accuracy: 0.6267155067155066\n",
      "Confusion Matrix:\n",
      " [[158  38  17]\n",
      " [ 60  82   0]\n",
      " [ 68   4  12]]\n",
      "Cross-validated Accuracy: 0.6267155067155066\n",
      "Confusion Matrix:\n",
      " [[158  38  17]\n",
      " [ 60  82   0]\n",
      " [ 68   4  12]]\n"
     ]
    }
   ],
   "source": [
    "result_knn = find_best_model(data, targets = [\"indica\", \"sativa\", \"hybrid\"], model_type=\"knn\")\n",
    "print(\"Cross-validated Accuracy:\", result_knn[\"cv_accuracy\"])\n",
    "print(\"Confusion Matrix:\\n\", result_knn[\"confusion_matrix\"])"
   ]
  },
  {
   "cell_type": "markdown",
   "metadata": {},
   "source": [
    "### Q3\n",
    "\n",
    "Were your metrics better or worse than in Part One? Why? Which categories were most likely to get mixed up, according to the confusion matrices? Why?\n",
    "\n",
    "The accuracies are worse than Part One, with cross-validated accuracy values hovering around 0.63 compared to 0.86 in the previous part, which makes sense because hybrid is likely to be mixed up with either Sativa or Indica strains (depending on which tilt the strain has). The confusion matrices suggest that Hybrid and Sativa are the most likely categories to be misclassified, as seen by the frequent off-diagonal values between these two types. This could be due to overlapping characteristics in the features, making it challenging for the model to distinguish between Hybrid and Sativa strains."
   ]
  },
  {
   "cell_type": "markdown",
   "metadata": {},
   "source": [
    "## Part Three: Multiclass from Binary\n",
    "\n",
    "Consider two models designed for binary classification: SVC and Logistic Regression."
   ]
  },
  {
   "cell_type": "markdown",
   "metadata": {},
   "source": [
    "### Q1\n",
    "\n",
    "Fit and report metrics for OvR versions of the models. That is, for each of the two model types, create three models:\n",
    "\n",
    "Indica vs. Not Indica\n",
    "\n",
    "Sativa vs. Not Sativa\n",
    "\n",
    "Hybrid vs. Not Hybrid"
   ]
  },
  {
   "cell_type": "markdown",
   "metadata": {},
   "source": [
    "#### SVC Model OVR"
   ]
  },
  {
   "cell_type": "code",
   "execution_count": 58,
   "metadata": {
    "vscode": {
     "languageId": "python"
    }
   },
   "outputs": [
    {
     "name": "stdout",
     "output_type": "stream",
     "text": [
      "Metrics for SVC: indica vs. Not indica\n",
      "              precision    recall  f1-score   support\n",
      "\n",
      "           0       0.87      0.80      0.83       307\n",
      "           1       0.61      0.71      0.66       132\n",
      "\n",
      "    accuracy                           0.77       439\n",
      "   macro avg       0.74      0.76      0.74       439\n",
      "weighted avg       0.79      0.77      0.78       439\n",
      "\n",
      "Metrics for SVC: indica vs. Not indica\n",
      "              precision    recall  f1-score   support\n",
      "\n",
      "           0       0.87      0.80      0.83       307\n",
      "           1       0.61      0.71      0.66       132\n",
      "\n",
      "    accuracy                           0.77       439\n",
      "   macro avg       0.74      0.76      0.74       439\n",
      "weighted avg       0.79      0.77      0.78       439\n",
      "\n"
     ]
    },
    {
     "name": "stdout",
     "output_type": "stream",
     "text": [
      "Metrics for SVC: sativa vs. Not sativa\n",
      "              precision    recall  f1-score   support\n",
      "\n",
      "           0       0.81      1.00      0.90       357\n",
      "           1       0.00      0.00      0.00        82\n",
      "\n",
      "    accuracy                           0.81       439\n",
      "   macro avg       0.41      0.50      0.45       439\n",
      "weighted avg       0.66      0.81      0.73       439\n",
      "\n",
      "Metrics for SVC: sativa vs. Not sativa\n",
      "              precision    recall  f1-score   support\n",
      "\n",
      "           0       0.81      1.00      0.90       357\n",
      "           1       0.00      0.00      0.00        82\n",
      "\n",
      "    accuracy                           0.81       439\n",
      "   macro avg       0.41      0.50      0.45       439\n",
      "weighted avg       0.66      0.81      0.73       439\n",
      "\n"
     ]
    },
    {
     "name": "stderr",
     "output_type": "stream",
     "text": [
      "/opt/anaconda3/lib/python3.12/site-packages/sklearn/metrics/_classification.py:1509: UndefinedMetricWarning: Precision is ill-defined and being set to 0.0 in labels with no predicted samples. Use `zero_division` parameter to control this behavior.\n",
      "  _warn_prf(average, modifier, f\"{metric.capitalize()} is\", len(result))\n",
      "/opt/anaconda3/lib/python3.12/site-packages/sklearn/metrics/_classification.py:1509: UndefinedMetricWarning: Precision is ill-defined and being set to 0.0 in labels with no predicted samples. Use `zero_division` parameter to control this behavior.\n",
      "  _warn_prf(average, modifier, f\"{metric.capitalize()} is\", len(result))\n",
      "/opt/anaconda3/lib/python3.12/site-packages/sklearn/metrics/_classification.py:1509: UndefinedMetricWarning: Precision is ill-defined and being set to 0.0 in labels with no predicted samples. Use `zero_division` parameter to control this behavior.\n",
      "  _warn_prf(average, modifier, f\"{metric.capitalize()} is\", len(result))\n"
     ]
    },
    {
     "name": "stdout",
     "output_type": "stream",
     "text": [
      "Metrics for SVC: hybrid vs. Not hybrid\n",
      "              precision    recall  f1-score   support\n",
      "\n",
      "           0       0.63      0.43      0.51       214\n",
      "           1       0.58      0.76      0.66       225\n",
      "\n",
      "    accuracy                           0.60       439\n",
      "   macro avg       0.61      0.60      0.59       439\n",
      "weighted avg       0.61      0.60      0.59       439\n",
      "\n",
      "Metrics for SVC: hybrid vs. Not hybrid\n",
      "              precision    recall  f1-score   support\n",
      "\n",
      "           0       0.63      0.43      0.51       214\n",
      "           1       0.58      0.76      0.66       225\n",
      "\n",
      "    accuracy                           0.60       439\n",
      "   macro avg       0.61      0.60      0.59       439\n",
      "weighted avg       0.61      0.60      0.59       439\n",
      "\n"
     ]
    }
   ],
   "source": [
    "#predictors and target\n",
    "X = data.drop(columns=[\"Type\", \"Strain\", \"Effects\", \"Flavor\"])\n",
    "y = data[\"Type\"]\n",
    "class_labels = [\"indica\", \"sativa\", \"hybrid\"]\n",
    "\n",
    "#loop for svc\n",
    "for label in class_labels:\n",
    "    #binary target for the class to loop\n",
    "    y_binary = np.where(y == label, 1, 0)\n",
    "    X_train, X_test, y_train, y_test = train_test_split(X, y_binary, test_size=0.2, stratify=y_binary, random_state=1)\n",
    "    \n",
    "    #train svc\n",
    "    svc = SVC(probability=True, random_state=1)\n",
    "    svc.fit(X_train, y_train)\n",
    "    \n",
    "    #evaluate\n",
    "    y_pred = svc.predict(X_test)\n",
    "    print(f\"Metrics for SVC: {label} vs. Not {label}\")\n",
    "    print(classification_report(y_test, y_pred))\n"
   ]
  },
  {
   "cell_type": "markdown",
   "metadata": {},
   "source": [
    "#### Logistic Model OVR"
   ]
  },
  {
   "cell_type": "code",
   "execution_count": 59,
   "metadata": {
    "vscode": {
     "languageId": "python"
    }
   },
   "outputs": [
    {
     "name": "stdout",
     "output_type": "stream",
     "text": [
      "Metrics for Logistic Regression: indica vs. Not indica\n",
      "              precision    recall  f1-score   support\n",
      "\n",
      "           0       0.85      0.85      0.85       307\n",
      "           1       0.65      0.64      0.65       132\n",
      "\n",
      "    accuracy                           0.79       439\n",
      "   macro avg       0.75      0.75      0.75       439\n",
      "weighted avg       0.79      0.79      0.79       439\n",
      "\n",
      "Metrics for Logistic Regression: sativa vs. Not sativa\n",
      "              precision    recall  f1-score   support\n",
      "\n",
      "           0       0.86      0.94      0.90       357\n",
      "           1       0.57      0.35      0.44        82\n",
      "\n",
      "    accuracy                           0.83       439\n",
      "   macro avg       0.72      0.65      0.67       439\n",
      "weighted avg       0.81      0.83      0.81       439\n",
      "\n",
      "Metrics for Logistic Regression: hybrid vs. Not hybrid\n",
      "              precision    recall  f1-score   support\n",
      "\n",
      "           0       0.62      0.55      0.58       214\n",
      "           1       0.61      0.68      0.64       225\n",
      "\n",
      "    accuracy                           0.61       439\n",
      "   macro avg       0.61      0.61      0.61       439\n",
      "weighted avg       0.61      0.61      0.61       439\n",
      "\n",
      "Metrics for Logistic Regression: indica vs. Not indica\n",
      "              precision    recall  f1-score   support\n",
      "\n",
      "           0       0.85      0.85      0.85       307\n",
      "           1       0.65      0.64      0.65       132\n",
      "\n",
      "    accuracy                           0.79       439\n",
      "   macro avg       0.75      0.75      0.75       439\n",
      "weighted avg       0.79      0.79      0.79       439\n",
      "\n",
      "Metrics for Logistic Regression: sativa vs. Not sativa\n",
      "              precision    recall  f1-score   support\n",
      "\n",
      "           0       0.86      0.94      0.90       357\n",
      "           1       0.57      0.35      0.44        82\n",
      "\n",
      "    accuracy                           0.83       439\n",
      "   macro avg       0.72      0.65      0.67       439\n",
      "weighted avg       0.81      0.83      0.81       439\n",
      "\n",
      "Metrics for Logistic Regression: hybrid vs. Not hybrid\n",
      "              precision    recall  f1-score   support\n",
      "\n",
      "           0       0.62      0.55      0.58       214\n",
      "           1       0.61      0.68      0.64       225\n",
      "\n",
      "    accuracy                           0.61       439\n",
      "   macro avg       0.61      0.61      0.61       439\n",
      "weighted avg       0.61      0.61      0.61       439\n",
      "\n"
     ]
    }
   ],
   "source": [
    "from sklearn.linear_model import LogisticRegression\n",
    "#logstic regression loop\n",
    "for label in class_labels:\n",
    "    #binary target for current class\n",
    "    y_binary = np.where(y == label, 1, 0)\n",
    "    X_train, X_test, y_train, y_test = train_test_split(X, y_binary, test_size=0.2, stratify=y_binary, random_state=1)\n",
    "    \n",
    "    #train logistic model\n",
    "    lr = LogisticRegression(random_state=1)\n",
    "    lr.fit(X_train, y_train)\n",
    "    \n",
    "    #evaluate\n",
    "    y_pred = lr.predict(X_test)\n",
    "    print(f\"Metrics for Logistic Regression: {label} vs. Not {label}\")\n",
    "    print(classification_report(y_test, y_pred))\n"
   ]
  },
  {
   "cell_type": "markdown",
   "metadata": {},
   "source": [
    "### Q2\n",
    "\n",
    "Which of the six models did the best job distinguishing the target category from the rest? Which did the worst? Does this make intuitive sense?\n",
    "\n",
    "The model that did the best job distinguishing the target category from the rest was sativa vs. not sativa logistic regression model. The model that did the worst was the hybrid vs. not hybrid SVC model. This makes intuitive sense because hybrid cannabis strains share traits with both indica and sativa, making them less distinct and thus more difficult to classify."
   ]
  },
  {
   "cell_type": "markdown",
   "metadata": {},
   "source": [
    "### Q3\n",
    "\n",
    "Fit and report metrics for OvO versions of the models. That is, for each of the two model types, create three models:\n",
    "\n",
    "Indica vs. Sativa\n",
    "\n",
    "Indica vs. Hybrid\n",
    "\n",
    "Hybrid vs. Sativa"
   ]
  },
  {
   "cell_type": "markdown",
   "metadata": {},
   "source": [
    "#### SVC OVO"
   ]
  },
  {
   "cell_type": "code",
   "execution_count": 60,
   "metadata": {
    "vscode": {
     "languageId": "python"
    }
   },
   "outputs": [
    {
     "name": "stdout",
     "output_type": "stream",
     "text": [
      "Metrics for SVC: indica vs. sativa\n",
      "              precision    recall  f1-score   support\n",
      "\n",
      "           0       0.82      0.78      0.80        82\n",
      "           1       0.87      0.89      0.88       132\n",
      "\n",
      "    accuracy                           0.85       214\n",
      "   macro avg       0.84      0.84      0.84       214\n",
      "weighted avg       0.85      0.85      0.85       214\n",
      "\n",
      "Metrics for SVC: indica vs. sativa\n",
      "              precision    recall  f1-score   support\n",
      "\n",
      "           0       0.82      0.78      0.80        82\n",
      "           1       0.87      0.89      0.88       132\n",
      "\n",
      "    accuracy                           0.85       214\n",
      "   macro avg       0.84      0.84      0.84       214\n",
      "weighted avg       0.85      0.85      0.85       214\n",
      "\n"
     ]
    },
    {
     "name": "stdout",
     "output_type": "stream",
     "text": [
      "Metrics for SVC: indica vs. hybrid\n",
      "              precision    recall  f1-score   support\n",
      "\n",
      "           0       0.80      0.77      0.78       225\n",
      "           1       0.63      0.67      0.65       132\n",
      "\n",
      "    accuracy                           0.73       357\n",
      "   macro avg       0.72      0.72      0.72       357\n",
      "weighted avg       0.74      0.73      0.74       357\n",
      "\n",
      "Metrics for SVC: indica vs. hybrid\n",
      "              precision    recall  f1-score   support\n",
      "\n",
      "           0       0.80      0.77      0.78       225\n",
      "           1       0.63      0.67      0.65       132\n",
      "\n",
      "    accuracy                           0.73       357\n",
      "   macro avg       0.72      0.72      0.72       357\n",
      "weighted avg       0.74      0.73      0.74       357\n",
      "\n"
     ]
    },
    {
     "name": "stdout",
     "output_type": "stream",
     "text": [
      "Metrics for SVC: hybrid vs. sativa\n",
      "              precision    recall  f1-score   support\n",
      "\n",
      "           0       0.00      0.00      0.00        82\n",
      "           1       0.73      1.00      0.85       225\n",
      "\n",
      "    accuracy                           0.73       307\n",
      "   macro avg       0.37      0.50      0.42       307\n",
      "weighted avg       0.54      0.73      0.62       307\n",
      "\n",
      "Metrics for SVC: hybrid vs. sativa\n",
      "              precision    recall  f1-score   support\n",
      "\n",
      "           0       0.00      0.00      0.00        82\n",
      "           1       0.73      1.00      0.85       225\n",
      "\n",
      "    accuracy                           0.73       307\n",
      "   macro avg       0.37      0.50      0.42       307\n",
      "weighted avg       0.54      0.73      0.62       307\n",
      "\n"
     ]
    },
    {
     "name": "stderr",
     "output_type": "stream",
     "text": [
      "/opt/anaconda3/lib/python3.12/site-packages/sklearn/metrics/_classification.py:1509: UndefinedMetricWarning: Precision is ill-defined and being set to 0.0 in labels with no predicted samples. Use `zero_division` parameter to control this behavior.\n",
      "  _warn_prf(average, modifier, f\"{metric.capitalize()} is\", len(result))\n",
      "/opt/anaconda3/lib/python3.12/site-packages/sklearn/metrics/_classification.py:1509: UndefinedMetricWarning: Precision is ill-defined and being set to 0.0 in labels with no predicted samples. Use `zero_division` parameter to control this behavior.\n",
      "  _warn_prf(average, modifier, f\"{metric.capitalize()} is\", len(result))\n",
      "/opt/anaconda3/lib/python3.12/site-packages/sklearn/metrics/_classification.py:1509: UndefinedMetricWarning: Precision is ill-defined and being set to 0.0 in labels with no predicted samples. Use `zero_division` parameter to control this behavior.\n",
      "  _warn_prf(average, modifier, f\"{metric.capitalize()} is\", len(result))\n"
     ]
    }
   ],
   "source": [
    "#identify ovo pairs\n",
    "class_pairs = [(\"indica\", \"sativa\"), (\"indica\", \"hybrid\"), (\"hybrid\", \"sativa\")]\n",
    "\n",
    "#loop over pairs\n",
    "for class1, class2 in class_pairs:\n",
    "    #filter dataset for the pair\n",
    "    mask = (y == class1) | (y == class2)\n",
    "    X_filtered, y_filtered = X[mask], y[mask]\n",
    "    \n",
    "    #convert target to binary\n",
    "    y_binary = np.where(y_filtered == class1, 1, 0)\n",
    "    \n",
    "    #train test split\n",
    "    X_train, X_test, y_train, y_test = train_test_split(X_filtered, y_binary, test_size=0.2, stratify=y_binary, random_state=1)\n",
    "    \n",
    "    #train model\n",
    "    svc = SVC(probability=True, random_state=1)\n",
    "    svc.fit(X_train, y_train)\n",
    "    \n",
    "    #evaluate\n",
    "    y_pred = svc.predict(X_test)\n",
    "    print(f\"Metrics for SVC: {class1} vs. {class2}\")\n",
    "    print(classification_report(y_test, y_pred))"
   ]
  },
  {
   "cell_type": "markdown",
   "metadata": {},
   "source": [
    "#### Logistic OVO"
   ]
  },
  {
   "cell_type": "code",
   "execution_count": 61,
   "metadata": {
    "vscode": {
     "languageId": "python"
    }
   },
   "outputs": [
    {
     "name": "stdout",
     "output_type": "stream",
     "text": [
      "Metrics for Logistic Regression: indica vs. sativa\n",
      "              precision    recall  f1-score   support\n",
      "\n",
      "           0       0.78      0.79      0.79        82\n",
      "           1       0.87      0.86      0.87       132\n",
      "\n",
      "    accuracy                           0.84       214\n",
      "   macro avg       0.83      0.83      0.83       214\n",
      "weighted avg       0.84      0.84      0.84       214\n",
      "\n",
      "Metrics for Logistic Regression: indica vs. hybrid\n",
      "              precision    recall  f1-score   support\n",
      "\n",
      "           0       0.79      0.82      0.80       225\n",
      "           1       0.67      0.62      0.64       132\n",
      "\n",
      "    accuracy                           0.75       357\n",
      "   macro avg       0.73      0.72      0.72       357\n",
      "weighted avg       0.74      0.75      0.74       357\n",
      "\n",
      "Metrics for Logistic Regression: indica vs. sativa\n",
      "              precision    recall  f1-score   support\n",
      "\n",
      "           0       0.78      0.79      0.79        82\n",
      "           1       0.87      0.86      0.87       132\n",
      "\n",
      "    accuracy                           0.84       214\n",
      "   macro avg       0.83      0.83      0.83       214\n",
      "weighted avg       0.84      0.84      0.84       214\n",
      "\n",
      "Metrics for Logistic Regression: indica vs. hybrid\n",
      "              precision    recall  f1-score   support\n",
      "\n",
      "           0       0.79      0.82      0.80       225\n",
      "           1       0.67      0.62      0.64       132\n",
      "\n",
      "    accuracy                           0.75       357\n",
      "   macro avg       0.73      0.72      0.72       357\n",
      "weighted avg       0.74      0.75      0.74       357\n",
      "\n"
     ]
    },
    {
     "name": "stdout",
     "output_type": "stream",
     "text": [
      "Metrics for Logistic Regression: hybrid vs. sativa\n",
      "              precision    recall  f1-score   support\n",
      "\n",
      "           0       0.57      0.30      0.40        82\n",
      "           1       0.78      0.92      0.84       225\n",
      "\n",
      "    accuracy                           0.75       307\n",
      "   macro avg       0.68      0.61      0.62       307\n",
      "weighted avg       0.73      0.75      0.72       307\n",
      "\n",
      "Metrics for Logistic Regression: hybrid vs. sativa\n",
      "              precision    recall  f1-score   support\n",
      "\n",
      "           0       0.57      0.30      0.40        82\n",
      "           1       0.78      0.92      0.84       225\n",
      "\n",
      "    accuracy                           0.75       307\n",
      "   macro avg       0.68      0.61      0.62       307\n",
      "weighted avg       0.73      0.75      0.72       307\n",
      "\n"
     ]
    }
   ],
   "source": [
    "#loop through pairs defined previously\n",
    "for class1, class2 in class_pairs:\n",
    "    #filter dataset for pair\n",
    "    mask = (y == class1) | (y == class2)\n",
    "    X_filtered, y_filtered = X[mask], y[mask]\n",
    "    \n",
    "    #convert to binary\n",
    "    y_binary = np.where(y_filtered == class1, 1, 0)\n",
    "    \n",
    "    #train test split\n",
    "    X_train, X_test, y_train, y_test = train_test_split(\n",
    "        X_filtered, y_binary, test_size=0.2, stratify=y_binary, random_state=1\n",
    "    )\n",
    "    \n",
    "    #train model\n",
    "    lr = LogisticRegression(random_state=1)\n",
    "    lr.fit(X_train, y_train)\n",
    "    \n",
    "    #evaluate\n",
    "    y_pred = lr.predict(X_test)\n",
    "    print(f\"Metrics for Logistic Regression: {class1} vs. {class2}\")\n",
    "    print(classification_report(y_test, y_pred))"
   ]
  },
  {
   "cell_type": "markdown",
   "metadata": {},
   "source": [
    "### Q4\n",
    "\n",
    "Which of the six models did the best job distinguishing at differentiating the two groups? Which did the worst? Does this make intuitive sense?\n",
    "\n",
    "The model that did the best at distinguishing at differentiating the two groups was the indica vs. sativa SVC model. The model that did the worst was the hybrid vs. sativa SVC model with an accuracy of 0.73. This does make intuitive sense because hybrid is a blend of indica and sativa strains. Indica and sativa strains are the most different out of the three options."
   ]
  },
  {
   "cell_type": "markdown",
   "metadata": {},
   "source": [
    "### Q5\n",
    "\n",
    "Suppose you had simply input the full data, with three classes, into the LogisticRegression function. Would this have automatically taken an “OvO” approach or an “OvR” approach?\n",
    "\n",
    "What about for SVC?\n",
    "\n",
    "*Note: You do not actually have to run code here - you only need to look at sklearn’s documentation to see how these functions handle multiclass input.*\n",
    "\n",
    "When using LogisticRegression from scikit-learn, the default approach for handling multiclass data is One-vs-Rest (OvR) unless you specify the multi_class parameter as 'multinomial'. OvR involves fitting one model per class, treating it against all others. On the other hand, setting multi_class='multinomial' fits a single model to handle all classes simultaneously (multinomial logistic regression).\n",
    "\n",
    "For SVC, the default strategy for handling multiclass data is One-vs-One (OvO). This means it creates a binary classifier for each pair of classes. However, you can use the OneVsRestClassifier wrapper to explicitly use an OvR."
   ]
  },
  {
   "cell_type": "markdown",
   "metadata": {},
   "source": [
    "## References and AI\n",
    "\n",
    "References:\n",
    "\n",
    "- https://scikit-learn.org/stable/api/sklearn.multiclass.html\n",
    "\n",
    "- https://scikit-learn.org/stable/\n",
    "\n",
    "- https://scikit-learn.org/stable/modules/multiclass.html\n",
    "\n",
    "- https://scikit-learn.org/stable/modules/generated/sklearn.linear_model.LogisticRegression.html\n",
    "\n",
    "- https://www.polln.com/library/sativa-vs-indica-vs-hybrid-cannabis-what-to-expect#:~:text=Often%20grown%20to%20target%20specific,ratios%20of%20THC%20to%20CBD.\n",
    "\n",
    "AI Statment:\n",
    "\n",
    "I used AI to convert my initial code into a cohesive function, making it adaptable for analyzing all three strains in part 2. It helped me research machine learning models and identify tunable parameters, such as \"C,\" \"degree,\" and \"gamma\" for SVM, and parameters for decision trees. AI also provided inspiration for part 3 by suggesting a structured approach to compare strain pairs through loops and filtered datasets. This guidance streamlined the process of implementing and evaluating classification models effectively.\n"
   ]
  }
 ],
 "metadata": {
  "language_info": {
   "name": "raw"
  }
 },
 "nbformat": 4,
 "nbformat_minor": 2
}
