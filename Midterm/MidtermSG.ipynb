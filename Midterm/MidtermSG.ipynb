{
 "cells": [
  {
   "cell_type": "markdown",
   "metadata": {},
   "source": [
    "# Midterm Study Guide"
   ]
  },
  {
   "cell_type": "markdown",
   "metadata": {},
   "source": [
    "## Chapter 2"
   ]
  },
  {
   "cell_type": "markdown",
   "metadata": {},
   "source": [
    "### 2.1 Basic Data Types"
   ]
  },
  {
   "cell_type": "code",
   "execution_count": 4,
   "metadata": {},
   "outputs": [
    {
     "name": "stdout",
     "output_type": "stream",
     "text": [
      "HelloWord\n",
      "HelloWord\n"
     ]
    },
    {
     "data": {
      "text/plain": [
       "6.14159"
      ]
     },
     "execution_count": null,
     "metadata": {},
     "output_type": "execute_result"
    }
   ],
   "source": [
    "#type conversions\n",
    "string = \"Hello\"\n",
    "integer = 2\n",
    "boolean = True\n",
    "floaty = 2.50\n",
    "#string\n",
    "print(string + \"Word\")\n",
    "#float\n",
    "type(floaty + integer)\n",
    "type(floaty + boolean)\n",
    "\n",
    "#manual conversions\n",
    "x = 3\n",
    "y = \"3.14159\"\n",
    "x + float(y)"
   ]
  },
  {
   "cell_type": "markdown",
   "metadata": {},
   "source": [
    "### 2.2 Operators and Functions"
   ]
  },
  {
   "cell_type": "code",
   "execution_count": 15,
   "metadata": {},
   "outputs": [
    {
     "name": "stdout",
     "output_type": "stream",
     "text": [
      "4\n",
      "2\n",
      "[5, 4, 3, 2, 1]\n",
      "4\n",
      "2\n",
      "[5, 4, 3, 2, 1]\n"
     ]
    }
   ],
   "source": [
    "#operators\n",
    "print(14 // 3)\n",
    "print(14 % 3)\n",
    "\n",
    "#round function\n",
    "round(5.78888, 2)\n",
    "round(5.78888)\n",
    "#sort function using .\n",
    "my_nums = [1,2,3,4,5]\n",
    "my_nums.sort(reverse = True)\n",
    "print(my_nums)"
   ]
  },
  {
   "cell_type": "markdown",
   "metadata": {},
   "source": [
    "### 2.3 Data Structures"
   ]
  },
  {
   "cell_type": "code",
   "execution_count": 18,
   "metadata": {},
   "outputs": [
    {
     "name": "stdout",
     "output_type": "stream",
     "text": [
      "a\n",
      "['a', 3]\n",
      "a\n",
      "a\n",
      "['a', 3]\n",
      "a\n"
     ]
    },
    {
     "data": {
      "text/plain": [
       "array(['Grumpy', 'Garfield', 'Nyan Cat', 'Jean'], dtype='<U8')"
      ]
     },
     "execution_count": null,
     "metadata": {},
     "output_type": "execute_result"
    }
   ],
   "source": [
    "#list\n",
    "x = [\"a\", 3, True]\n",
    "print(x[0]) # This returns a list\n",
    "print(x[0:2]) # This returns multiple elements in the list\n",
    "print(x.pop(0))\n",
    "\n",
    "#arrays\n",
    "from numpy import array\n",
    "favorite_cats = array([\"Grumpy\", \"Garfield\", \"Jorts\", \"Jean\"])\n",
    "favorite_cats\n",
    "favorite_cats[2] = \"Nyan Cat\"\n",
    "favorite_cats"
   ]
  },
  {
   "cell_type": "markdown",
   "metadata": {},
   "source": [
    "#### Boolean Masking"
   ]
  },
  {
   "cell_type": "code",
   "execution_count": 23,
   "metadata": {},
   "outputs": [
    {
     "name": "stdout",
     "output_type": "stream",
     "text": [
      "[ True False False False False False  True]\n",
      "['Monday' 'Tuesday' 'Wednesday' 'Thursday' 'Friday']\n",
      "[ True False False False False False  True]\n",
      "['Monday' 'Tuesday' 'Wednesday' 'Thursday' 'Friday']\n"
     ]
    }
   ],
   "source": [
    "# Define a character vector\n",
    "weekdays = array([\"Sunday\", \"Monday\", \"Tuesday\", \"Wednesday\", \"Thursday\", \"Friday\", \"Saturday\"])\n",
    "weekend = array([\"Sunday\", \"Saturday\"])\n",
    "\n",
    "# Create logical vectors manually\n",
    "relax_days = array([True, False, False, False, False, False, True])\n",
    "\n",
    "# Create logical vectors automatically\n",
    "from numpy import isin     # get a special function for arrays\n",
    "relax_days = isin(weekdays, weekend) \n",
    "\n",
    "print(relax_days)\n",
    "\n",
    "# Using ~ to reverse the True and False\n",
    "print(weekdays[~relax_days])"
   ]
  },
  {
   "cell_type": "markdown",
   "metadata": {},
   "source": [
    "## Pandas and Boolean Masking"
   ]
  },
  {
   "cell_type": "code",
   "execution_count": 28,
   "metadata": {},
   "outputs": [
    {
     "name": "stderr",
     "output_type": "stream",
     "text": [
      "<positron-console-cell-28>:8: FutureWarning: ChainedAssignmentError: behaviour will change in pandas 3.0!\n",
      "You are setting values through chained assignment. Currently this works in certain cases, but when using Copy-on-Write (which will become the default behaviour in pandas 3.0) this will never work to update the original DataFrame or Series, because the intermediate object on which we are setting values will behave as a copy.\n",
      "A typical example is when you are setting values in a column of a DataFrame, like:\n",
      "\n",
      "df[\"col\"][row_indexer] = value\n",
      "\n",
      "Use `df.loc[row_indexer, \"col\"] = values` instead, to perform the assignment in a single step and ensure this keeps updating the original `df`.\n",
      "\n",
      "See the caveats in the documentation: https://pandas.pydata.org/pandas-docs/stable/user_guide/indexing.html#returning-a-view-versus-a-copy\n",
      "\n",
      "<positron-console-cell-28>:8: SettingWithCopyWarning: \n",
      "A value is trying to be set on a copy of a slice from a DataFrame\n",
      "\n",
      "See the caveats in the documentation: https://pandas.pydata.org/pandas-docs/stable/user_guide/indexing.html#returning-a-view-versus-a-copy\n"
     ]
    },
    {
     "data": {
      "text/html": [
       "<div>\n",
       "<style scoped>\n",
       "    .dataframe tbody tr th:only-of-type {\n",
       "        vertical-align: middle;\n",
       "    }\n",
       "\n",
       "    .dataframe tbody tr th {\n",
       "        vertical-align: top;\n",
       "    }\n",
       "\n",
       "    .dataframe thead th {\n",
       "        text-align: right;\n",
       "    }\n",
       "</style>\n",
       "<table border=\"1\" class=\"dataframe\">\n",
       "  <thead>\n",
       "    <tr style=\"text-align: right;\">\n",
       "      <th></th>\n",
       "      <th>rowid</th>\n",
       "      <th>species</th>\n",
       "      <th>island</th>\n",
       "      <th>bill_length_mm</th>\n",
       "      <th>bill_depth_mm</th>\n",
       "      <th>flipper_length_mm</th>\n",
       "      <th>body_mass_g</th>\n",
       "      <th>sex</th>\n",
       "      <th>year</th>\n",
       "    </tr>\n",
       "  </thead>\n",
       "  <tbody>\n",
       "    <tr>\n",
       "      <th>0</th>\n",
       "      <td>1</td>\n",
       "      <td>Adelie</td>\n",
       "      <td>Torgersen</td>\n",
       "      <td>39.1</td>\n",
       "      <td>18.7</td>\n",
       "      <td>181.0</td>\n",
       "      <td>10000000.0</td>\n",
       "      <td>male</td>\n",
       "      <td>2007</td>\n",
       "    </tr>\n",
       "    <tr>\n",
       "      <th>169</th>\n",
       "      <td>170</td>\n",
       "      <td>Gentoo</td>\n",
       "      <td>Biscoe</td>\n",
       "      <td>49.2</td>\n",
       "      <td>15.2</td>\n",
       "      <td>221.0</td>\n",
       "      <td>6300.0</td>\n",
       "      <td>male</td>\n",
       "      <td>2007</td>\n",
       "    </tr>\n",
       "    <tr>\n",
       "      <th>185</th>\n",
       "      <td>186</td>\n",
       "      <td>Gentoo</td>\n",
       "      <td>Biscoe</td>\n",
       "      <td>59.6</td>\n",
       "      <td>17.0</td>\n",
       "      <td>230.0</td>\n",
       "      <td>6050.0</td>\n",
       "      <td>male</td>\n",
       "      <td>2007</td>\n",
       "    </tr>\n",
       "  </tbody>\n",
       "</table>\n",
       "</div>"
      ],
      "text/plain": [
       "     rowid species     island  ...  body_mass_g   sex  year\n",
       "0        1  Adelie  Torgersen  ...   10000000.0  male  2007\n",
       "169    170  Gentoo     Biscoe  ...       6300.0  male  2007\n",
       "185    186  Gentoo     Biscoe  ...       6050.0  male  2007\n",
       "\n",
       "[3 rows x 9 columns]"
      ]
     },
     "execution_count": null,
     "metadata": {},
     "output_type": "execute_result"
    }
   ],
   "source": [
    "import pandas as pd\n",
    "\n",
    "dat = pd.read_csv(\"https://gist.githubusercontent.com/slopp/ce3b90b9168f2f921784de84fa445651/raw/4ecf3041f0ed4913e7c230758733948bc561f434/penguins.csv\")\n",
    "## using methods\n",
    "dat.body_mass_g.mean()\n",
    "\n",
    "## editing elements\n",
    "dat.body_mass_g[0] = 10000000\n",
    "dat.body_mass_g\n",
    "\n",
    "## boolean masking\n",
    "big_penguins = dat.body_mass_g > 6000\n",
    "dat.loc[big_penguins]"
   ]
  },
  {
   "cell_type": "markdown",
   "metadata": {},
   "source": [
    "## Chapter 3: Grammar of Graphics"
   ]
  },
  {
   "cell_type": "code",
   "execution_count": 70,
   "metadata": {},
   "outputs": [
    {
     "name": "stderr",
     "output_type": "stream",
     "text": [
      "/opt/anaconda3/lib/python3.12/site-packages/plotnine/layer.py:364: PlotnineWarning: geom_point : Removed 2 rows containing missing values.\n"
     ]
    },
    {
     "data": {
      "image/png": "[encoded data removed]"
     },
     "metadata": {},
     "output_type": "display_data"
    }
   ],
   "source": [
    "from plotnine import *\n",
    "from palmerpenguins import load_penguins\n",
    "penguins = load_penguins()\n",
    "#boxplot\n",
    "(ggplot(penguins,\n",
    "aes(\n",
    "  x = \"species\",\n",
    "  y = \"bill_length_mm\"))\n",
    "+ geom_boxplot(fill = \"blue\")\n",
    ")\n",
    "#scatter\n",
    "(ggplot(penguins,\n",
    "aes(\n",
    "  x = \"bill_length_mm\",\n",
    "  y = \"bill_depth_mm\",\n",
    "  color = \"species\"\n",
    "))\n",
    "+ geom_point()\n",
    ")"
   ]
  },
  {
   "cell_type": "markdown",
   "metadata": {},
   "source": [
    "## Chapter 4"
   ]
  },
  {
   "cell_type": "markdown",
   "metadata": {},
   "source": [
    "### Select"
   ]
  },
  {
   "cell_type": "code",
   "execution_count": 4,
   "metadata": {},
   "outputs": [
    {
     "data": {
      "text/html": [
       "<div>\n",
       "<style scoped>\n",
       "    .dataframe tbody tr th:only-of-type {\n",
       "        vertical-align: middle;\n",
       "    }\n",
       "\n",
       "    .dataframe tbody tr th {\n",
       "        vertical-align: top;\n",
       "    }\n",
       "\n",
       "    .dataframe thead th {\n",
       "        text-align: right;\n",
       "    }\n",
       "</style>\n",
       "<table border=\"1\" class=\"dataframe\">\n",
       "  <thead>\n",
       "    <tr style=\"text-align: right;\">\n",
       "      <th></th>\n",
       "      <th>age</th>\n",
       "      <th>fare</th>\n",
       "    </tr>\n",
       "  </thead>\n",
       "  <tbody>\n",
       "    <tr>\n",
       "      <th>0</th>\n",
       "      <td>42.0</td>\n",
       "      <td>7.11</td>\n",
       "    </tr>\n",
       "    <tr>\n",
       "      <th>1</th>\n",
       "      <td>13.0</td>\n",
       "      <td>20.05</td>\n",
       "    </tr>\n",
       "    <tr>\n",
       "      <th>2</th>\n",
       "      <td>16.0</td>\n",
       "      <td>20.05</td>\n",
       "    </tr>\n",
       "    <tr>\n",
       "      <th>3</th>\n",
       "      <td>39.0</td>\n",
       "      <td>20.05</td>\n",
       "    </tr>\n",
       "    <tr>\n",
       "      <th>4</th>\n",
       "      <td>16.0</td>\n",
       "      <td>7.13</td>\n",
       "    </tr>\n",
       "  </tbody>\n",
       "</table>\n",
       "</div>"
      ],
      "text/plain": [
       "    age   fare\n",
       "0  42.0   7.11\n",
       "1  13.0  20.05\n",
       "2  16.0  20.05\n",
       "3  39.0  20.05\n",
       "4  16.0   7.13"
      ]
     },
     "execution_count": null,
     "metadata": {},
     "output_type": "execute_result"
    }
   ],
   "source": [
    "import numpy as np\n",
    "import pandas as pd\n",
    "data_dir = \"https://dlsun.github.io/pods/data/\"\n",
    "df_titanic = pd.read_csv(data_dir + \"titanic.csv\")\n",
    "#selecting one variable\n",
    "df_titanic.loc[:, \"age\"]\n",
    "df_titanic[\"age\"]\n",
    "df_titanic.age\n",
    "#selecting multiple variables\n",
    "df_titanic.loc[:, [\"age\", \"fare\"]].head()\n",
    "df_titanic[[\"age\", \"fare\"]].head()"
   ]
  },
  {
   "cell_type": "markdown",
   "metadata": {},
   "source": [
    "### Filter"
   ]
  },
  {
   "cell_type": "code",
   "execution_count": 10,
   "metadata": {},
   "outputs": [
    {
     "data": {
      "text/html": [
       "<div>\n",
       "<style scoped>\n",
       "    .dataframe tbody tr th:only-of-type {\n",
       "        vertical-align: middle;\n",
       "    }\n",
       "\n",
       "    .dataframe tbody tr th {\n",
       "        vertical-align: top;\n",
       "    }\n",
       "\n",
       "    .dataframe thead th {\n",
       "        text-align: right;\n",
       "    }\n",
       "</style>\n",
       "<table border=\"1\" class=\"dataframe\">\n",
       "  <thead>\n",
       "    <tr style=\"text-align: right;\">\n",
       "      <th></th>\n",
       "      <th>name</th>\n",
       "      <th>gender</th>\n",
       "      <th>age</th>\n",
       "      <th>class</th>\n",
       "      <th>embarked</th>\n",
       "      <th>country</th>\n",
       "      <th>ticketno</th>\n",
       "      <th>fare</th>\n",
       "      <th>survived</th>\n",
       "    </tr>\n",
       "  </thead>\n",
       "  <tbody>\n",
       "    <tr>\n",
       "      <th>0</th>\n",
       "      <td>Abbing, Mr. Anthony</td>\n",
       "      <td>male</td>\n",
       "      <td>42.0</td>\n",
       "      <td>3rd</td>\n",
       "      <td>S</td>\n",
       "      <td>United States</td>\n",
       "      <td>5547.0</td>\n",
       "      <td>7.1100</td>\n",
       "      <td>0</td>\n",
       "    </tr>\n",
       "    <tr>\n",
       "      <th>3</th>\n",
       "      <td>Abbott, Mrs. Rhoda Mary 'Rosa'</td>\n",
       "      <td>female</td>\n",
       "      <td>39.0</td>\n",
       "      <td>3rd</td>\n",
       "      <td>S</td>\n",
       "      <td>England</td>\n",
       "      <td>2673.0</td>\n",
       "      <td>20.0500</td>\n",
       "      <td>1</td>\n",
       "    </tr>\n",
       "    <tr>\n",
       "      <th>12</th>\n",
       "      <td>Ahlin, Mrs. Johanna Persdotter</td>\n",
       "      <td>female</td>\n",
       "      <td>40.0</td>\n",
       "      <td>3rd</td>\n",
       "      <td>S</td>\n",
       "      <td>Sweden</td>\n",
       "      <td>7546.0</td>\n",
       "      <td>9.0906</td>\n",
       "      <td>0</td>\n",
       "    </tr>\n",
       "    <tr>\n",
       "      <th>15</th>\n",
       "      <td>Aldworth, Mr. Augustus Henry</td>\n",
       "      <td>male</td>\n",
       "      <td>35.0</td>\n",
       "      <td>2nd</td>\n",
       "      <td>S</td>\n",
       "      <td>England</td>\n",
       "      <td>248744.0</td>\n",
       "      <td>13.0000</td>\n",
       "      <td>0</td>\n",
       "    </tr>\n",
       "    <tr>\n",
       "      <th>21</th>\n",
       "      <td>Allen, Mr. William Henry</td>\n",
       "      <td>male</td>\n",
       "      <td>39.0</td>\n",
       "      <td>3rd</td>\n",
       "      <td>S</td>\n",
       "      <td>England</td>\n",
       "      <td>373450.0</td>\n",
       "      <td>8.0100</td>\n",
       "      <td>0</td>\n",
       "    </tr>\n",
       "    <tr>\n",
       "      <th>...</th>\n",
       "      <td>...</td>\n",
       "      <td>...</td>\n",
       "      <td>...</td>\n",
       "      <td>...</td>\n",
       "      <td>...</td>\n",
       "      <td>...</td>\n",
       "      <td>...</td>\n",
       "      <td>...</td>\n",
       "      <td>...</td>\n",
       "    </tr>\n",
       "    <tr>\n",
       "      <th>2197</th>\n",
       "      <td>Worthman, Mr. William Henry</td>\n",
       "      <td>male</td>\n",
       "      <td>37.0</td>\n",
       "      <td>engineering crew</td>\n",
       "      <td>S</td>\n",
       "      <td>England</td>\n",
       "      <td>NaN</td>\n",
       "      <td>NaN</td>\n",
       "      <td>0</td>\n",
       "    </tr>\n",
       "    <tr>\n",
       "      <th>2200</th>\n",
       "      <td>Wright, Mr. William</td>\n",
       "      <td>male</td>\n",
       "      <td>40.0</td>\n",
       "      <td>victualling crew</td>\n",
       "      <td>S</td>\n",
       "      <td>England</td>\n",
       "      <td>NaN</td>\n",
       "      <td>NaN</td>\n",
       "      <td>1</td>\n",
       "    </tr>\n",
       "    <tr>\n",
       "      <th>2202</th>\n",
       "      <td>Wynn, Mr. Walter</td>\n",
       "      <td>male</td>\n",
       "      <td>41.0</td>\n",
       "      <td>deck crew</td>\n",
       "      <td>B</td>\n",
       "      <td>England</td>\n",
       "      <td>NaN</td>\n",
       "      <td>NaN</td>\n",
       "      <td>1</td>\n",
       "    </tr>\n",
       "    <tr>\n",
       "      <th>2203</th>\n",
       "      <td>Yearsley, Mr. Harry</td>\n",
       "      <td>male</td>\n",
       "      <td>40.0</td>\n",
       "      <td>victualling crew</td>\n",
       "      <td>S</td>\n",
       "      <td>England</td>\n",
       "      <td>NaN</td>\n",
       "      <td>NaN</td>\n",
       "      <td>1</td>\n",
       "    </tr>\n",
       "    <tr>\n",
       "      <th>2204</th>\n",
       "      <td>Young, Mr. Francis James</td>\n",
       "      <td>male</td>\n",
       "      <td>32.0</td>\n",
       "      <td>engineering crew</td>\n",
       "      <td>S</td>\n",
       "      <td>England</td>\n",
       "      <td>NaN</td>\n",
       "      <td>NaN</td>\n",
       "      <td>0</td>\n",
       "    </tr>\n",
       "  </tbody>\n",
       "</table>\n",
       "<p>984 rows × 9 columns</p>\n",
       "</div>"
      ],
      "text/plain": [
       "                                name  ... survived\n",
       "0                Abbing, Mr. Anthony  ...        0\n",
       "3     Abbott, Mrs. Rhoda Mary 'Rosa'  ...        1\n",
       "12    Ahlin, Mrs. Johanna Persdotter  ...        0\n",
       "15      Aldworth, Mr. Augustus Henry  ...        0\n",
       "21          Allen, Mr. William Henry  ...        0\n",
       "...                              ...  ...      ...\n",
       "2197     Worthman, Mr. William Henry  ...        0\n",
       "2200             Wright, Mr. William  ...        1\n",
       "2202                Wynn, Mr. Walter  ...        1\n",
       "2203             Yearsley, Mr. Harry  ...        1\n",
       "2204        Young, Mr. Francis James  ...        0\n",
       "\n",
       "[984 rows x 9 columns]"
      ]
     },
     "execution_count": null,
     "metadata": {},
     "output_type": "execute_result"
    }
   ],
   "source": [
    "#selecting based on index (fourth row) (returns a series)\n",
    "df_titanic.iloc[3]\n",
    "#multiple rows (returns a dataframe)\n",
    "df_titanic.iloc[[1, 3]]\n",
    "#range of rows\n",
    "df_titanic.iloc[3:9]\n",
    "#using boolean masking\n",
    "df_titanic[df_titanic[\"age\"] > 30]\n",
    "#multiple conditions\n",
    "df_titanic[(df_titanic[\"age\"] > 30) & (df_titanic[\"gender\"] == \"female\")]"
   ]
  },
  {
   "cell_type": "markdown",
   "metadata": {},
   "source": [
    "### Mutate"
   ]
  },
  {
   "cell_type": "code",
   "execution_count": 18,
   "metadata": {},
   "outputs": [
    {
     "data": {
      "text/html": [
       "<div>\n",
       "<style scoped>\n",
       "    .dataframe tbody tr th:only-of-type {\n",
       "        vertical-align: middle;\n",
       "    }\n",
       "\n",
       "    .dataframe tbody tr th {\n",
       "        vertical-align: top;\n",
       "    }\n",
       "\n",
       "    .dataframe thead th {\n",
       "        text-align: right;\n",
       "    }\n",
       "</style>\n",
       "<table border=\"1\" class=\"dataframe\">\n",
       "  <thead>\n",
       "    <tr style=\"text-align: right;\">\n",
       "      <th></th>\n",
       "      <th>name</th>\n",
       "      <th>gender</th>\n",
       "      <th>age</th>\n",
       "      <th>class</th>\n",
       "      <th>embarked</th>\n",
       "      <th>country</th>\n",
       "      <th>ticketno</th>\n",
       "      <th>fare</th>\n",
       "      <th>survived</th>\n",
       "      <th>nonsense</th>\n",
       "      <th>age_cat</th>\n",
       "      <th>female</th>\n",
       "    </tr>\n",
       "  </thead>\n",
       "  <tbody>\n",
       "    <tr>\n",
       "      <th>0</th>\n",
       "      <td>Abbing, Mr. Anthony</td>\n",
       "      <td>male</td>\n",
       "      <td>42.0</td>\n",
       "      <td>3rd</td>\n",
       "      <td>S</td>\n",
       "      <td>United States</td>\n",
       "      <td>5547.0</td>\n",
       "      <td>7.11</td>\n",
       "      <td>0</td>\n",
       "      <td>0.169286</td>\n",
       "      <td>adult</td>\n",
       "      <td>0</td>\n",
       "    </tr>\n",
       "    <tr>\n",
       "      <th>1</th>\n",
       "      <td>Abbott, Mr. Eugene Joseph</td>\n",
       "      <td>male</td>\n",
       "      <td>13.0</td>\n",
       "      <td>3rd</td>\n",
       "      <td>S</td>\n",
       "      <td>United States</td>\n",
       "      <td>2673.0</td>\n",
       "      <td>20.05</td>\n",
       "      <td>0</td>\n",
       "      <td>1.542308</td>\n",
       "      <td>child</td>\n",
       "      <td>0</td>\n",
       "    </tr>\n",
       "    <tr>\n",
       "      <th>2</th>\n",
       "      <td>Abbott, Mr. Rossmore Edward</td>\n",
       "      <td>male</td>\n",
       "      <td>16.0</td>\n",
       "      <td>3rd</td>\n",
       "      <td>S</td>\n",
       "      <td>United States</td>\n",
       "      <td>2673.0</td>\n",
       "      <td>20.05</td>\n",
       "      <td>0</td>\n",
       "      <td>1.253125</td>\n",
       "      <td>child</td>\n",
       "      <td>0</td>\n",
       "    </tr>\n",
       "    <tr>\n",
       "      <th>3</th>\n",
       "      <td>Abbott, Mrs. Rhoda Mary 'Rosa'</td>\n",
       "      <td>female</td>\n",
       "      <td>39.0</td>\n",
       "      <td>3rd</td>\n",
       "      <td>S</td>\n",
       "      <td>England</td>\n",
       "      <td>2673.0</td>\n",
       "      <td>20.05</td>\n",
       "      <td>1</td>\n",
       "      <td>0.514103</td>\n",
       "      <td>adult</td>\n",
       "      <td>1</td>\n",
       "    </tr>\n",
       "    <tr>\n",
       "      <th>4</th>\n",
       "      <td>Abelseth, Miss. Karen Marie</td>\n",
       "      <td>female</td>\n",
       "      <td>16.0</td>\n",
       "      <td>3rd</td>\n",
       "      <td>S</td>\n",
       "      <td>Norway</td>\n",
       "      <td>348125.0</td>\n",
       "      <td>7.13</td>\n",
       "      <td>1</td>\n",
       "      <td>0.445625</td>\n",
       "      <td>child</td>\n",
       "      <td>1</td>\n",
       "    </tr>\n",
       "  </tbody>\n",
       "</table>\n",
       "</div>"
      ],
      "text/plain": [
       "                             name  ... female\n",
       "0             Abbing, Mr. Anthony  ...      0\n",
       "1       Abbott, Mr. Eugene Joseph  ...      0\n",
       "2     Abbott, Mr. Rossmore Edward  ...      0\n",
       "3  Abbott, Mrs. Rhoda Mary 'Rosa'  ...      1\n",
       "4     Abelseth, Miss. Karen Marie  ...      1\n",
       "\n",
       "[5 rows x 12 columns]"
      ]
     },
     "execution_count": null,
     "metadata": {},
     "output_type": "execute_result"
    }
   ],
   "source": [
    "#take advantage of vectorization\n",
    "df_titanic[\"nonsense\"] = df_titanic[\"fare\"] / df_titanic[\"age\"]\n",
    "#converting quant to categorical\n",
    "df_titanic[\"age_cat\"] = pd.cut(df_titanic[\"age\"],\n",
    "                              bins = [0, 18, 100],\n",
    "                              labels = [\"child\", \"adult\"])\n",
    "\n",
    "#categorical to quantitative (dummy)\n",
    "df_titanic[\"female\"] = 1 * (df_titanic[\"gender\"] == \"female\")\n",
    "df_titanic.head()"
   ]
  },
  {
   "cell_type": "markdown",
   "metadata": {},
   "source": [
    "## Chapter 5"
   ]
  },
  {
   "cell_type": "markdown",
   "metadata": {},
   "source": [
    "### Pivoting "
   ]
  },
  {
   "cell_type": "code",
   "execution_count": 77,
   "metadata": {},
   "outputs": [
    {
     "data": {
      "text/html": [
       "<div>\n",
       "<style scoped>\n",
       "    .dataframe tbody tr th:only-of-type {\n",
       "        vertical-align: middle;\n",
       "    }\n",
       "\n",
       "    .dataframe tbody tr th {\n",
       "        vertical-align: top;\n",
       "    }\n",
       "\n",
       "    .dataframe thead th {\n",
       "        text-align: right;\n",
       "    }\n",
       "</style>\n",
       "<table border=\"1\" class=\"dataframe\">\n",
       "  <thead>\n",
       "    <tr style=\"text-align: right;\">\n",
       "      <th></th>\n",
       "      <th>country</th>\n",
       "      <th>year</th>\n",
       "      <th>population</th>\n",
       "    </tr>\n",
       "  </thead>\n",
       "  <tbody>\n",
       "    <tr>\n",
       "      <th>0</th>\n",
       "      <td>Afghanistan</td>\n",
       "      <td>1800</td>\n",
       "      <td>3.28M</td>\n",
       "    </tr>\n",
       "    <tr>\n",
       "      <th>1</th>\n",
       "      <td>Angola</td>\n",
       "      <td>1800</td>\n",
       "      <td>1.57M</td>\n",
       "    </tr>\n",
       "    <tr>\n",
       "      <th>2</th>\n",
       "      <td>Albania</td>\n",
       "      <td>1800</td>\n",
       "      <td>400k</td>\n",
       "    </tr>\n",
       "    <tr>\n",
       "      <th>3</th>\n",
       "      <td>Andorra</td>\n",
       "      <td>1800</td>\n",
       "      <td>2650</td>\n",
       "    </tr>\n",
       "    <tr>\n",
       "      <th>4</th>\n",
       "      <td>UAE</td>\n",
       "      <td>1800</td>\n",
       "      <td>40.2k</td>\n",
       "    </tr>\n",
       "  </tbody>\n",
       "</table>\n",
       "</div>"
      ],
      "text/plain": [
       "       country  year population\n",
       "0  Afghanistan  1800      3.28M\n",
       "1       Angola  1800      1.57M\n",
       "2      Albania  1800       400k\n",
       "3      Andorra  1800       2650\n",
       "4          UAE  1800      40.2k"
      ]
     },
     "execution_count": null,
     "metadata": {},
     "output_type": "execute_result"
    }
   ],
   "source": [
    "#wide to long\n",
    "# Population data from GapMinder\n",
    "import pandas as pd\n",
    "population = pd.read_csv(\"/Users/stolieerickson/Documents/MSBA/Fall/GSB544-Computing/pop.csv\")\n",
    "long_population = population.melt(id_vars=[\"country\"], var_name=\"year\", value_name=\"population\")\n",
    "long_population.head()"
   ]
  },
  {
   "cell_type": "markdown",
   "metadata": {},
   "source": [
    "## Chapter 6"
   ]
  },
  {
   "cell_type": "code",
   "execution_count": 21,
   "metadata": {},
   "outputs": [
    {
     "name": "stdout",
     "output_type": "stream",
     "text": [
      "20\n",
      "15\n",
      "20\n",
      "15\n"
     ]
    }
   ],
   "source": [
    "#scope \n",
    "a = 10\n",
    "\n",
    "def myfun(a):\n",
    "  \n",
    "  a = a + 10\n",
    "  \n",
    "  return a\n",
    "\n",
    "\n",
    "print(myfun(a))\n",
    "\n",
    "print(a + 5)\n",
    "\n",
    "refined_results = results.find_all(\"class name\", string=\"search text\")"
   ]
  },
  {
   "cell_type": "markdown",
   "metadata": {},
   "source": [
    "## Chapter 7"
   ]
  },
  {
   "cell_type": "code",
   "execution_count": 81,
   "metadata": {},
   "outputs": [
    {
     "name": "stdout",
     "output_type": "stream",
     "text": [
      "100 bottles of beer on the wall\n",
      "100 bottles of beer\n",
      " take one down, pass it around,\n",
      "99 bottles of beer on the wall\n",
      "99 bottles of beer on the wall\n",
      "99 bottles of beer\n",
      " take one down, pass it around,\n",
      "98 bottles of beer on the wall\n",
      "98 bottles of beer on the wall\n",
      "98 bottles of beer\n",
      " take one down, pass it around,\n",
      "97 bottles of beer on the wall\n",
      "100 bottles of beer on the wall\n",
      "100 bottles of beer\n",
      " take one down, pass it around,\n",
      "99 bottles of beer on the wall\n",
      "99 bottles of beer on the wall\n",
      "99 bottles of beer\n",
      " take one down, pass it around,\n",
      "98 bottles of beer on the wall\n",
      "98 bottles of beer on the wall\n",
      "98 bottles of beer\n",
      " take one down, pass it around,\n",
      "97 bottles of beer on the wall\n"
     ]
    }
   ],
   "source": [
    "for i in range(100,97,-1):\n",
    "  print(str(i) + \" bottles of beer on the wall\")\n",
    "  print(str(i) + \" bottles of beer\")\n",
    "  print(\" take one down, pass it around,\")\n",
    "  print(str(i-1) + \" bottles of beer on the wall\")"
   ]
  },
  {
   "cell_type": "markdown",
   "metadata": {},
   "source": [
    "### Boolean Masking"
   ]
  },
  {
   "cell_type": "code",
   "execution_count": 84,
   "metadata": {},
   "outputs": [
    {
     "name": "stdout",
     "output_type": "stream",
     "text": [
      "[False  True False False  True]\n",
      "[-2  1 -3 -9  2]\n",
      "[False  True False False  True]\n",
      "[-2  1 -3 -9  2]\n"
     ]
    }
   ],
   "source": [
    "a_vec = np.array([-2, 1, -3, -9, 7])\n",
    "\n",
    "is_pos = a_vec > 0\n",
    "\n",
    "a_vec[is_pos] = np.sqrt(a_vec[is_pos])\n",
    "\n",
    "print(is_pos)\n",
    "print(a_vec)"
   ]
  },
  {
   "cell_type": "markdown",
   "metadata": {},
   "source": [
    "## Chapter 9"
   ]
  },
  {
   "cell_type": "code",
   "execution_count": 23,
   "metadata": {},
   "outputs": [
    {
     "data": {
      "text/plain": [
       "'s erroneously'"
      ]
     },
     "execution_count": null,
     "metadata": {},
     "output_type": "execute_result"
    }
   ],
   "source": [
    "string_1 = \"Moses supposes his toeses are roses,\"\n",
    "string_2 = \"Moses supposes erroneously.\"\n",
    "\n",
    "string_1 + \", but \" + string_2\n",
    "\n",
    "string_1[0:5]\n",
    "string_1[5:]\n",
    "string_2[-12:-1]"
   ]
  },
  {
   "cell_type": "code",
   "execution_count": 25,
   "metadata": {},
   "outputs": [
    {
     "name": "stdout",
     "output_type": "stream",
     "text": [
      "5\n",
      "1\n",
      "5\n",
      "5\n",
      "1\n",
      "5\n"
     ]
    },
    {
     "data": {
      "text/plain": [
       "'My name is Baldwin, James Baldwin.'"
      ]
     },
     "execution_count": null,
     "metadata": {},
     "output_type": "execute_result"
    }
   ],
   "source": [
    "me = \"Kelly\"\n",
    "me_list = [\"Kelly\"]\n",
    "\n",
    "print(len(me))\n",
    "print(len(me_list))\n",
    "print(len(me_list[0]))\n",
    "\n",
    "string_4 = \"My name is {lastname}, {firstname} {lastname}.\"\n",
    "string_4.format(firstname = \"James\", lastname = \"Baldwin\")\n",
    "\n",
    "\n",
    "new_list = list(map(lambda x: x.replace(\"fish\", \"moose\"), fish_list))\n"
   ]
  },
  {
   "cell_type": "markdown",
   "metadata": {},
   "source": [
    "### Regular Expressions"
   ]
  },
  {
   "cell_type": "code",
   "execution_count": 27,
   "metadata": {},
   "outputs": [
    {
     "data": {
      "text/plain": [
       "['Kelly', 'Kellly']"
      ]
     },
     "execution_count": null,
     "metadata": {},
     "output_type": "execute_result"
    }
   ],
   "source": [
    "import re\n",
    "names = \"Key, Kely, Kelly, Kellly, Kelllly\"\n",
    "re.findall(r\"Kel+y\", names)\n",
    "re.findall(r\"Kel*y\", names)\n",
    "re.findall(r\"Kel?y\", names)\n",
    "re.findall(r\"Kel{2}y\", names)\n",
    "re.findall(r\"Kel{2,3}y\", names)\n",
    "\n",
    "#escaping\n",
    "string_5 = \"Are you *really* happy?\"\n",
    "re.findall(r\"\\*\\w+\\*\", string_5) "
   ]
  },
  {
   "cell_type": "code",
   "execution_count": 68,
   "metadata": {},
   "outputs": [
    {
     "data": {
      "text/plain": [
       "6"
      ]
     },
     "execution_count": null,
     "metadata": {},
     "output_type": "execute_result"
    }
   ],
   "source": [
    "from numpy import matrix\n",
    "x = matrix([[1, 2, 3], [4, 5, 6]])\n",
    "x[1, 2]"
   ]
  },
  {
   "cell_type": "code",
   "execution_count": 74,
   "metadata": {},
   "outputs": [
    {
     "data": {
      "text/plain": [
       "11"
      ]
     },
     "execution_count": null,
     "metadata": {},
     "output_type": "execute_result"
    }
   ],
   "source": [
    "#environments\n",
    "#EXAMPLE 1\n",
    "b = 10\n",
    "\n",
    "def myfun():\n",
    "  b = 20\n",
    "  return b + 1\n",
    "\n",
    "myfun()\n",
    "#local environment: b = 20 because you are not reassigning\n",
    "#global environment: b = 10\n",
    "\n",
    "#EXAMPLE 2\n",
    "def myfun2():\n",
    "  a = 10\n",
    "  return a + 1\n",
    "\n",
    "myfun2()\n",
    "#local environment: a = 10 because you are not reassigning\n",
    "#global environment: a does not exist\n"
   ]
  },
  {
   "cell_type": "code",
   "execution_count": 66,
   "metadata": {},
   "outputs": [
    {
     "data": {
      "text/plain": [
       "24"
      ]
     },
     "execution_count": null,
     "metadata": {},
     "output_type": "execute_result"
    }
   ],
   "source": [
    "nursery_rhyme = \"Peter Piper picked a peck of pickled peppers, A peck of pickled peppers Peter Piper picked; If Peter Piper picked a peck of pickled peppers, Where’s the peck of pickled peppers Peter Piper picked?\"\n",
    "nursery_lower = nursery_rhyme.lower()\n",
    "len(re.findall(r\"\\bp\", nursery_lower))"
   ]
  }
 ],
 "metadata": {
  "language_info": {
   "name": "python"
  }
 },
 "nbformat": 4,
 "nbformat_minor": 2
}
